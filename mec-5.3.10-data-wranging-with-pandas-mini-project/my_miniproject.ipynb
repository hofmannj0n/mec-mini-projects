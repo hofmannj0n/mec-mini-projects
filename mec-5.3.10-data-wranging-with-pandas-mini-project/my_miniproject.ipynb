{
  "cells": [
    {
      "cell_type": "markdown",
      "metadata": {
        "id": "-0KZzsxZALUm"
      },
      "source": [
        "# Mini-Project: Data Wrangling and Transformation with Pandas\n",
        "\n",
        "Working with tabular data is a necessity for anyone with enterprises having a majority of their data in relational databases and flat files. This mini-project is adopted from the excellent tutorial on pandas by Brandon Rhodes which you have watched earlier in the Data Wrangling Unit. In this mini-project, we will be looking at some interesting data based on movie data from the IMDB.\n",
        "\n",
        "This assignment should help you reinforce the concepts you learnt in the curriculum for Data Wrangling and sharpen your skills in using Pandas. Good Luck!"
      ]
    },
    {
      "cell_type": "markdown",
      "metadata": {
        "id": "-6CjNJmUALUo"
      },
      "source": [
        "### Please make sure you have one of the more recent versions of Pandas"
      ]
    },
    {
      "cell_type": "code",
      "execution_count": 1,
      "metadata": {
        "id": "fP-OTpw8ALUp"
      },
      "outputs": [],
      "source": [
        "import pandas as pd\n",
        "import matplotlib.pyplot as plt\n",
        "\n",
        "%matplotlib inline"
      ]
    },
    {
      "cell_type": "code",
      "execution_count": 2,
      "metadata": {
        "colab": {
          "base_uri": "https://localhost:8080/",
          "height": 35
        },
        "id": "48ogfGT7ALUq",
        "outputId": "b988e682-a63b-4458-b1ec-293bac93dcd1"
      },
      "outputs": [
        {
          "output_type": "execute_result",
          "data": {
            "text/plain": [
              "'1.5.3'"
            ],
            "application/vnd.google.colaboratory.intrinsic+json": {
              "type": "string"
            }
          },
          "metadata": {},
          "execution_count": 2
        }
      ],
      "source": [
        "pd.__version__"
      ]
    },
    {
      "cell_type": "markdown",
      "metadata": {
        "id": "9JoX7RonALUr"
      },
      "source": [
        "## Taking a look at the Movies dataset\n",
        "This data shows the movies based on their title and the year of release"
      ]
    },
    {
      "cell_type": "code",
      "execution_count": 3,
      "metadata": {
        "colab": {
          "base_uri": "https://localhost:8080/"
        },
        "id": "wEV5PTp1ALUr",
        "outputId": "b639adfa-bf29-4333-fb18-cfabc65b7449"
      },
      "outputs": [
        {
          "output_type": "stream",
          "name": "stdout",
          "text": [
            "<class 'pandas.core.frame.DataFrame'>\n",
            "RangeIndex: 244914 entries, 0 to 244913\n",
            "Data columns (total 2 columns):\n",
            " #   Column  Non-Null Count   Dtype \n",
            "---  ------  --------------   ----- \n",
            " 0   title   244914 non-null  object\n",
            " 1   year    244914 non-null  int64 \n",
            "dtypes: int64(1), object(1)\n",
            "memory usage: 3.7+ MB\n"
          ]
        }
      ],
      "source": [
        "movies = pd.read_csv('titles.csv')\n",
        "movies.info()"
      ]
    },
    {
      "cell_type": "code",
      "execution_count": 4,
      "metadata": {
        "colab": {
          "base_uri": "https://localhost:8080/",
          "height": 206
        },
        "id": "FBuLtoKnALUr",
        "outputId": "fee20e93-6f94-4aaa-d18d-97ac3492b23f"
      },
      "outputs": [
        {
          "output_type": "execute_result",
          "data": {
            "text/plain": [
              "                                          title  year\n",
              "0                        The Ticket to the Life  2009\n",
              "1  Parallel Worlds: A New Rock Music Experience  2016\n",
              "2                     Morita - La hija de Jesus  2008\n",
              "3                                           Gun  2017\n",
              "4                        Love or Nothing at All  2014"
            ],
            "text/html": [
              "\n",
              "  <div id=\"df-a4c3332f-f984-423b-97fd-98d96bba1cdf\">\n",
              "    <div class=\"colab-df-container\">\n",
              "      <div>\n",
              "<style scoped>\n",
              "    .dataframe tbody tr th:only-of-type {\n",
              "        vertical-align: middle;\n",
              "    }\n",
              "\n",
              "    .dataframe tbody tr th {\n",
              "        vertical-align: top;\n",
              "    }\n",
              "\n",
              "    .dataframe thead th {\n",
              "        text-align: right;\n",
              "    }\n",
              "</style>\n",
              "<table border=\"1\" class=\"dataframe\">\n",
              "  <thead>\n",
              "    <tr style=\"text-align: right;\">\n",
              "      <th></th>\n",
              "      <th>title</th>\n",
              "      <th>year</th>\n",
              "    </tr>\n",
              "  </thead>\n",
              "  <tbody>\n",
              "    <tr>\n",
              "      <th>0</th>\n",
              "      <td>The Ticket to the Life</td>\n",
              "      <td>2009</td>\n",
              "    </tr>\n",
              "    <tr>\n",
              "      <th>1</th>\n",
              "      <td>Parallel Worlds: A New Rock Music Experience</td>\n",
              "      <td>2016</td>\n",
              "    </tr>\n",
              "    <tr>\n",
              "      <th>2</th>\n",
              "      <td>Morita - La hija de Jesus</td>\n",
              "      <td>2008</td>\n",
              "    </tr>\n",
              "    <tr>\n",
              "      <th>3</th>\n",
              "      <td>Gun</td>\n",
              "      <td>2017</td>\n",
              "    </tr>\n",
              "    <tr>\n",
              "      <th>4</th>\n",
              "      <td>Love or Nothing at All</td>\n",
              "      <td>2014</td>\n",
              "    </tr>\n",
              "  </tbody>\n",
              "</table>\n",
              "</div>\n",
              "      <button class=\"colab-df-convert\" onclick=\"convertToInteractive('df-a4c3332f-f984-423b-97fd-98d96bba1cdf')\"\n",
              "              title=\"Convert this dataframe to an interactive table.\"\n",
              "              style=\"display:none;\">\n",
              "        \n",
              "  <svg xmlns=\"http://www.w3.org/2000/svg\" height=\"24px\"viewBox=\"0 0 24 24\"\n",
              "       width=\"24px\">\n",
              "    <path d=\"M0 0h24v24H0V0z\" fill=\"none\"/>\n",
              "    <path d=\"M18.56 5.44l.94 2.06.94-2.06 2.06-.94-2.06-.94-.94-2.06-.94 2.06-2.06.94zm-11 1L8.5 8.5l.94-2.06 2.06-.94-2.06-.94L8.5 2.5l-.94 2.06-2.06.94zm10 10l.94 2.06.94-2.06 2.06-.94-2.06-.94-.94-2.06-.94 2.06-2.06.94z\"/><path d=\"M17.41 7.96l-1.37-1.37c-.4-.4-.92-.59-1.43-.59-.52 0-1.04.2-1.43.59L10.3 9.45l-7.72 7.72c-.78.78-.78 2.05 0 2.83L4 21.41c.39.39.9.59 1.41.59.51 0 1.02-.2 1.41-.59l7.78-7.78 2.81-2.81c.8-.78.8-2.07 0-2.86zM5.41 20L4 18.59l7.72-7.72 1.47 1.35L5.41 20z\"/>\n",
              "  </svg>\n",
              "      </button>\n",
              "      \n",
              "  <style>\n",
              "    .colab-df-container {\n",
              "      display:flex;\n",
              "      flex-wrap:wrap;\n",
              "      gap: 12px;\n",
              "    }\n",
              "\n",
              "    .colab-df-convert {\n",
              "      background-color: #E8F0FE;\n",
              "      border: none;\n",
              "      border-radius: 50%;\n",
              "      cursor: pointer;\n",
              "      display: none;\n",
              "      fill: #1967D2;\n",
              "      height: 32px;\n",
              "      padding: 0 0 0 0;\n",
              "      width: 32px;\n",
              "    }\n",
              "\n",
              "    .colab-df-convert:hover {\n",
              "      background-color: #E2EBFA;\n",
              "      box-shadow: 0px 1px 2px rgba(60, 64, 67, 0.3), 0px 1px 3px 1px rgba(60, 64, 67, 0.15);\n",
              "      fill: #174EA6;\n",
              "    }\n",
              "\n",
              "    [theme=dark] .colab-df-convert {\n",
              "      background-color: #3B4455;\n",
              "      fill: #D2E3FC;\n",
              "    }\n",
              "\n",
              "    [theme=dark] .colab-df-convert:hover {\n",
              "      background-color: #434B5C;\n",
              "      box-shadow: 0px 1px 3px 1px rgba(0, 0, 0, 0.15);\n",
              "      filter: drop-shadow(0px 1px 2px rgba(0, 0, 0, 0.3));\n",
              "      fill: #FFFFFF;\n",
              "    }\n",
              "  </style>\n",
              "\n",
              "      <script>\n",
              "        const buttonEl =\n",
              "          document.querySelector('#df-a4c3332f-f984-423b-97fd-98d96bba1cdf button.colab-df-convert');\n",
              "        buttonEl.style.display =\n",
              "          google.colab.kernel.accessAllowed ? 'block' : 'none';\n",
              "\n",
              "        async function convertToInteractive(key) {\n",
              "          const element = document.querySelector('#df-a4c3332f-f984-423b-97fd-98d96bba1cdf');\n",
              "          const dataTable =\n",
              "            await google.colab.kernel.invokeFunction('convertToInteractive',\n",
              "                                                     [key], {});\n",
              "          if (!dataTable) return;\n",
              "\n",
              "          const docLinkHtml = 'Like what you see? Visit the ' +\n",
              "            '<a target=\"_blank\" href=https://colab.research.google.com/notebooks/data_table.ipynb>data table notebook</a>'\n",
              "            + ' to learn more about interactive tables.';\n",
              "          element.innerHTML = '';\n",
              "          dataTable['output_type'] = 'display_data';\n",
              "          await google.colab.output.renderOutput(dataTable, element);\n",
              "          const docLink = document.createElement('div');\n",
              "          docLink.innerHTML = docLinkHtml;\n",
              "          element.appendChild(docLink);\n",
              "        }\n",
              "      </script>\n",
              "    </div>\n",
              "  </div>\n",
              "  "
            ]
          },
          "metadata": {},
          "execution_count": 4
        }
      ],
      "source": [
        "movies.head()"
      ]
    },
    {
      "cell_type": "markdown",
      "metadata": {
        "id": "eHgHVySVALUr"
      },
      "source": [
        "## Taking a look at the Cast dataset\n",
        "\n",
        "This data shows the cast (actors, actresses, supporting roles) for each movie\n",
        "\n",
        "- The attribute `n` basically tells the importance of the cast role, lower the number, more important the role.\n",
        "- Supporting cast usually don't have any value for `n`"
      ]
    },
    {
      "cell_type": "code",
      "execution_count": 5,
      "metadata": {
        "id": "JdYxpAX_ALUs",
        "outputId": "3e1838b9-51c9-44c6-9037-8c91a0d6ba09",
        "colab": {
          "base_uri": "https://localhost:8080/"
        }
      },
      "outputs": [
        {
          "output_type": "stream",
          "name": "stdout",
          "text": [
            "<class 'pandas.core.frame.DataFrame'>\n",
            "RangeIndex: 2957028 entries, 0 to 2957027\n",
            "Data columns (total 6 columns):\n",
            " #   Column     Dtype  \n",
            "---  ------     -----  \n",
            " 0   title      object \n",
            " 1   year       int64  \n",
            " 2   name       object \n",
            " 3   type       object \n",
            " 4   character  object \n",
            " 5   n          float64\n",
            "dtypes: float64(1), int64(1), object(4)\n",
            "memory usage: 135.4+ MB\n"
          ]
        }
      ],
      "source": [
        "cast = pd.read_csv('cast.csv')\n",
        "cast.info()"
      ]
    },
    {
      "cell_type": "code",
      "execution_count": 6,
      "metadata": {
        "id": "JG10KWFLALUs",
        "outputId": "b8bb38f6-939f-4cb6-b526-32c97edd8b54",
        "colab": {
          "base_uri": "https://localhost:8080/",
          "height": 363
        }
      },
      "outputs": [
        {
          "output_type": "execute_result",
          "data": {
            "text/plain": [
              "                                               title  year  \\\n",
              "0                                     Closet Monster  2015   \n",
              "1                                    Suuri illusioni  1985   \n",
              "2                                Battle of the Sexes  2017   \n",
              "3                               Secret in Their Eyes  2015   \n",
              "4                                         Steve Jobs  2015   \n",
              "5                             Straight Outta Compton  2015   \n",
              "6                             Straight Outta Compton  2015   \n",
              "7                                     For Thy Love 2  2009   \n",
              "8  Lapis, Ballpen at Diploma, a True to Life Journey  2014   \n",
              "9                                       Desire (III)  2014   \n",
              "\n",
              "                        name   type                               character  \\\n",
              "0                   Buffy #1  actor                                 Buffy 4   \n",
              "1                     Homo $  actor                                  Guests   \n",
              "2                    $hutter  actor                         Bobby Riggs Fan   \n",
              "3                    $hutter  actor                         2002 Dodger Fan   \n",
              "4                    $hutter  actor                 1988 Opera House Patron   \n",
              "5                    $hutter  actor                             Club Patron   \n",
              "6                    $hutter  actor                                 Dopeman   \n",
              "7               Bee Moe $lim  actor                                  Thug 1   \n",
              "8  Jori ' Danilo' Jurado Jr.  actor                           Jaime (young)   \n",
              "9           Syaiful 'Ariffin  actor  Actor Playing Eteocles from 'Antigone'   \n",
              "\n",
              "      n  \n",
              "0  31.0  \n",
              "1  22.0  \n",
              "2  10.0  \n",
              "3   NaN  \n",
              "4   NaN  \n",
              "5   NaN  \n",
              "6   NaN  \n",
              "7   NaN  \n",
              "8   9.0  \n",
              "9   NaN  "
            ],
            "text/html": [
              "\n",
              "  <div id=\"df-e2b7fd5a-a37c-45b2-b8e9-e756918cdc0d\">\n",
              "    <div class=\"colab-df-container\">\n",
              "      <div>\n",
              "<style scoped>\n",
              "    .dataframe tbody tr th:only-of-type {\n",
              "        vertical-align: middle;\n",
              "    }\n",
              "\n",
              "    .dataframe tbody tr th {\n",
              "        vertical-align: top;\n",
              "    }\n",
              "\n",
              "    .dataframe thead th {\n",
              "        text-align: right;\n",
              "    }\n",
              "</style>\n",
              "<table border=\"1\" class=\"dataframe\">\n",
              "  <thead>\n",
              "    <tr style=\"text-align: right;\">\n",
              "      <th></th>\n",
              "      <th>title</th>\n",
              "      <th>year</th>\n",
              "      <th>name</th>\n",
              "      <th>type</th>\n",
              "      <th>character</th>\n",
              "      <th>n</th>\n",
              "    </tr>\n",
              "  </thead>\n",
              "  <tbody>\n",
              "    <tr>\n",
              "      <th>0</th>\n",
              "      <td>Closet Monster</td>\n",
              "      <td>2015</td>\n",
              "      <td>Buffy #1</td>\n",
              "      <td>actor</td>\n",
              "      <td>Buffy 4</td>\n",
              "      <td>31.0</td>\n",
              "    </tr>\n",
              "    <tr>\n",
              "      <th>1</th>\n",
              "      <td>Suuri illusioni</td>\n",
              "      <td>1985</td>\n",
              "      <td>Homo $</td>\n",
              "      <td>actor</td>\n",
              "      <td>Guests</td>\n",
              "      <td>22.0</td>\n",
              "    </tr>\n",
              "    <tr>\n",
              "      <th>2</th>\n",
              "      <td>Battle of the Sexes</td>\n",
              "      <td>2017</td>\n",
              "      <td>$hutter</td>\n",
              "      <td>actor</td>\n",
              "      <td>Bobby Riggs Fan</td>\n",
              "      <td>10.0</td>\n",
              "    </tr>\n",
              "    <tr>\n",
              "      <th>3</th>\n",
              "      <td>Secret in Their Eyes</td>\n",
              "      <td>2015</td>\n",
              "      <td>$hutter</td>\n",
              "      <td>actor</td>\n",
              "      <td>2002 Dodger Fan</td>\n",
              "      <td>NaN</td>\n",
              "    </tr>\n",
              "    <tr>\n",
              "      <th>4</th>\n",
              "      <td>Steve Jobs</td>\n",
              "      <td>2015</td>\n",
              "      <td>$hutter</td>\n",
              "      <td>actor</td>\n",
              "      <td>1988 Opera House Patron</td>\n",
              "      <td>NaN</td>\n",
              "    </tr>\n",
              "    <tr>\n",
              "      <th>5</th>\n",
              "      <td>Straight Outta Compton</td>\n",
              "      <td>2015</td>\n",
              "      <td>$hutter</td>\n",
              "      <td>actor</td>\n",
              "      <td>Club Patron</td>\n",
              "      <td>NaN</td>\n",
              "    </tr>\n",
              "    <tr>\n",
              "      <th>6</th>\n",
              "      <td>Straight Outta Compton</td>\n",
              "      <td>2015</td>\n",
              "      <td>$hutter</td>\n",
              "      <td>actor</td>\n",
              "      <td>Dopeman</td>\n",
              "      <td>NaN</td>\n",
              "    </tr>\n",
              "    <tr>\n",
              "      <th>7</th>\n",
              "      <td>For Thy Love 2</td>\n",
              "      <td>2009</td>\n",
              "      <td>Bee Moe $lim</td>\n",
              "      <td>actor</td>\n",
              "      <td>Thug 1</td>\n",
              "      <td>NaN</td>\n",
              "    </tr>\n",
              "    <tr>\n",
              "      <th>8</th>\n",
              "      <td>Lapis, Ballpen at Diploma, a True to Life Journey</td>\n",
              "      <td>2014</td>\n",
              "      <td>Jori ' Danilo' Jurado Jr.</td>\n",
              "      <td>actor</td>\n",
              "      <td>Jaime (young)</td>\n",
              "      <td>9.0</td>\n",
              "    </tr>\n",
              "    <tr>\n",
              "      <th>9</th>\n",
              "      <td>Desire (III)</td>\n",
              "      <td>2014</td>\n",
              "      <td>Syaiful 'Ariffin</td>\n",
              "      <td>actor</td>\n",
              "      <td>Actor Playing Eteocles from 'Antigone'</td>\n",
              "      <td>NaN</td>\n",
              "    </tr>\n",
              "  </tbody>\n",
              "</table>\n",
              "</div>\n",
              "      <button class=\"colab-df-convert\" onclick=\"convertToInteractive('df-e2b7fd5a-a37c-45b2-b8e9-e756918cdc0d')\"\n",
              "              title=\"Convert this dataframe to an interactive table.\"\n",
              "              style=\"display:none;\">\n",
              "        \n",
              "  <svg xmlns=\"http://www.w3.org/2000/svg\" height=\"24px\"viewBox=\"0 0 24 24\"\n",
              "       width=\"24px\">\n",
              "    <path d=\"M0 0h24v24H0V0z\" fill=\"none\"/>\n",
              "    <path d=\"M18.56 5.44l.94 2.06.94-2.06 2.06-.94-2.06-.94-.94-2.06-.94 2.06-2.06.94zm-11 1L8.5 8.5l.94-2.06 2.06-.94-2.06-.94L8.5 2.5l-.94 2.06-2.06.94zm10 10l.94 2.06.94-2.06 2.06-.94-2.06-.94-.94-2.06-.94 2.06-2.06.94z\"/><path d=\"M17.41 7.96l-1.37-1.37c-.4-.4-.92-.59-1.43-.59-.52 0-1.04.2-1.43.59L10.3 9.45l-7.72 7.72c-.78.78-.78 2.05 0 2.83L4 21.41c.39.39.9.59 1.41.59.51 0 1.02-.2 1.41-.59l7.78-7.78 2.81-2.81c.8-.78.8-2.07 0-2.86zM5.41 20L4 18.59l7.72-7.72 1.47 1.35L5.41 20z\"/>\n",
              "  </svg>\n",
              "      </button>\n",
              "      \n",
              "  <style>\n",
              "    .colab-df-container {\n",
              "      display:flex;\n",
              "      flex-wrap:wrap;\n",
              "      gap: 12px;\n",
              "    }\n",
              "\n",
              "    .colab-df-convert {\n",
              "      background-color: #E8F0FE;\n",
              "      border: none;\n",
              "      border-radius: 50%;\n",
              "      cursor: pointer;\n",
              "      display: none;\n",
              "      fill: #1967D2;\n",
              "      height: 32px;\n",
              "      padding: 0 0 0 0;\n",
              "      width: 32px;\n",
              "    }\n",
              "\n",
              "    .colab-df-convert:hover {\n",
              "      background-color: #E2EBFA;\n",
              "      box-shadow: 0px 1px 2px rgba(60, 64, 67, 0.3), 0px 1px 3px 1px rgba(60, 64, 67, 0.15);\n",
              "      fill: #174EA6;\n",
              "    }\n",
              "\n",
              "    [theme=dark] .colab-df-convert {\n",
              "      background-color: #3B4455;\n",
              "      fill: #D2E3FC;\n",
              "    }\n",
              "\n",
              "    [theme=dark] .colab-df-convert:hover {\n",
              "      background-color: #434B5C;\n",
              "      box-shadow: 0px 1px 3px 1px rgba(0, 0, 0, 0.15);\n",
              "      filter: drop-shadow(0px 1px 2px rgba(0, 0, 0, 0.3));\n",
              "      fill: #FFFFFF;\n",
              "    }\n",
              "  </style>\n",
              "\n",
              "      <script>\n",
              "        const buttonEl =\n",
              "          document.querySelector('#df-e2b7fd5a-a37c-45b2-b8e9-e756918cdc0d button.colab-df-convert');\n",
              "        buttonEl.style.display =\n",
              "          google.colab.kernel.accessAllowed ? 'block' : 'none';\n",
              "\n",
              "        async function convertToInteractive(key) {\n",
              "          const element = document.querySelector('#df-e2b7fd5a-a37c-45b2-b8e9-e756918cdc0d');\n",
              "          const dataTable =\n",
              "            await google.colab.kernel.invokeFunction('convertToInteractive',\n",
              "                                                     [key], {});\n",
              "          if (!dataTable) return;\n",
              "\n",
              "          const docLinkHtml = 'Like what you see? Visit the ' +\n",
              "            '<a target=\"_blank\" href=https://colab.research.google.com/notebooks/data_table.ipynb>data table notebook</a>'\n",
              "            + ' to learn more about interactive tables.';\n",
              "          element.innerHTML = '';\n",
              "          dataTable['output_type'] = 'display_data';\n",
              "          await google.colab.output.renderOutput(dataTable, element);\n",
              "          const docLink = document.createElement('div');\n",
              "          docLink.innerHTML = docLinkHtml;\n",
              "          element.appendChild(docLink);\n",
              "        }\n",
              "      </script>\n",
              "    </div>\n",
              "  </div>\n",
              "  "
            ]
          },
          "metadata": {},
          "execution_count": 6
        }
      ],
      "source": [
        "cast.head(10)"
      ]
    },
    {
      "cell_type": "markdown",
      "metadata": {
        "id": "7AaBnLo7ALUs"
      },
      "source": [
        "## Taking a look at the Release dataset\n",
        "\n",
        "This data shows details of when each movie was release in each country with the release date"
      ]
    },
    {
      "cell_type": "code",
      "execution_count": 7,
      "metadata": {
        "id": "V1uj-VyYALUs",
        "outputId": "49a944bf-bee3-4692-bfde-d84cf1b3c405",
        "colab": {
          "base_uri": "https://localhost:8080/"
        }
      },
      "outputs": [
        {
          "output_type": "stream",
          "name": "stdout",
          "text": [
            "<class 'pandas.core.frame.DataFrame'>\n",
            "RangeIndex: 479488 entries, 0 to 479487\n",
            "Data columns (total 4 columns):\n",
            " #   Column   Non-Null Count   Dtype         \n",
            "---  ------   --------------   -----         \n",
            " 0   title    479488 non-null  object        \n",
            " 1   year     479488 non-null  int64         \n",
            " 2   country  479488 non-null  object        \n",
            " 3   date     479488 non-null  datetime64[ns]\n",
            "dtypes: datetime64[ns](1), int64(1), object(2)\n",
            "memory usage: 14.6+ MB\n"
          ]
        }
      ],
      "source": [
        "release_dates = pd.read_csv('release_dates.csv', parse_dates=['date'], infer_datetime_format=True)\n",
        "release_dates.info()"
      ]
    },
    {
      "cell_type": "code",
      "execution_count": 8,
      "metadata": {
        "id": "hsPiSYebALUt",
        "outputId": "b426ac5a-7b1b-49ba-d410-41ad9ee6510e",
        "colab": {
          "base_uri": "https://localhost:8080/",
          "height": 206
        }
      },
      "outputs": [
        {
          "output_type": "execute_result",
          "data": {
            "text/plain": [
              "                    title  year      country       date\n",
              "0   #73, Shaanthi Nivaasa  2007        India 2007-06-15\n",
              "1                   #BKKY  2016     Cambodia 2017-10-12\n",
              "2                 #Beings  2015      Romania 2015-01-29\n",
              "3               #Captured  2017          USA 2017-09-05\n",
              "4  #Ewankosau saranghaeyo  2015  Philippines 2015-01-21"
            ],
            "text/html": [
              "\n",
              "  <div id=\"df-efffb32f-9eca-45c6-b967-928b8faf0c2d\">\n",
              "    <div class=\"colab-df-container\">\n",
              "      <div>\n",
              "<style scoped>\n",
              "    .dataframe tbody tr th:only-of-type {\n",
              "        vertical-align: middle;\n",
              "    }\n",
              "\n",
              "    .dataframe tbody tr th {\n",
              "        vertical-align: top;\n",
              "    }\n",
              "\n",
              "    .dataframe thead th {\n",
              "        text-align: right;\n",
              "    }\n",
              "</style>\n",
              "<table border=\"1\" class=\"dataframe\">\n",
              "  <thead>\n",
              "    <tr style=\"text-align: right;\">\n",
              "      <th></th>\n",
              "      <th>title</th>\n",
              "      <th>year</th>\n",
              "      <th>country</th>\n",
              "      <th>date</th>\n",
              "    </tr>\n",
              "  </thead>\n",
              "  <tbody>\n",
              "    <tr>\n",
              "      <th>0</th>\n",
              "      <td>#73, Shaanthi Nivaasa</td>\n",
              "      <td>2007</td>\n",
              "      <td>India</td>\n",
              "      <td>2007-06-15</td>\n",
              "    </tr>\n",
              "    <tr>\n",
              "      <th>1</th>\n",
              "      <td>#BKKY</td>\n",
              "      <td>2016</td>\n",
              "      <td>Cambodia</td>\n",
              "      <td>2017-10-12</td>\n",
              "    </tr>\n",
              "    <tr>\n",
              "      <th>2</th>\n",
              "      <td>#Beings</td>\n",
              "      <td>2015</td>\n",
              "      <td>Romania</td>\n",
              "      <td>2015-01-29</td>\n",
              "    </tr>\n",
              "    <tr>\n",
              "      <th>3</th>\n",
              "      <td>#Captured</td>\n",
              "      <td>2017</td>\n",
              "      <td>USA</td>\n",
              "      <td>2017-09-05</td>\n",
              "    </tr>\n",
              "    <tr>\n",
              "      <th>4</th>\n",
              "      <td>#Ewankosau saranghaeyo</td>\n",
              "      <td>2015</td>\n",
              "      <td>Philippines</td>\n",
              "      <td>2015-01-21</td>\n",
              "    </tr>\n",
              "  </tbody>\n",
              "</table>\n",
              "</div>\n",
              "      <button class=\"colab-df-convert\" onclick=\"convertToInteractive('df-efffb32f-9eca-45c6-b967-928b8faf0c2d')\"\n",
              "              title=\"Convert this dataframe to an interactive table.\"\n",
              "              style=\"display:none;\">\n",
              "        \n",
              "  <svg xmlns=\"http://www.w3.org/2000/svg\" height=\"24px\"viewBox=\"0 0 24 24\"\n",
              "       width=\"24px\">\n",
              "    <path d=\"M0 0h24v24H0V0z\" fill=\"none\"/>\n",
              "    <path d=\"M18.56 5.44l.94 2.06.94-2.06 2.06-.94-2.06-.94-.94-2.06-.94 2.06-2.06.94zm-11 1L8.5 8.5l.94-2.06 2.06-.94-2.06-.94L8.5 2.5l-.94 2.06-2.06.94zm10 10l.94 2.06.94-2.06 2.06-.94-2.06-.94-.94-2.06-.94 2.06-2.06.94z\"/><path d=\"M17.41 7.96l-1.37-1.37c-.4-.4-.92-.59-1.43-.59-.52 0-1.04.2-1.43.59L10.3 9.45l-7.72 7.72c-.78.78-.78 2.05 0 2.83L4 21.41c.39.39.9.59 1.41.59.51 0 1.02-.2 1.41-.59l7.78-7.78 2.81-2.81c.8-.78.8-2.07 0-2.86zM5.41 20L4 18.59l7.72-7.72 1.47 1.35L5.41 20z\"/>\n",
              "  </svg>\n",
              "      </button>\n",
              "      \n",
              "  <style>\n",
              "    .colab-df-container {\n",
              "      display:flex;\n",
              "      flex-wrap:wrap;\n",
              "      gap: 12px;\n",
              "    }\n",
              "\n",
              "    .colab-df-convert {\n",
              "      background-color: #E8F0FE;\n",
              "      border: none;\n",
              "      border-radius: 50%;\n",
              "      cursor: pointer;\n",
              "      display: none;\n",
              "      fill: #1967D2;\n",
              "      height: 32px;\n",
              "      padding: 0 0 0 0;\n",
              "      width: 32px;\n",
              "    }\n",
              "\n",
              "    .colab-df-convert:hover {\n",
              "      background-color: #E2EBFA;\n",
              "      box-shadow: 0px 1px 2px rgba(60, 64, 67, 0.3), 0px 1px 3px 1px rgba(60, 64, 67, 0.15);\n",
              "      fill: #174EA6;\n",
              "    }\n",
              "\n",
              "    [theme=dark] .colab-df-convert {\n",
              "      background-color: #3B4455;\n",
              "      fill: #D2E3FC;\n",
              "    }\n",
              "\n",
              "    [theme=dark] .colab-df-convert:hover {\n",
              "      background-color: #434B5C;\n",
              "      box-shadow: 0px 1px 3px 1px rgba(0, 0, 0, 0.15);\n",
              "      filter: drop-shadow(0px 1px 2px rgba(0, 0, 0, 0.3));\n",
              "      fill: #FFFFFF;\n",
              "    }\n",
              "  </style>\n",
              "\n",
              "      <script>\n",
              "        const buttonEl =\n",
              "          document.querySelector('#df-efffb32f-9eca-45c6-b967-928b8faf0c2d button.colab-df-convert');\n",
              "        buttonEl.style.display =\n",
              "          google.colab.kernel.accessAllowed ? 'block' : 'none';\n",
              "\n",
              "        async function convertToInteractive(key) {\n",
              "          const element = document.querySelector('#df-efffb32f-9eca-45c6-b967-928b8faf0c2d');\n",
              "          const dataTable =\n",
              "            await google.colab.kernel.invokeFunction('convertToInteractive',\n",
              "                                                     [key], {});\n",
              "          if (!dataTable) return;\n",
              "\n",
              "          const docLinkHtml = 'Like what you see? Visit the ' +\n",
              "            '<a target=\"_blank\" href=https://colab.research.google.com/notebooks/data_table.ipynb>data table notebook</a>'\n",
              "            + ' to learn more about interactive tables.';\n",
              "          element.innerHTML = '';\n",
              "          dataTable['output_type'] = 'display_data';\n",
              "          await google.colab.output.renderOutput(dataTable, element);\n",
              "          const docLink = document.createElement('div');\n",
              "          docLink.innerHTML = docLinkHtml;\n",
              "          element.appendChild(docLink);\n",
              "        }\n",
              "      </script>\n",
              "    </div>\n",
              "  </div>\n",
              "  "
            ]
          },
          "metadata": {},
          "execution_count": 8
        }
      ],
      "source": [
        "release_dates.head()"
      ]
    },
    {
      "cell_type": "markdown",
      "metadata": {
        "id": "JwVxRw-9ALUt"
      },
      "source": [
        "# Section I - Basic Querying, Filtering and Transformations"
      ]
    },
    {
      "cell_type": "markdown",
      "metadata": {
        "id": "r_jgrqu5ALUt"
      },
      "source": [
        "### What is the total number of movies?"
      ]
    },
    {
      "cell_type": "code",
      "execution_count": 9,
      "metadata": {
        "id": "YbXMA6csALUt",
        "colab": {
          "base_uri": "https://localhost:8080/"
        },
        "outputId": "b0438e88-d489-42ef-bbf3-601ca11822f3"
      },
      "outputs": [
        {
          "output_type": "execute_result",
          "data": {
            "text/plain": [
              "244914"
            ]
          },
          "metadata": {},
          "execution_count": 9
        }
      ],
      "source": [
        "len(movies)"
      ]
    },
    {
      "cell_type": "markdown",
      "metadata": {
        "id": "riSEutqnALUt"
      },
      "source": [
        "### List all Batman movies ever made"
      ]
    },
    {
      "cell_type": "code",
      "execution_count": 10,
      "metadata": {
        "id": "5MAGSFmAALUt",
        "colab": {
          "base_uri": "https://localhost:8080/",
          "height": 130
        },
        "outputId": "d61b6fa8-5fbf-42a5-a123-e6d14fd44fdb"
      },
      "outputs": [
        {
          "output_type": "stream",
          "name": "stdout",
          "text": [
            "Total Batman Movies: 2\n"
          ]
        },
        {
          "output_type": "execute_result",
          "data": {
            "text/plain": [
              "         title  year\n",
              "52734   Batman  1943\n",
              "150621  Batman  1989"
            ],
            "text/html": [
              "\n",
              "  <div id=\"df-b0e64864-21c4-4c54-b031-cc6c5cce83db\">\n",
              "    <div class=\"colab-df-container\">\n",
              "      <div>\n",
              "<style scoped>\n",
              "    .dataframe tbody tr th:only-of-type {\n",
              "        vertical-align: middle;\n",
              "    }\n",
              "\n",
              "    .dataframe tbody tr th {\n",
              "        vertical-align: top;\n",
              "    }\n",
              "\n",
              "    .dataframe thead th {\n",
              "        text-align: right;\n",
              "    }\n",
              "</style>\n",
              "<table border=\"1\" class=\"dataframe\">\n",
              "  <thead>\n",
              "    <tr style=\"text-align: right;\">\n",
              "      <th></th>\n",
              "      <th>title</th>\n",
              "      <th>year</th>\n",
              "    </tr>\n",
              "  </thead>\n",
              "  <tbody>\n",
              "    <tr>\n",
              "      <th>52734</th>\n",
              "      <td>Batman</td>\n",
              "      <td>1943</td>\n",
              "    </tr>\n",
              "    <tr>\n",
              "      <th>150621</th>\n",
              "      <td>Batman</td>\n",
              "      <td>1989</td>\n",
              "    </tr>\n",
              "  </tbody>\n",
              "</table>\n",
              "</div>\n",
              "      <button class=\"colab-df-convert\" onclick=\"convertToInteractive('df-b0e64864-21c4-4c54-b031-cc6c5cce83db')\"\n",
              "              title=\"Convert this dataframe to an interactive table.\"\n",
              "              style=\"display:none;\">\n",
              "        \n",
              "  <svg xmlns=\"http://www.w3.org/2000/svg\" height=\"24px\"viewBox=\"0 0 24 24\"\n",
              "       width=\"24px\">\n",
              "    <path d=\"M0 0h24v24H0V0z\" fill=\"none\"/>\n",
              "    <path d=\"M18.56 5.44l.94 2.06.94-2.06 2.06-.94-2.06-.94-.94-2.06-.94 2.06-2.06.94zm-11 1L8.5 8.5l.94-2.06 2.06-.94-2.06-.94L8.5 2.5l-.94 2.06-2.06.94zm10 10l.94 2.06.94-2.06 2.06-.94-2.06-.94-.94-2.06-.94 2.06-2.06.94z\"/><path d=\"M17.41 7.96l-1.37-1.37c-.4-.4-.92-.59-1.43-.59-.52 0-1.04.2-1.43.59L10.3 9.45l-7.72 7.72c-.78.78-.78 2.05 0 2.83L4 21.41c.39.39.9.59 1.41.59.51 0 1.02-.2 1.41-.59l7.78-7.78 2.81-2.81c.8-.78.8-2.07 0-2.86zM5.41 20L4 18.59l7.72-7.72 1.47 1.35L5.41 20z\"/>\n",
              "  </svg>\n",
              "      </button>\n",
              "      \n",
              "  <style>\n",
              "    .colab-df-container {\n",
              "      display:flex;\n",
              "      flex-wrap:wrap;\n",
              "      gap: 12px;\n",
              "    }\n",
              "\n",
              "    .colab-df-convert {\n",
              "      background-color: #E8F0FE;\n",
              "      border: none;\n",
              "      border-radius: 50%;\n",
              "      cursor: pointer;\n",
              "      display: none;\n",
              "      fill: #1967D2;\n",
              "      height: 32px;\n",
              "      padding: 0 0 0 0;\n",
              "      width: 32px;\n",
              "    }\n",
              "\n",
              "    .colab-df-convert:hover {\n",
              "      background-color: #E2EBFA;\n",
              "      box-shadow: 0px 1px 2px rgba(60, 64, 67, 0.3), 0px 1px 3px 1px rgba(60, 64, 67, 0.15);\n",
              "      fill: #174EA6;\n",
              "    }\n",
              "\n",
              "    [theme=dark] .colab-df-convert {\n",
              "      background-color: #3B4455;\n",
              "      fill: #D2E3FC;\n",
              "    }\n",
              "\n",
              "    [theme=dark] .colab-df-convert:hover {\n",
              "      background-color: #434B5C;\n",
              "      box-shadow: 0px 1px 3px 1px rgba(0, 0, 0, 0.15);\n",
              "      filter: drop-shadow(0px 1px 2px rgba(0, 0, 0, 0.3));\n",
              "      fill: #FFFFFF;\n",
              "    }\n",
              "  </style>\n",
              "\n",
              "      <script>\n",
              "        const buttonEl =\n",
              "          document.querySelector('#df-b0e64864-21c4-4c54-b031-cc6c5cce83db button.colab-df-convert');\n",
              "        buttonEl.style.display =\n",
              "          google.colab.kernel.accessAllowed ? 'block' : 'none';\n",
              "\n",
              "        async function convertToInteractive(key) {\n",
              "          const element = document.querySelector('#df-b0e64864-21c4-4c54-b031-cc6c5cce83db');\n",
              "          const dataTable =\n",
              "            await google.colab.kernel.invokeFunction('convertToInteractive',\n",
              "                                                     [key], {});\n",
              "          if (!dataTable) return;\n",
              "\n",
              "          const docLinkHtml = 'Like what you see? Visit the ' +\n",
              "            '<a target=\"_blank\" href=https://colab.research.google.com/notebooks/data_table.ipynb>data table notebook</a>'\n",
              "            + ' to learn more about interactive tables.';\n",
              "          element.innerHTML = '';\n",
              "          dataTable['output_type'] = 'display_data';\n",
              "          await google.colab.output.renderOutput(dataTable, element);\n",
              "          const docLink = document.createElement('div');\n",
              "          docLink.innerHTML = docLinkHtml;\n",
              "          element.appendChild(docLink);\n",
              "        }\n",
              "      </script>\n",
              "    </div>\n",
              "  </div>\n",
              "  "
            ]
          },
          "metadata": {},
          "execution_count": 10
        }
      ],
      "source": [
        "batman_df = movies[movies.title == 'Batman']\n",
        "print('Total Batman Movies:', len(batman_df))\n",
        "batman_df"
      ]
    },
    {
      "cell_type": "markdown",
      "metadata": {
        "id": "RFthPMLiALUt"
      },
      "source": [
        "### List all Batman movies ever made - the right approach"
      ]
    },
    {
      "cell_type": "code",
      "execution_count": 11,
      "metadata": {
        "id": "gFIo4t7kALUu",
        "colab": {
          "base_uri": "https://localhost:8080/",
          "height": 381
        },
        "outputId": "87c1aa08-3597-4261-bff9-6ec08ce7666f"
      },
      "outputs": [
        {
          "output_type": "stream",
          "name": "stdout",
          "text": [
            "Total Batman Movies: 35\n"
          ]
        },
        {
          "output_type": "execute_result",
          "data": {
            "text/plain": [
              "                                             title  year\n",
              "16813                              Batman: Anarchy  2016\n",
              "30236                               Batman Forever  1995\n",
              "31674                                Batman Untold  2010\n",
              "31711  Scooby-Doo & Batman: the Brave and the Bold  2018\n",
              "41881                  Batman the Rise of Red Hood  2018\n",
              "43484        Batman: Return of the Caped Crusaders  2016\n",
              "46333                               Batman & Robin  1997\n",
              "51811                              Batman Revealed  2012\n",
              "52734                                       Batman  1943\n",
              "56029                 Batman Beyond: Rising Knight  2014"
            ],
            "text/html": [
              "\n",
              "  <div id=\"df-a410ea87-b231-4339-859a-4ee4e198d2c4\">\n",
              "    <div class=\"colab-df-container\">\n",
              "      <div>\n",
              "<style scoped>\n",
              "    .dataframe tbody tr th:only-of-type {\n",
              "        vertical-align: middle;\n",
              "    }\n",
              "\n",
              "    .dataframe tbody tr th {\n",
              "        vertical-align: top;\n",
              "    }\n",
              "\n",
              "    .dataframe thead th {\n",
              "        text-align: right;\n",
              "    }\n",
              "</style>\n",
              "<table border=\"1\" class=\"dataframe\">\n",
              "  <thead>\n",
              "    <tr style=\"text-align: right;\">\n",
              "      <th></th>\n",
              "      <th>title</th>\n",
              "      <th>year</th>\n",
              "    </tr>\n",
              "  </thead>\n",
              "  <tbody>\n",
              "    <tr>\n",
              "      <th>16813</th>\n",
              "      <td>Batman: Anarchy</td>\n",
              "      <td>2016</td>\n",
              "    </tr>\n",
              "    <tr>\n",
              "      <th>30236</th>\n",
              "      <td>Batman Forever</td>\n",
              "      <td>1995</td>\n",
              "    </tr>\n",
              "    <tr>\n",
              "      <th>31674</th>\n",
              "      <td>Batman Untold</td>\n",
              "      <td>2010</td>\n",
              "    </tr>\n",
              "    <tr>\n",
              "      <th>31711</th>\n",
              "      <td>Scooby-Doo &amp; Batman: the Brave and the Bold</td>\n",
              "      <td>2018</td>\n",
              "    </tr>\n",
              "    <tr>\n",
              "      <th>41881</th>\n",
              "      <td>Batman the Rise of Red Hood</td>\n",
              "      <td>2018</td>\n",
              "    </tr>\n",
              "    <tr>\n",
              "      <th>43484</th>\n",
              "      <td>Batman: Return of the Caped Crusaders</td>\n",
              "      <td>2016</td>\n",
              "    </tr>\n",
              "    <tr>\n",
              "      <th>46333</th>\n",
              "      <td>Batman &amp; Robin</td>\n",
              "      <td>1997</td>\n",
              "    </tr>\n",
              "    <tr>\n",
              "      <th>51811</th>\n",
              "      <td>Batman Revealed</td>\n",
              "      <td>2012</td>\n",
              "    </tr>\n",
              "    <tr>\n",
              "      <th>52734</th>\n",
              "      <td>Batman</td>\n",
              "      <td>1943</td>\n",
              "    </tr>\n",
              "    <tr>\n",
              "      <th>56029</th>\n",
              "      <td>Batman Beyond: Rising Knight</td>\n",
              "      <td>2014</td>\n",
              "    </tr>\n",
              "  </tbody>\n",
              "</table>\n",
              "</div>\n",
              "      <button class=\"colab-df-convert\" onclick=\"convertToInteractive('df-a410ea87-b231-4339-859a-4ee4e198d2c4')\"\n",
              "              title=\"Convert this dataframe to an interactive table.\"\n",
              "              style=\"display:none;\">\n",
              "        \n",
              "  <svg xmlns=\"http://www.w3.org/2000/svg\" height=\"24px\"viewBox=\"0 0 24 24\"\n",
              "       width=\"24px\">\n",
              "    <path d=\"M0 0h24v24H0V0z\" fill=\"none\"/>\n",
              "    <path d=\"M18.56 5.44l.94 2.06.94-2.06 2.06-.94-2.06-.94-.94-2.06-.94 2.06-2.06.94zm-11 1L8.5 8.5l.94-2.06 2.06-.94-2.06-.94L8.5 2.5l-.94 2.06-2.06.94zm10 10l.94 2.06.94-2.06 2.06-.94-2.06-.94-.94-2.06-.94 2.06-2.06.94z\"/><path d=\"M17.41 7.96l-1.37-1.37c-.4-.4-.92-.59-1.43-.59-.52 0-1.04.2-1.43.59L10.3 9.45l-7.72 7.72c-.78.78-.78 2.05 0 2.83L4 21.41c.39.39.9.59 1.41.59.51 0 1.02-.2 1.41-.59l7.78-7.78 2.81-2.81c.8-.78.8-2.07 0-2.86zM5.41 20L4 18.59l7.72-7.72 1.47 1.35L5.41 20z\"/>\n",
              "  </svg>\n",
              "      </button>\n",
              "      \n",
              "  <style>\n",
              "    .colab-df-container {\n",
              "      display:flex;\n",
              "      flex-wrap:wrap;\n",
              "      gap: 12px;\n",
              "    }\n",
              "\n",
              "    .colab-df-convert {\n",
              "      background-color: #E8F0FE;\n",
              "      border: none;\n",
              "      border-radius: 50%;\n",
              "      cursor: pointer;\n",
              "      display: none;\n",
              "      fill: #1967D2;\n",
              "      height: 32px;\n",
              "      padding: 0 0 0 0;\n",
              "      width: 32px;\n",
              "    }\n",
              "\n",
              "    .colab-df-convert:hover {\n",
              "      background-color: #E2EBFA;\n",
              "      box-shadow: 0px 1px 2px rgba(60, 64, 67, 0.3), 0px 1px 3px 1px rgba(60, 64, 67, 0.15);\n",
              "      fill: #174EA6;\n",
              "    }\n",
              "\n",
              "    [theme=dark] .colab-df-convert {\n",
              "      background-color: #3B4455;\n",
              "      fill: #D2E3FC;\n",
              "    }\n",
              "\n",
              "    [theme=dark] .colab-df-convert:hover {\n",
              "      background-color: #434B5C;\n",
              "      box-shadow: 0px 1px 3px 1px rgba(0, 0, 0, 0.15);\n",
              "      filter: drop-shadow(0px 1px 2px rgba(0, 0, 0, 0.3));\n",
              "      fill: #FFFFFF;\n",
              "    }\n",
              "  </style>\n",
              "\n",
              "      <script>\n",
              "        const buttonEl =\n",
              "          document.querySelector('#df-a410ea87-b231-4339-859a-4ee4e198d2c4 button.colab-df-convert');\n",
              "        buttonEl.style.display =\n",
              "          google.colab.kernel.accessAllowed ? 'block' : 'none';\n",
              "\n",
              "        async function convertToInteractive(key) {\n",
              "          const element = document.querySelector('#df-a410ea87-b231-4339-859a-4ee4e198d2c4');\n",
              "          const dataTable =\n",
              "            await google.colab.kernel.invokeFunction('convertToInteractive',\n",
              "                                                     [key], {});\n",
              "          if (!dataTable) return;\n",
              "\n",
              "          const docLinkHtml = 'Like what you see? Visit the ' +\n",
              "            '<a target=\"_blank\" href=https://colab.research.google.com/notebooks/data_table.ipynb>data table notebook</a>'\n",
              "            + ' to learn more about interactive tables.';\n",
              "          element.innerHTML = '';\n",
              "          dataTable['output_type'] = 'display_data';\n",
              "          await google.colab.output.renderOutput(dataTable, element);\n",
              "          const docLink = document.createElement('div');\n",
              "          docLink.innerHTML = docLinkHtml;\n",
              "          element.appendChild(docLink);\n",
              "        }\n",
              "      </script>\n",
              "    </div>\n",
              "  </div>\n",
              "  "
            ]
          },
          "metadata": {},
          "execution_count": 11
        }
      ],
      "source": [
        "batman_df = movies[movies.title.str.contains('Batman', case=False)]\n",
        "print('Total Batman Movies:', len(batman_df))\n",
        "batman_df.head(10)"
      ]
    },
    {
      "cell_type": "markdown",
      "metadata": {
        "id": "yISPyspxALUu"
      },
      "source": [
        "### Display the top 15 Batman movies in the order they were released"
      ]
    },
    {
      "cell_type": "code",
      "execution_count": 12,
      "metadata": {
        "id": "4-ehZH7bALUu",
        "colab": {
          "base_uri": "https://localhost:8080/",
          "height": 520
        },
        "outputId": "a0ce868c-f3ea-45ba-a488-520912c63173"
      },
      "outputs": [
        {
          "output_type": "execute_result",
          "data": {
            "text/plain": [
              "                               title  year\n",
              "52734                         Batman  1943\n",
              "100056              Batman and Robin  1949\n",
              "161439                Batman Dracula  1964\n",
              "84327          Alyas Batman at Robin  1965\n",
              "68364                   James Batman  1966\n",
              "161527             Batman: The Movie  1966\n",
              "56159          Batman Fights Dracula  1967\n",
              "168504         Fight! Batman, Fight!  1973\n",
              "150621                        Batman  1989\n",
              "156239         Alyas Batman en Robin  1991\n",
              "156755                Batman Returns  1992\n",
              "63366   Batman: Mask of the Phantasm  1993\n",
              "30236                 Batman Forever  1995\n",
              "46333                 Batman & Robin  1997\n",
              "208220                 Batman Begins  2005"
            ],
            "text/html": [
              "\n",
              "  <div id=\"df-69793490-573b-4c6b-8db5-0fd1cf2eb0de\">\n",
              "    <div class=\"colab-df-container\">\n",
              "      <div>\n",
              "<style scoped>\n",
              "    .dataframe tbody tr th:only-of-type {\n",
              "        vertical-align: middle;\n",
              "    }\n",
              "\n",
              "    .dataframe tbody tr th {\n",
              "        vertical-align: top;\n",
              "    }\n",
              "\n",
              "    .dataframe thead th {\n",
              "        text-align: right;\n",
              "    }\n",
              "</style>\n",
              "<table border=\"1\" class=\"dataframe\">\n",
              "  <thead>\n",
              "    <tr style=\"text-align: right;\">\n",
              "      <th></th>\n",
              "      <th>title</th>\n",
              "      <th>year</th>\n",
              "    </tr>\n",
              "  </thead>\n",
              "  <tbody>\n",
              "    <tr>\n",
              "      <th>52734</th>\n",
              "      <td>Batman</td>\n",
              "      <td>1943</td>\n",
              "    </tr>\n",
              "    <tr>\n",
              "      <th>100056</th>\n",
              "      <td>Batman and Robin</td>\n",
              "      <td>1949</td>\n",
              "    </tr>\n",
              "    <tr>\n",
              "      <th>161439</th>\n",
              "      <td>Batman Dracula</td>\n",
              "      <td>1964</td>\n",
              "    </tr>\n",
              "    <tr>\n",
              "      <th>84327</th>\n",
              "      <td>Alyas Batman at Robin</td>\n",
              "      <td>1965</td>\n",
              "    </tr>\n",
              "    <tr>\n",
              "      <th>68364</th>\n",
              "      <td>James Batman</td>\n",
              "      <td>1966</td>\n",
              "    </tr>\n",
              "    <tr>\n",
              "      <th>161527</th>\n",
              "      <td>Batman: The Movie</td>\n",
              "      <td>1966</td>\n",
              "    </tr>\n",
              "    <tr>\n",
              "      <th>56159</th>\n",
              "      <td>Batman Fights Dracula</td>\n",
              "      <td>1967</td>\n",
              "    </tr>\n",
              "    <tr>\n",
              "      <th>168504</th>\n",
              "      <td>Fight! Batman, Fight!</td>\n",
              "      <td>1973</td>\n",
              "    </tr>\n",
              "    <tr>\n",
              "      <th>150621</th>\n",
              "      <td>Batman</td>\n",
              "      <td>1989</td>\n",
              "    </tr>\n",
              "    <tr>\n",
              "      <th>156239</th>\n",
              "      <td>Alyas Batman en Robin</td>\n",
              "      <td>1991</td>\n",
              "    </tr>\n",
              "    <tr>\n",
              "      <th>156755</th>\n",
              "      <td>Batman Returns</td>\n",
              "      <td>1992</td>\n",
              "    </tr>\n",
              "    <tr>\n",
              "      <th>63366</th>\n",
              "      <td>Batman: Mask of the Phantasm</td>\n",
              "      <td>1993</td>\n",
              "    </tr>\n",
              "    <tr>\n",
              "      <th>30236</th>\n",
              "      <td>Batman Forever</td>\n",
              "      <td>1995</td>\n",
              "    </tr>\n",
              "    <tr>\n",
              "      <th>46333</th>\n",
              "      <td>Batman &amp; Robin</td>\n",
              "      <td>1997</td>\n",
              "    </tr>\n",
              "    <tr>\n",
              "      <th>208220</th>\n",
              "      <td>Batman Begins</td>\n",
              "      <td>2005</td>\n",
              "    </tr>\n",
              "  </tbody>\n",
              "</table>\n",
              "</div>\n",
              "      <button class=\"colab-df-convert\" onclick=\"convertToInteractive('df-69793490-573b-4c6b-8db5-0fd1cf2eb0de')\"\n",
              "              title=\"Convert this dataframe to an interactive table.\"\n",
              "              style=\"display:none;\">\n",
              "        \n",
              "  <svg xmlns=\"http://www.w3.org/2000/svg\" height=\"24px\"viewBox=\"0 0 24 24\"\n",
              "       width=\"24px\">\n",
              "    <path d=\"M0 0h24v24H0V0z\" fill=\"none\"/>\n",
              "    <path d=\"M18.56 5.44l.94 2.06.94-2.06 2.06-.94-2.06-.94-.94-2.06-.94 2.06-2.06.94zm-11 1L8.5 8.5l.94-2.06 2.06-.94-2.06-.94L8.5 2.5l-.94 2.06-2.06.94zm10 10l.94 2.06.94-2.06 2.06-.94-2.06-.94-.94-2.06-.94 2.06-2.06.94z\"/><path d=\"M17.41 7.96l-1.37-1.37c-.4-.4-.92-.59-1.43-.59-.52 0-1.04.2-1.43.59L10.3 9.45l-7.72 7.72c-.78.78-.78 2.05 0 2.83L4 21.41c.39.39.9.59 1.41.59.51 0 1.02-.2 1.41-.59l7.78-7.78 2.81-2.81c.8-.78.8-2.07 0-2.86zM5.41 20L4 18.59l7.72-7.72 1.47 1.35L5.41 20z\"/>\n",
              "  </svg>\n",
              "      </button>\n",
              "      \n",
              "  <style>\n",
              "    .colab-df-container {\n",
              "      display:flex;\n",
              "      flex-wrap:wrap;\n",
              "      gap: 12px;\n",
              "    }\n",
              "\n",
              "    .colab-df-convert {\n",
              "      background-color: #E8F0FE;\n",
              "      border: none;\n",
              "      border-radius: 50%;\n",
              "      cursor: pointer;\n",
              "      display: none;\n",
              "      fill: #1967D2;\n",
              "      height: 32px;\n",
              "      padding: 0 0 0 0;\n",
              "      width: 32px;\n",
              "    }\n",
              "\n",
              "    .colab-df-convert:hover {\n",
              "      background-color: #E2EBFA;\n",
              "      box-shadow: 0px 1px 2px rgba(60, 64, 67, 0.3), 0px 1px 3px 1px rgba(60, 64, 67, 0.15);\n",
              "      fill: #174EA6;\n",
              "    }\n",
              "\n",
              "    [theme=dark] .colab-df-convert {\n",
              "      background-color: #3B4455;\n",
              "      fill: #D2E3FC;\n",
              "    }\n",
              "\n",
              "    [theme=dark] .colab-df-convert:hover {\n",
              "      background-color: #434B5C;\n",
              "      box-shadow: 0px 1px 3px 1px rgba(0, 0, 0, 0.15);\n",
              "      filter: drop-shadow(0px 1px 2px rgba(0, 0, 0, 0.3));\n",
              "      fill: #FFFFFF;\n",
              "    }\n",
              "  </style>\n",
              "\n",
              "      <script>\n",
              "        const buttonEl =\n",
              "          document.querySelector('#df-69793490-573b-4c6b-8db5-0fd1cf2eb0de button.colab-df-convert');\n",
              "        buttonEl.style.display =\n",
              "          google.colab.kernel.accessAllowed ? 'block' : 'none';\n",
              "\n",
              "        async function convertToInteractive(key) {\n",
              "          const element = document.querySelector('#df-69793490-573b-4c6b-8db5-0fd1cf2eb0de');\n",
              "          const dataTable =\n",
              "            await google.colab.kernel.invokeFunction('convertToInteractive',\n",
              "                                                     [key], {});\n",
              "          if (!dataTable) return;\n",
              "\n",
              "          const docLinkHtml = 'Like what you see? Visit the ' +\n",
              "            '<a target=\"_blank\" href=https://colab.research.google.com/notebooks/data_table.ipynb>data table notebook</a>'\n",
              "            + ' to learn more about interactive tables.';\n",
              "          element.innerHTML = '';\n",
              "          dataTable['output_type'] = 'display_data';\n",
              "          await google.colab.output.renderOutput(dataTable, element);\n",
              "          const docLink = document.createElement('div');\n",
              "          docLink.innerHTML = docLinkHtml;\n",
              "          element.appendChild(docLink);\n",
              "        }\n",
              "      </script>\n",
              "    </div>\n",
              "  </div>\n",
              "  "
            ]
          },
          "metadata": {},
          "execution_count": 12
        }
      ],
      "source": [
        "batman_df.sort_values(by=['year'], ascending=True).iloc[:15]"
      ]
    },
    {
      "cell_type": "markdown",
      "metadata": {
        "id": "4_l0d2rlALUu"
      },
      "source": [
        "### Section I - Q1 : List all the 'Harry Potter' movies from the most recent to the earliest"
      ]
    },
    {
      "cell_type": "code",
      "execution_count": 13,
      "metadata": {
        "id": "GQry-DBnALUu",
        "colab": {
          "base_uri": "https://localhost:8080/",
          "height": 300
        },
        "outputId": "af03a1a3-9cc0-421a-ac63-e363e34ef8c2"
      },
      "outputs": [
        {
          "output_type": "execute_result",
          "data": {
            "text/plain": [
              "                                               title  year\n",
              "143147  Harry Potter and the Deathly Hallows: Part 2  2011\n",
              "152831  Harry Potter and the Deathly Hallows: Part 1  2010\n",
              "109213        Harry Potter and the Half-Blood Prince  2009\n",
              "50581      Harry Potter and the Order of the Phoenix  2007\n",
              "187926           Harry Potter and the Goblet of Fire  2005\n",
              "61957       Harry Potter and the Prisoner of Azkaban  2004\n",
              "82791        Harry Potter and the Chamber of Secrets  2002\n",
              "223087         Harry Potter and the Sorcerer's Stone  2001"
            ],
            "text/html": [
              "\n",
              "  <div id=\"df-fa2c540f-f1a3-4188-8fab-9646de10fe78\">\n",
              "    <div class=\"colab-df-container\">\n",
              "      <div>\n",
              "<style scoped>\n",
              "    .dataframe tbody tr th:only-of-type {\n",
              "        vertical-align: middle;\n",
              "    }\n",
              "\n",
              "    .dataframe tbody tr th {\n",
              "        vertical-align: top;\n",
              "    }\n",
              "\n",
              "    .dataframe thead th {\n",
              "        text-align: right;\n",
              "    }\n",
              "</style>\n",
              "<table border=\"1\" class=\"dataframe\">\n",
              "  <thead>\n",
              "    <tr style=\"text-align: right;\">\n",
              "      <th></th>\n",
              "      <th>title</th>\n",
              "      <th>year</th>\n",
              "    </tr>\n",
              "  </thead>\n",
              "  <tbody>\n",
              "    <tr>\n",
              "      <th>143147</th>\n",
              "      <td>Harry Potter and the Deathly Hallows: Part 2</td>\n",
              "      <td>2011</td>\n",
              "    </tr>\n",
              "    <tr>\n",
              "      <th>152831</th>\n",
              "      <td>Harry Potter and the Deathly Hallows: Part 1</td>\n",
              "      <td>2010</td>\n",
              "    </tr>\n",
              "    <tr>\n",
              "      <th>109213</th>\n",
              "      <td>Harry Potter and the Half-Blood Prince</td>\n",
              "      <td>2009</td>\n",
              "    </tr>\n",
              "    <tr>\n",
              "      <th>50581</th>\n",
              "      <td>Harry Potter and the Order of the Phoenix</td>\n",
              "      <td>2007</td>\n",
              "    </tr>\n",
              "    <tr>\n",
              "      <th>187926</th>\n",
              "      <td>Harry Potter and the Goblet of Fire</td>\n",
              "      <td>2005</td>\n",
              "    </tr>\n",
              "    <tr>\n",
              "      <th>61957</th>\n",
              "      <td>Harry Potter and the Prisoner of Azkaban</td>\n",
              "      <td>2004</td>\n",
              "    </tr>\n",
              "    <tr>\n",
              "      <th>82791</th>\n",
              "      <td>Harry Potter and the Chamber of Secrets</td>\n",
              "      <td>2002</td>\n",
              "    </tr>\n",
              "    <tr>\n",
              "      <th>223087</th>\n",
              "      <td>Harry Potter and the Sorcerer's Stone</td>\n",
              "      <td>2001</td>\n",
              "    </tr>\n",
              "  </tbody>\n",
              "</table>\n",
              "</div>\n",
              "      <button class=\"colab-df-convert\" onclick=\"convertToInteractive('df-fa2c540f-f1a3-4188-8fab-9646de10fe78')\"\n",
              "              title=\"Convert this dataframe to an interactive table.\"\n",
              "              style=\"display:none;\">\n",
              "        \n",
              "  <svg xmlns=\"http://www.w3.org/2000/svg\" height=\"24px\"viewBox=\"0 0 24 24\"\n",
              "       width=\"24px\">\n",
              "    <path d=\"M0 0h24v24H0V0z\" fill=\"none\"/>\n",
              "    <path d=\"M18.56 5.44l.94 2.06.94-2.06 2.06-.94-2.06-.94-.94-2.06-.94 2.06-2.06.94zm-11 1L8.5 8.5l.94-2.06 2.06-.94-2.06-.94L8.5 2.5l-.94 2.06-2.06.94zm10 10l.94 2.06.94-2.06 2.06-.94-2.06-.94-.94-2.06-.94 2.06-2.06.94z\"/><path d=\"M17.41 7.96l-1.37-1.37c-.4-.4-.92-.59-1.43-.59-.52 0-1.04.2-1.43.59L10.3 9.45l-7.72 7.72c-.78.78-.78 2.05 0 2.83L4 21.41c.39.39.9.59 1.41.59.51 0 1.02-.2 1.41-.59l7.78-7.78 2.81-2.81c.8-.78.8-2.07 0-2.86zM5.41 20L4 18.59l7.72-7.72 1.47 1.35L5.41 20z\"/>\n",
              "  </svg>\n",
              "      </button>\n",
              "      \n",
              "  <style>\n",
              "    .colab-df-container {\n",
              "      display:flex;\n",
              "      flex-wrap:wrap;\n",
              "      gap: 12px;\n",
              "    }\n",
              "\n",
              "    .colab-df-convert {\n",
              "      background-color: #E8F0FE;\n",
              "      border: none;\n",
              "      border-radius: 50%;\n",
              "      cursor: pointer;\n",
              "      display: none;\n",
              "      fill: #1967D2;\n",
              "      height: 32px;\n",
              "      padding: 0 0 0 0;\n",
              "      width: 32px;\n",
              "    }\n",
              "\n",
              "    .colab-df-convert:hover {\n",
              "      background-color: #E2EBFA;\n",
              "      box-shadow: 0px 1px 2px rgba(60, 64, 67, 0.3), 0px 1px 3px 1px rgba(60, 64, 67, 0.15);\n",
              "      fill: #174EA6;\n",
              "    }\n",
              "\n",
              "    [theme=dark] .colab-df-convert {\n",
              "      background-color: #3B4455;\n",
              "      fill: #D2E3FC;\n",
              "    }\n",
              "\n",
              "    [theme=dark] .colab-df-convert:hover {\n",
              "      background-color: #434B5C;\n",
              "      box-shadow: 0px 1px 3px 1px rgba(0, 0, 0, 0.15);\n",
              "      filter: drop-shadow(0px 1px 2px rgba(0, 0, 0, 0.3));\n",
              "      fill: #FFFFFF;\n",
              "    }\n",
              "  </style>\n",
              "\n",
              "      <script>\n",
              "        const buttonEl =\n",
              "          document.querySelector('#df-fa2c540f-f1a3-4188-8fab-9646de10fe78 button.colab-df-convert');\n",
              "        buttonEl.style.display =\n",
              "          google.colab.kernel.accessAllowed ? 'block' : 'none';\n",
              "\n",
              "        async function convertToInteractive(key) {\n",
              "          const element = document.querySelector('#df-fa2c540f-f1a3-4188-8fab-9646de10fe78');\n",
              "          const dataTable =\n",
              "            await google.colab.kernel.invokeFunction('convertToInteractive',\n",
              "                                                     [key], {});\n",
              "          if (!dataTable) return;\n",
              "\n",
              "          const docLinkHtml = 'Like what you see? Visit the ' +\n",
              "            '<a target=\"_blank\" href=https://colab.research.google.com/notebooks/data_table.ipynb>data table notebook</a>'\n",
              "            + ' to learn more about interactive tables.';\n",
              "          element.innerHTML = '';\n",
              "          dataTable['output_type'] = 'display_data';\n",
              "          await google.colab.output.renderOutput(dataTable, element);\n",
              "          const docLink = document.createElement('div');\n",
              "          docLink.innerHTML = docLinkHtml;\n",
              "          element.appendChild(docLink);\n",
              "        }\n",
              "      </script>\n",
              "    </div>\n",
              "  </div>\n",
              "  "
            ]
          },
          "metadata": {},
          "execution_count": 13
        }
      ],
      "source": [
        "hp_df = movies[movies.title.str.contains('Harry Potter', case=False)]\n",
        "ordered_hp_df = hp_df.sort_values(by='year', ascending=False)\n",
        "ordered_hp_df"
      ]
    },
    {
      "cell_type": "markdown",
      "metadata": {
        "id": "txDADJhuALUu"
      },
      "source": [
        "### How many movies were made in the year 2017?"
      ]
    },
    {
      "cell_type": "code",
      "execution_count": 14,
      "metadata": {
        "id": "9j5DF0CGALUu",
        "colab": {
          "base_uri": "https://localhost:8080/"
        },
        "outputId": "fbd61a7a-d782-4a51-fd4f-3d1cae5aa7cf"
      },
      "outputs": [
        {
          "output_type": "execute_result",
          "data": {
            "text/plain": [
              "11474"
            ]
          },
          "metadata": {},
          "execution_count": 14
        }
      ],
      "source": [
        "len(movies[movies.year == 2017])"
      ]
    },
    {
      "cell_type": "markdown",
      "metadata": {
        "id": "2--JQ61ZALUu"
      },
      "source": [
        "### Section I - Q2 : How many movies were made in the year 2015?"
      ]
    },
    {
      "cell_type": "code",
      "execution_count": 15,
      "metadata": {
        "id": "QQZyP8MyALUv",
        "colab": {
          "base_uri": "https://localhost:8080/"
        },
        "outputId": "29a63ca0-c89c-447b-f9b6-12c948bbd398"
      },
      "outputs": [
        {
          "output_type": "execute_result",
          "data": {
            "text/plain": [
              "8702"
            ]
          },
          "metadata": {},
          "execution_count": 15
        }
      ],
      "source": [
        "len(movies[movies.year == 2015])"
      ]
    },
    {
      "cell_type": "markdown",
      "metadata": {
        "id": "4VDyFs6bALUv"
      },
      "source": [
        "### Section I - Q3 : How many movies were made from 2000 till 2018?\n",
        "- You can chain multiple conditions using OR (`|`) as well as AND (`&`) depending on the condition"
      ]
    },
    {
      "cell_type": "code",
      "execution_count": 16,
      "metadata": {
        "id": "egeKLC5ZALUv",
        "colab": {
          "base_uri": "https://localhost:8080/"
        },
        "outputId": "78073b2a-771d-4102-ad9b-41a2d5f67cec"
      },
      "outputs": [
        {
          "output_type": "stream",
          "name": "stdout",
          "text": [
            "114070\n"
          ]
        }
      ],
      "source": [
        "count = 0\n",
        "for year in movies['year']:\n",
        "    if year >= 2000 and year <= 2018:\n",
        "        count += 1\n",
        "\n",
        "print(count)\n",
        "\n",
        "\n"
      ]
    },
    {
      "cell_type": "markdown",
      "metadata": {
        "id": "E7lUXArcALUv"
      },
      "source": [
        "### Section I - Q4: How many movies are titled \"Hamlet\"?"
      ]
    },
    {
      "cell_type": "code",
      "execution_count": 17,
      "metadata": {
        "id": "IVck8r1XALUv",
        "colab": {
          "base_uri": "https://localhost:8080/"
        },
        "outputId": "6fb14fc1-a5cd-44e7-aa54-9fd715cb67a6"
      },
      "outputs": [
        {
          "output_type": "execute_result",
          "data": {
            "text/plain": [
              "57"
            ]
          },
          "metadata": {},
          "execution_count": 17
        }
      ],
      "source": [
        "hamlet_df = movies[movies.title.str.contains('Hamlet', case=False)]\n",
        "hamlet_df\n",
        "\n",
        "len(hamlet_df.title)"
      ]
    },
    {
      "cell_type": "markdown",
      "metadata": {
        "id": "pxgicvlSALUv"
      },
      "source": [
        "### Section I - Q5: List all movies titled \"Hamlet\" \n",
        "- The movies should only have been released on or after the year 2000\n",
        "- Display the movies based on the year they were released (earliest to most recent)"
      ]
    },
    {
      "cell_type": "code",
      "execution_count": 18,
      "metadata": {
        "id": "GW4beQz5ALUv",
        "colab": {
          "base_uri": "https://localhost:8080/",
          "height": 677
        },
        "outputId": "b38d8d0e-3bf4-4fbb-cfff-90ca0457e0ff"
      },
      "outputs": [
        {
          "output_type": "execute_result",
          "data": {
            "text/plain": [
              "         title  year\n",
              "181090  Hamlet  1910\n",
              "124506  Hamlet  1911\n",
              "118535  Hamlet  1913\n",
              "46344   Hamlet  1921\n",
              "73869   Hamlet  1948\n",
              "140203  Hamlet  1954\n",
              "155004  Hamlet  1964\n",
              "222156  Hamlet  1969\n",
              "218339  Hamlet  1973\n",
              "8214    Hamlet  1976\n",
              "180979  Hamlet  1987\n",
              "98326   Hamlet  1990\n",
              "241149  Hamlet  1996\n",
              "55639   Hamlet  2000\n",
              "1931    Hamlet  2009\n",
              "227953  Hamlet  2011\n",
              "178290  Hamlet  2014\n",
              "186137  Hamlet  2015\n",
              "191940  Hamlet  2016\n",
              "244747  Hamlet  2017"
            ],
            "text/html": [
              "\n",
              "  <div id=\"df-410282df-ecad-4398-9d52-6b046affff32\">\n",
              "    <div class=\"colab-df-container\">\n",
              "      <div>\n",
              "<style scoped>\n",
              "    .dataframe tbody tr th:only-of-type {\n",
              "        vertical-align: middle;\n",
              "    }\n",
              "\n",
              "    .dataframe tbody tr th {\n",
              "        vertical-align: top;\n",
              "    }\n",
              "\n",
              "    .dataframe thead th {\n",
              "        text-align: right;\n",
              "    }\n",
              "</style>\n",
              "<table border=\"1\" class=\"dataframe\">\n",
              "  <thead>\n",
              "    <tr style=\"text-align: right;\">\n",
              "      <th></th>\n",
              "      <th>title</th>\n",
              "      <th>year</th>\n",
              "    </tr>\n",
              "  </thead>\n",
              "  <tbody>\n",
              "    <tr>\n",
              "      <th>181090</th>\n",
              "      <td>Hamlet</td>\n",
              "      <td>1910</td>\n",
              "    </tr>\n",
              "    <tr>\n",
              "      <th>124506</th>\n",
              "      <td>Hamlet</td>\n",
              "      <td>1911</td>\n",
              "    </tr>\n",
              "    <tr>\n",
              "      <th>118535</th>\n",
              "      <td>Hamlet</td>\n",
              "      <td>1913</td>\n",
              "    </tr>\n",
              "    <tr>\n",
              "      <th>46344</th>\n",
              "      <td>Hamlet</td>\n",
              "      <td>1921</td>\n",
              "    </tr>\n",
              "    <tr>\n",
              "      <th>73869</th>\n",
              "      <td>Hamlet</td>\n",
              "      <td>1948</td>\n",
              "    </tr>\n",
              "    <tr>\n",
              "      <th>140203</th>\n",
              "      <td>Hamlet</td>\n",
              "      <td>1954</td>\n",
              "    </tr>\n",
              "    <tr>\n",
              "      <th>155004</th>\n",
              "      <td>Hamlet</td>\n",
              "      <td>1964</td>\n",
              "    </tr>\n",
              "    <tr>\n",
              "      <th>222156</th>\n",
              "      <td>Hamlet</td>\n",
              "      <td>1969</td>\n",
              "    </tr>\n",
              "    <tr>\n",
              "      <th>218339</th>\n",
              "      <td>Hamlet</td>\n",
              "      <td>1973</td>\n",
              "    </tr>\n",
              "    <tr>\n",
              "      <th>8214</th>\n",
              "      <td>Hamlet</td>\n",
              "      <td>1976</td>\n",
              "    </tr>\n",
              "    <tr>\n",
              "      <th>180979</th>\n",
              "      <td>Hamlet</td>\n",
              "      <td>1987</td>\n",
              "    </tr>\n",
              "    <tr>\n",
              "      <th>98326</th>\n",
              "      <td>Hamlet</td>\n",
              "      <td>1990</td>\n",
              "    </tr>\n",
              "    <tr>\n",
              "      <th>241149</th>\n",
              "      <td>Hamlet</td>\n",
              "      <td>1996</td>\n",
              "    </tr>\n",
              "    <tr>\n",
              "      <th>55639</th>\n",
              "      <td>Hamlet</td>\n",
              "      <td>2000</td>\n",
              "    </tr>\n",
              "    <tr>\n",
              "      <th>1931</th>\n",
              "      <td>Hamlet</td>\n",
              "      <td>2009</td>\n",
              "    </tr>\n",
              "    <tr>\n",
              "      <th>227953</th>\n",
              "      <td>Hamlet</td>\n",
              "      <td>2011</td>\n",
              "    </tr>\n",
              "    <tr>\n",
              "      <th>178290</th>\n",
              "      <td>Hamlet</td>\n",
              "      <td>2014</td>\n",
              "    </tr>\n",
              "    <tr>\n",
              "      <th>186137</th>\n",
              "      <td>Hamlet</td>\n",
              "      <td>2015</td>\n",
              "    </tr>\n",
              "    <tr>\n",
              "      <th>191940</th>\n",
              "      <td>Hamlet</td>\n",
              "      <td>2016</td>\n",
              "    </tr>\n",
              "    <tr>\n",
              "      <th>244747</th>\n",
              "      <td>Hamlet</td>\n",
              "      <td>2017</td>\n",
              "    </tr>\n",
              "  </tbody>\n",
              "</table>\n",
              "</div>\n",
              "      <button class=\"colab-df-convert\" onclick=\"convertToInteractive('df-410282df-ecad-4398-9d52-6b046affff32')\"\n",
              "              title=\"Convert this dataframe to an interactive table.\"\n",
              "              style=\"display:none;\">\n",
              "        \n",
              "  <svg xmlns=\"http://www.w3.org/2000/svg\" height=\"24px\"viewBox=\"0 0 24 24\"\n",
              "       width=\"24px\">\n",
              "    <path d=\"M0 0h24v24H0V0z\" fill=\"none\"/>\n",
              "    <path d=\"M18.56 5.44l.94 2.06.94-2.06 2.06-.94-2.06-.94-.94-2.06-.94 2.06-2.06.94zm-11 1L8.5 8.5l.94-2.06 2.06-.94-2.06-.94L8.5 2.5l-.94 2.06-2.06.94zm10 10l.94 2.06.94-2.06 2.06-.94-2.06-.94-.94-2.06-.94 2.06-2.06.94z\"/><path d=\"M17.41 7.96l-1.37-1.37c-.4-.4-.92-.59-1.43-.59-.52 0-1.04.2-1.43.59L10.3 9.45l-7.72 7.72c-.78.78-.78 2.05 0 2.83L4 21.41c.39.39.9.59 1.41.59.51 0 1.02-.2 1.41-.59l7.78-7.78 2.81-2.81c.8-.78.8-2.07 0-2.86zM5.41 20L4 18.59l7.72-7.72 1.47 1.35L5.41 20z\"/>\n",
              "  </svg>\n",
              "      </button>\n",
              "      \n",
              "  <style>\n",
              "    .colab-df-container {\n",
              "      display:flex;\n",
              "      flex-wrap:wrap;\n",
              "      gap: 12px;\n",
              "    }\n",
              "\n",
              "    .colab-df-convert {\n",
              "      background-color: #E8F0FE;\n",
              "      border: none;\n",
              "      border-radius: 50%;\n",
              "      cursor: pointer;\n",
              "      display: none;\n",
              "      fill: #1967D2;\n",
              "      height: 32px;\n",
              "      padding: 0 0 0 0;\n",
              "      width: 32px;\n",
              "    }\n",
              "\n",
              "    .colab-df-convert:hover {\n",
              "      background-color: #E2EBFA;\n",
              "      box-shadow: 0px 1px 2px rgba(60, 64, 67, 0.3), 0px 1px 3px 1px rgba(60, 64, 67, 0.15);\n",
              "      fill: #174EA6;\n",
              "    }\n",
              "\n",
              "    [theme=dark] .colab-df-convert {\n",
              "      background-color: #3B4455;\n",
              "      fill: #D2E3FC;\n",
              "    }\n",
              "\n",
              "    [theme=dark] .colab-df-convert:hover {\n",
              "      background-color: #434B5C;\n",
              "      box-shadow: 0px 1px 3px 1px rgba(0, 0, 0, 0.15);\n",
              "      filter: drop-shadow(0px 1px 2px rgba(0, 0, 0, 0.3));\n",
              "      fill: #FFFFFF;\n",
              "    }\n",
              "  </style>\n",
              "\n",
              "      <script>\n",
              "        const buttonEl =\n",
              "          document.querySelector('#df-410282df-ecad-4398-9d52-6b046affff32 button.colab-df-convert');\n",
              "        buttonEl.style.display =\n",
              "          google.colab.kernel.accessAllowed ? 'block' : 'none';\n",
              "\n",
              "        async function convertToInteractive(key) {\n",
              "          const element = document.querySelector('#df-410282df-ecad-4398-9d52-6b046affff32');\n",
              "          const dataTable =\n",
              "            await google.colab.kernel.invokeFunction('convertToInteractive',\n",
              "                                                     [key], {});\n",
              "          if (!dataTable) return;\n",
              "\n",
              "          const docLinkHtml = 'Like what you see? Visit the ' +\n",
              "            '<a target=\"_blank\" href=https://colab.research.google.com/notebooks/data_table.ipynb>data table notebook</a>'\n",
              "            + ' to learn more about interactive tables.';\n",
              "          element.innerHTML = '';\n",
              "          dataTable['output_type'] = 'display_data';\n",
              "          await google.colab.output.renderOutput(dataTable, element);\n",
              "          const docLink = document.createElement('div');\n",
              "          docLink.innerHTML = docLinkHtml;\n",
              "          element.appendChild(docLink);\n",
              "        }\n",
              "      </script>\n",
              "    </div>\n",
              "  </div>\n",
              "  "
            ]
          },
          "metadata": {},
          "execution_count": 18
        }
      ],
      "source": [
        "# sorted_df = hamlet_df.sort_values(by='title', ascending = False)\n",
        "# sorted_df\n",
        "\n",
        "df2 = movies[movies.title == 'Hamlet']\n",
        "sorted_df2 = df2.sort_values(by='year', ascending=True)\n",
        "sorted_df2\n"
      ]
    },
    {
      "cell_type": "markdown",
      "metadata": {
        "id": "aRxRY27OALUv"
      },
      "source": [
        "### Section I - Q6: How many roles in the movie \"Inception\" are of the supporting cast (extra credits)\n",
        "- supporting cast are NOT ranked by an \"n\" value (NaN)\n",
        "- check for how to filter based on nulls"
      ]
    },
    {
      "cell_type": "code",
      "execution_count": 19,
      "metadata": {
        "id": "LaGVm7h2ALUw",
        "colab": {
          "base_uri": "https://localhost:8080/"
        },
        "outputId": "c1c509e2-632e-4089-8633-ab8e38c03c1e"
      },
      "outputs": [
        {
          "output_type": "stream",
          "name": "stdout",
          "text": [
            "25\n"
          ]
        }
      ],
      "source": [
        "inception_df = cast[cast.title == 'Inception']\n",
        "inception_df\n",
        "\n",
        "supporting_cast = inception_df['n'].isna().sum()\n",
        "print(supporting_cast)"
      ]
    },
    {
      "cell_type": "markdown",
      "metadata": {
        "id": "Wqm8mQQsALUw"
      },
      "source": [
        "### Section I - Q7: How many roles in the movie \"Inception\" are of the main cast\n",
        "- main cast always have an 'n' value"
      ]
    },
    {
      "cell_type": "code",
      "execution_count": 20,
      "metadata": {
        "id": "_NvLpwfmALUw",
        "colab": {
          "base_uri": "https://localhost:8080/"
        },
        "outputId": "a19a0059-6281-4e72-ab53-dd80a3f94335"
      },
      "outputs": [
        {
          "output_type": "stream",
          "name": "stdout",
          "text": [
            "40\n"
          ]
        }
      ],
      "source": [
        "total_cast = len(inception_df['n'])\n",
        "\n",
        "main_cast = total_cast - supporting_cast\n",
        "\n",
        "print(main_cast)"
      ]
    },
    {
      "cell_type": "markdown",
      "metadata": {
        "id": "PMjqO0TSALUw"
      },
      "source": [
        "### Section I - Q8: Show the top ten cast (actors\\actresses) in the movie \"Inception\" \n",
        "- main cast always have an 'n' value\n",
        "- remember to sort!"
      ]
    },
    {
      "cell_type": "code",
      "execution_count": 21,
      "metadata": {
        "id": "yMHXqlJtALVA",
        "colab": {
          "base_uri": "https://localhost:8080/",
          "height": 363
        },
        "outputId": "6c731526-c4fd-4e2a-e86c-1b2d641f63f8"
      },
      "outputs": [
        {
          "output_type": "execute_result",
          "data": {
            "text/plain": [
              "             title  year                  name     type        character     n\n",
              "590576   Inception  2010     Leonardo DiCaprio    actor             Cobb   1.0\n",
              "859993   Inception  2010  Joseph Gordon-Levitt    actor           Arthur   2.0\n",
              "940923   Inception  2010             Tom Hardy    actor            Eames   4.0\n",
              "2406531  Inception  2010          Ken Watanabe    actor            Saito   5.0\n",
              "1876301  Inception  2010            Dileep Rao    actor            Yusuf   6.0\n",
              "1615709  Inception  2010        Cillian Murphy    actor   Robert Fischer   7.0\n",
              "183937   Inception  2010          Tom Berenger    actor         Browning   8.0\n",
              "2765969  Inception  2010      Marion Cotillard  actress              Mal   9.0\n",
              "1826027  Inception  2010    Pete Postlethwaite    actor  Maurice Fischer  10.0\n",
              "326745   Inception  2010         Michael Caine    actor            Miles  11.0"
            ],
            "text/html": [
              "\n",
              "  <div id=\"df-92a26ed7-c9b5-47e5-874f-3fa2921fbc86\">\n",
              "    <div class=\"colab-df-container\">\n",
              "      <div>\n",
              "<style scoped>\n",
              "    .dataframe tbody tr th:only-of-type {\n",
              "        vertical-align: middle;\n",
              "    }\n",
              "\n",
              "    .dataframe tbody tr th {\n",
              "        vertical-align: top;\n",
              "    }\n",
              "\n",
              "    .dataframe thead th {\n",
              "        text-align: right;\n",
              "    }\n",
              "</style>\n",
              "<table border=\"1\" class=\"dataframe\">\n",
              "  <thead>\n",
              "    <tr style=\"text-align: right;\">\n",
              "      <th></th>\n",
              "      <th>title</th>\n",
              "      <th>year</th>\n",
              "      <th>name</th>\n",
              "      <th>type</th>\n",
              "      <th>character</th>\n",
              "      <th>n</th>\n",
              "    </tr>\n",
              "  </thead>\n",
              "  <tbody>\n",
              "    <tr>\n",
              "      <th>590576</th>\n",
              "      <td>Inception</td>\n",
              "      <td>2010</td>\n",
              "      <td>Leonardo DiCaprio</td>\n",
              "      <td>actor</td>\n",
              "      <td>Cobb</td>\n",
              "      <td>1.0</td>\n",
              "    </tr>\n",
              "    <tr>\n",
              "      <th>859993</th>\n",
              "      <td>Inception</td>\n",
              "      <td>2010</td>\n",
              "      <td>Joseph Gordon-Levitt</td>\n",
              "      <td>actor</td>\n",
              "      <td>Arthur</td>\n",
              "      <td>2.0</td>\n",
              "    </tr>\n",
              "    <tr>\n",
              "      <th>940923</th>\n",
              "      <td>Inception</td>\n",
              "      <td>2010</td>\n",
              "      <td>Tom Hardy</td>\n",
              "      <td>actor</td>\n",
              "      <td>Eames</td>\n",
              "      <td>4.0</td>\n",
              "    </tr>\n",
              "    <tr>\n",
              "      <th>2406531</th>\n",
              "      <td>Inception</td>\n",
              "      <td>2010</td>\n",
              "      <td>Ken Watanabe</td>\n",
              "      <td>actor</td>\n",
              "      <td>Saito</td>\n",
              "      <td>5.0</td>\n",
              "    </tr>\n",
              "    <tr>\n",
              "      <th>1876301</th>\n",
              "      <td>Inception</td>\n",
              "      <td>2010</td>\n",
              "      <td>Dileep Rao</td>\n",
              "      <td>actor</td>\n",
              "      <td>Yusuf</td>\n",
              "      <td>6.0</td>\n",
              "    </tr>\n",
              "    <tr>\n",
              "      <th>1615709</th>\n",
              "      <td>Inception</td>\n",
              "      <td>2010</td>\n",
              "      <td>Cillian Murphy</td>\n",
              "      <td>actor</td>\n",
              "      <td>Robert Fischer</td>\n",
              "      <td>7.0</td>\n",
              "    </tr>\n",
              "    <tr>\n",
              "      <th>183937</th>\n",
              "      <td>Inception</td>\n",
              "      <td>2010</td>\n",
              "      <td>Tom Berenger</td>\n",
              "      <td>actor</td>\n",
              "      <td>Browning</td>\n",
              "      <td>8.0</td>\n",
              "    </tr>\n",
              "    <tr>\n",
              "      <th>2765969</th>\n",
              "      <td>Inception</td>\n",
              "      <td>2010</td>\n",
              "      <td>Marion Cotillard</td>\n",
              "      <td>actress</td>\n",
              "      <td>Mal</td>\n",
              "      <td>9.0</td>\n",
              "    </tr>\n",
              "    <tr>\n",
              "      <th>1826027</th>\n",
              "      <td>Inception</td>\n",
              "      <td>2010</td>\n",
              "      <td>Pete Postlethwaite</td>\n",
              "      <td>actor</td>\n",
              "      <td>Maurice Fischer</td>\n",
              "      <td>10.0</td>\n",
              "    </tr>\n",
              "    <tr>\n",
              "      <th>326745</th>\n",
              "      <td>Inception</td>\n",
              "      <td>2010</td>\n",
              "      <td>Michael Caine</td>\n",
              "      <td>actor</td>\n",
              "      <td>Miles</td>\n",
              "      <td>11.0</td>\n",
              "    </tr>\n",
              "  </tbody>\n",
              "</table>\n",
              "</div>\n",
              "      <button class=\"colab-df-convert\" onclick=\"convertToInteractive('df-92a26ed7-c9b5-47e5-874f-3fa2921fbc86')\"\n",
              "              title=\"Convert this dataframe to an interactive table.\"\n",
              "              style=\"display:none;\">\n",
              "        \n",
              "  <svg xmlns=\"http://www.w3.org/2000/svg\" height=\"24px\"viewBox=\"0 0 24 24\"\n",
              "       width=\"24px\">\n",
              "    <path d=\"M0 0h24v24H0V0z\" fill=\"none\"/>\n",
              "    <path d=\"M18.56 5.44l.94 2.06.94-2.06 2.06-.94-2.06-.94-.94-2.06-.94 2.06-2.06.94zm-11 1L8.5 8.5l.94-2.06 2.06-.94-2.06-.94L8.5 2.5l-.94 2.06-2.06.94zm10 10l.94 2.06.94-2.06 2.06-.94-2.06-.94-.94-2.06-.94 2.06-2.06.94z\"/><path d=\"M17.41 7.96l-1.37-1.37c-.4-.4-.92-.59-1.43-.59-.52 0-1.04.2-1.43.59L10.3 9.45l-7.72 7.72c-.78.78-.78 2.05 0 2.83L4 21.41c.39.39.9.59 1.41.59.51 0 1.02-.2 1.41-.59l7.78-7.78 2.81-2.81c.8-.78.8-2.07 0-2.86zM5.41 20L4 18.59l7.72-7.72 1.47 1.35L5.41 20z\"/>\n",
              "  </svg>\n",
              "      </button>\n",
              "      \n",
              "  <style>\n",
              "    .colab-df-container {\n",
              "      display:flex;\n",
              "      flex-wrap:wrap;\n",
              "      gap: 12px;\n",
              "    }\n",
              "\n",
              "    .colab-df-convert {\n",
              "      background-color: #E8F0FE;\n",
              "      border: none;\n",
              "      border-radius: 50%;\n",
              "      cursor: pointer;\n",
              "      display: none;\n",
              "      fill: #1967D2;\n",
              "      height: 32px;\n",
              "      padding: 0 0 0 0;\n",
              "      width: 32px;\n",
              "    }\n",
              "\n",
              "    .colab-df-convert:hover {\n",
              "      background-color: #E2EBFA;\n",
              "      box-shadow: 0px 1px 2px rgba(60, 64, 67, 0.3), 0px 1px 3px 1px rgba(60, 64, 67, 0.15);\n",
              "      fill: #174EA6;\n",
              "    }\n",
              "\n",
              "    [theme=dark] .colab-df-convert {\n",
              "      background-color: #3B4455;\n",
              "      fill: #D2E3FC;\n",
              "    }\n",
              "\n",
              "    [theme=dark] .colab-df-convert:hover {\n",
              "      background-color: #434B5C;\n",
              "      box-shadow: 0px 1px 3px 1px rgba(0, 0, 0, 0.15);\n",
              "      filter: drop-shadow(0px 1px 2px rgba(0, 0, 0, 0.3));\n",
              "      fill: #FFFFFF;\n",
              "    }\n",
              "  </style>\n",
              "\n",
              "      <script>\n",
              "        const buttonEl =\n",
              "          document.querySelector('#df-92a26ed7-c9b5-47e5-874f-3fa2921fbc86 button.colab-df-convert');\n",
              "        buttonEl.style.display =\n",
              "          google.colab.kernel.accessAllowed ? 'block' : 'none';\n",
              "\n",
              "        async function convertToInteractive(key) {\n",
              "          const element = document.querySelector('#df-92a26ed7-c9b5-47e5-874f-3fa2921fbc86');\n",
              "          const dataTable =\n",
              "            await google.colab.kernel.invokeFunction('convertToInteractive',\n",
              "                                                     [key], {});\n",
              "          if (!dataTable) return;\n",
              "\n",
              "          const docLinkHtml = 'Like what you see? Visit the ' +\n",
              "            '<a target=\"_blank\" href=https://colab.research.google.com/notebooks/data_table.ipynb>data table notebook</a>'\n",
              "            + ' to learn more about interactive tables.';\n",
              "          element.innerHTML = '';\n",
              "          dataTable['output_type'] = 'display_data';\n",
              "          await google.colab.output.renderOutput(dataTable, element);\n",
              "          const docLink = document.createElement('div');\n",
              "          docLink.innerHTML = docLinkHtml;\n",
              "          element.appendChild(docLink);\n",
              "        }\n",
              "      </script>\n",
              "    </div>\n",
              "  </div>\n",
              "  "
            ]
          },
          "metadata": {},
          "execution_count": 21
        }
      ],
      "source": [
        "sorted_df = inception_df.sort_values(by='n')\n",
        "\n",
        "sorted_df.head(10)"
      ]
    },
    {
      "cell_type": "markdown",
      "metadata": {
        "id": "cpLzmkYbALVA"
      },
      "source": [
        "### Section I - Q9:\n",
        "\n",
        "(A) List all movies where there was a character 'Albus Dumbledore' \n",
        "\n",
        "(B) Now modify the above to show only the actors who played the character 'Albus Dumbledore'\n",
        "- For Part (B) remember the same actor might play the same role in multiple movies"
      ]
    },
    {
      "cell_type": "code",
      "execution_count": 22,
      "metadata": {
        "id": "aOpR8O6ZALVB",
        "colab": {
          "base_uri": "https://localhost:8080/",
          "height": 300
        },
        "outputId": "c1440ef4-4124-4b94-cda4-d39ee3750b18"
      },
      "outputs": [
        {
          "output_type": "execute_result",
          "data": {
            "text/plain": [
              "                                             title  year                 name  \\\n",
              "704984                                  Epic Movie  2007         Dane Farwell   \n",
              "792421         Harry Potter and the Goblet of Fire  2005       Michael Gambon   \n",
              "792423   Harry Potter and the Order of the Phoenix  2007       Michael Gambon   \n",
              "792424    Harry Potter and the Prisoner of Azkaban  2004       Michael Gambon   \n",
              "947789     Harry Potter and the Chamber of Secrets  2002       Richard Harris   \n",
              "947790       Harry Potter and the Sorcerer's Stone  2001       Richard Harris   \n",
              "1685537                      Ultimate Hero Project  2013  George (X) O'Connor   \n",
              "2248085                                     Potter  2015    Timothy Tedmanson   \n",
              "\n",
              "          type         character     n  \n",
              "704984   actor  Albus Dumbledore  17.0  \n",
              "792421   actor  Albus Dumbledore  37.0  \n",
              "792423   actor  Albus Dumbledore  36.0  \n",
              "792424   actor  Albus Dumbledore  27.0  \n",
              "947789   actor  Albus Dumbledore  32.0  \n",
              "947790   actor  Albus Dumbledore   1.0  \n",
              "1685537  actor  Albus Dumbledore   NaN  \n",
              "2248085  actor  Albus Dumbledore   NaN  "
            ],
            "text/html": [
              "\n",
              "  <div id=\"df-20c33119-e7f6-4263-a0b4-036e2c08d036\">\n",
              "    <div class=\"colab-df-container\">\n",
              "      <div>\n",
              "<style scoped>\n",
              "    .dataframe tbody tr th:only-of-type {\n",
              "        vertical-align: middle;\n",
              "    }\n",
              "\n",
              "    .dataframe tbody tr th {\n",
              "        vertical-align: top;\n",
              "    }\n",
              "\n",
              "    .dataframe thead th {\n",
              "        text-align: right;\n",
              "    }\n",
              "</style>\n",
              "<table border=\"1\" class=\"dataframe\">\n",
              "  <thead>\n",
              "    <tr style=\"text-align: right;\">\n",
              "      <th></th>\n",
              "      <th>title</th>\n",
              "      <th>year</th>\n",
              "      <th>name</th>\n",
              "      <th>type</th>\n",
              "      <th>character</th>\n",
              "      <th>n</th>\n",
              "    </tr>\n",
              "  </thead>\n",
              "  <tbody>\n",
              "    <tr>\n",
              "      <th>704984</th>\n",
              "      <td>Epic Movie</td>\n",
              "      <td>2007</td>\n",
              "      <td>Dane Farwell</td>\n",
              "      <td>actor</td>\n",
              "      <td>Albus Dumbledore</td>\n",
              "      <td>17.0</td>\n",
              "    </tr>\n",
              "    <tr>\n",
              "      <th>792421</th>\n",
              "      <td>Harry Potter and the Goblet of Fire</td>\n",
              "      <td>2005</td>\n",
              "      <td>Michael Gambon</td>\n",
              "      <td>actor</td>\n",
              "      <td>Albus Dumbledore</td>\n",
              "      <td>37.0</td>\n",
              "    </tr>\n",
              "    <tr>\n",
              "      <th>792423</th>\n",
              "      <td>Harry Potter and the Order of the Phoenix</td>\n",
              "      <td>2007</td>\n",
              "      <td>Michael Gambon</td>\n",
              "      <td>actor</td>\n",
              "      <td>Albus Dumbledore</td>\n",
              "      <td>36.0</td>\n",
              "    </tr>\n",
              "    <tr>\n",
              "      <th>792424</th>\n",
              "      <td>Harry Potter and the Prisoner of Azkaban</td>\n",
              "      <td>2004</td>\n",
              "      <td>Michael Gambon</td>\n",
              "      <td>actor</td>\n",
              "      <td>Albus Dumbledore</td>\n",
              "      <td>27.0</td>\n",
              "    </tr>\n",
              "    <tr>\n",
              "      <th>947789</th>\n",
              "      <td>Harry Potter and the Chamber of Secrets</td>\n",
              "      <td>2002</td>\n",
              "      <td>Richard Harris</td>\n",
              "      <td>actor</td>\n",
              "      <td>Albus Dumbledore</td>\n",
              "      <td>32.0</td>\n",
              "    </tr>\n",
              "    <tr>\n",
              "      <th>947790</th>\n",
              "      <td>Harry Potter and the Sorcerer's Stone</td>\n",
              "      <td>2001</td>\n",
              "      <td>Richard Harris</td>\n",
              "      <td>actor</td>\n",
              "      <td>Albus Dumbledore</td>\n",
              "      <td>1.0</td>\n",
              "    </tr>\n",
              "    <tr>\n",
              "      <th>1685537</th>\n",
              "      <td>Ultimate Hero Project</td>\n",
              "      <td>2013</td>\n",
              "      <td>George (X) O'Connor</td>\n",
              "      <td>actor</td>\n",
              "      <td>Albus Dumbledore</td>\n",
              "      <td>NaN</td>\n",
              "    </tr>\n",
              "    <tr>\n",
              "      <th>2248085</th>\n",
              "      <td>Potter</td>\n",
              "      <td>2015</td>\n",
              "      <td>Timothy Tedmanson</td>\n",
              "      <td>actor</td>\n",
              "      <td>Albus Dumbledore</td>\n",
              "      <td>NaN</td>\n",
              "    </tr>\n",
              "  </tbody>\n",
              "</table>\n",
              "</div>\n",
              "      <button class=\"colab-df-convert\" onclick=\"convertToInteractive('df-20c33119-e7f6-4263-a0b4-036e2c08d036')\"\n",
              "              title=\"Convert this dataframe to an interactive table.\"\n",
              "              style=\"display:none;\">\n",
              "        \n",
              "  <svg xmlns=\"http://www.w3.org/2000/svg\" height=\"24px\"viewBox=\"0 0 24 24\"\n",
              "       width=\"24px\">\n",
              "    <path d=\"M0 0h24v24H0V0z\" fill=\"none\"/>\n",
              "    <path d=\"M18.56 5.44l.94 2.06.94-2.06 2.06-.94-2.06-.94-.94-2.06-.94 2.06-2.06.94zm-11 1L8.5 8.5l.94-2.06 2.06-.94-2.06-.94L8.5 2.5l-.94 2.06-2.06.94zm10 10l.94 2.06.94-2.06 2.06-.94-2.06-.94-.94-2.06-.94 2.06-2.06.94z\"/><path d=\"M17.41 7.96l-1.37-1.37c-.4-.4-.92-.59-1.43-.59-.52 0-1.04.2-1.43.59L10.3 9.45l-7.72 7.72c-.78.78-.78 2.05 0 2.83L4 21.41c.39.39.9.59 1.41.59.51 0 1.02-.2 1.41-.59l7.78-7.78 2.81-2.81c.8-.78.8-2.07 0-2.86zM5.41 20L4 18.59l7.72-7.72 1.47 1.35L5.41 20z\"/>\n",
              "  </svg>\n",
              "      </button>\n",
              "      \n",
              "  <style>\n",
              "    .colab-df-container {\n",
              "      display:flex;\n",
              "      flex-wrap:wrap;\n",
              "      gap: 12px;\n",
              "    }\n",
              "\n",
              "    .colab-df-convert {\n",
              "      background-color: #E8F0FE;\n",
              "      border: none;\n",
              "      border-radius: 50%;\n",
              "      cursor: pointer;\n",
              "      display: none;\n",
              "      fill: #1967D2;\n",
              "      height: 32px;\n",
              "      padding: 0 0 0 0;\n",
              "      width: 32px;\n",
              "    }\n",
              "\n",
              "    .colab-df-convert:hover {\n",
              "      background-color: #E2EBFA;\n",
              "      box-shadow: 0px 1px 2px rgba(60, 64, 67, 0.3), 0px 1px 3px 1px rgba(60, 64, 67, 0.15);\n",
              "      fill: #174EA6;\n",
              "    }\n",
              "\n",
              "    [theme=dark] .colab-df-convert {\n",
              "      background-color: #3B4455;\n",
              "      fill: #D2E3FC;\n",
              "    }\n",
              "\n",
              "    [theme=dark] .colab-df-convert:hover {\n",
              "      background-color: #434B5C;\n",
              "      box-shadow: 0px 1px 3px 1px rgba(0, 0, 0, 0.15);\n",
              "      filter: drop-shadow(0px 1px 2px rgba(0, 0, 0, 0.3));\n",
              "      fill: #FFFFFF;\n",
              "    }\n",
              "  </style>\n",
              "\n",
              "      <script>\n",
              "        const buttonEl =\n",
              "          document.querySelector('#df-20c33119-e7f6-4263-a0b4-036e2c08d036 button.colab-df-convert');\n",
              "        buttonEl.style.display =\n",
              "          google.colab.kernel.accessAllowed ? 'block' : 'none';\n",
              "\n",
              "        async function convertToInteractive(key) {\n",
              "          const element = document.querySelector('#df-20c33119-e7f6-4263-a0b4-036e2c08d036');\n",
              "          const dataTable =\n",
              "            await google.colab.kernel.invokeFunction('convertToInteractive',\n",
              "                                                     [key], {});\n",
              "          if (!dataTable) return;\n",
              "\n",
              "          const docLinkHtml = 'Like what you see? Visit the ' +\n",
              "            '<a target=\"_blank\" href=https://colab.research.google.com/notebooks/data_table.ipynb>data table notebook</a>'\n",
              "            + ' to learn more about interactive tables.';\n",
              "          element.innerHTML = '';\n",
              "          dataTable['output_type'] = 'display_data';\n",
              "          await google.colab.output.renderOutput(dataTable, element);\n",
              "          const docLink = document.createElement('div');\n",
              "          docLink.innerHTML = docLinkHtml;\n",
              "          element.appendChild(docLink);\n",
              "        }\n",
              "      </script>\n",
              "    </div>\n",
              "  </div>\n",
              "  "
            ]
          },
          "metadata": {},
          "execution_count": 22
        }
      ],
      "source": [
        "AD_df = cast[cast['character'] == 'Albus Dumbledore']\n",
        "AD_df"
      ]
    },
    {
      "cell_type": "code",
      "execution_count": 23,
      "metadata": {
        "id": "G-R4dyPyALVB",
        "colab": {
          "base_uri": "https://localhost:8080/"
        },
        "outputId": "adc6a33c-208e-402f-ab1c-e853ec82a933"
      },
      "outputs": [
        {
          "output_type": "stream",
          "name": "stdout",
          "text": [
            "['Dane Farwell' 'Michael Gambon' 'Richard Harris' \"George (X) O'Connor\"\n",
            " 'Timothy Tedmanson']\n"
          ]
        }
      ],
      "source": [
        "names = AD_df['name'].unique()\n",
        "\n",
        "print(names)\n",
        "\n"
      ]
    },
    {
      "cell_type": "markdown",
      "metadata": {
        "id": "KJlvif3XALVB"
      },
      "source": [
        "### Section I - Q10:\n",
        "\n",
        "(A) How many roles has 'Keanu Reeves' played throughout his career?\n",
        "\n",
        "(B) List the leading roles that 'Keanu Reeves' played on or after 1999 in order by year."
      ]
    },
    {
      "cell_type": "code",
      "execution_count": 29,
      "metadata": {
        "id": "-zSoKQ2YALVB",
        "colab": {
          "base_uri": "https://localhost:8080/",
          "height": 520
        },
        "outputId": "f8f0afe4-ac2e-4d80-9bbf-a15d99536e0f"
      },
      "outputs": [
        {
          "output_type": "execute_result",
          "data": {
            "text/plain": [
              "                                 title  year          name   type  \\\n",
              "1892390                     The Matrix  1999  Keanu Reeves  actor   \n",
              "1892397               The Replacements  2000  Keanu Reeves  actor   \n",
              "1892358                      Hard Ball  2001  Keanu Reeves  actor   \n",
              "1892383                 Sweet November  2001  Keanu Reeves  actor   \n",
              "1892348                    Constantine  2005  Keanu Reeves  actor   \n",
              "1892388                 The Lake House  2006  Keanu Reeves  actor   \n",
              "1892382                   Street Kings  2008  Keanu Reeves  actor   \n",
              "1892385  The Day the Earth Stood Still  2008  Keanu Reeves  actor   \n",
              "1892359                  Henry's Crime  2010  Keanu Reeves  actor   \n",
              "1892342                       47 Ronin  2013  Keanu Reeves  actor   \n",
              "1892361                      John Wick  2014  Keanu Reeves  actor   \n",
              "1892366                    Knock Knock  2015  Keanu Reeves  actor   \n",
              "1892399                The Whole Truth  2016  Keanu Reeves  actor   \n",
              "1892362           John Wick: Chapter 2  2017  Keanu Reeves  actor   \n",
              "1892378                        Siberia  2018  Keanu Reeves  actor   \n",
              "\n",
              "                    character    n  \n",
              "1892390                   Neo  1.0  \n",
              "1892397           Shane Falco  1.0  \n",
              "1892358         Conor O'Neill  1.0  \n",
              "1892383           Nelson Moss  1.0  \n",
              "1892348      John Constantine  1.0  \n",
              "1892388            Alex Wyler  1.0  \n",
              "1892382  Detective Tom Ludlow  1.0  \n",
              "1892385                Klaatu  1.0  \n",
              "1892359           Henry Torne  1.0  \n",
              "1892342                   Kai  1.0  \n",
              "1892361             John Wick  1.0  \n",
              "1892366                  Evan  1.0  \n",
              "1892399                Ramsey  1.0  \n",
              "1892362             John Wick  1.0  \n",
              "1892378            Lucas Hill  1.0  "
            ],
            "text/html": [
              "\n",
              "  <div id=\"df-1782e8a8-4735-46eb-b76f-851553913bb7\">\n",
              "    <div class=\"colab-df-container\">\n",
              "      <div>\n",
              "<style scoped>\n",
              "    .dataframe tbody tr th:only-of-type {\n",
              "        vertical-align: middle;\n",
              "    }\n",
              "\n",
              "    .dataframe tbody tr th {\n",
              "        vertical-align: top;\n",
              "    }\n",
              "\n",
              "    .dataframe thead th {\n",
              "        text-align: right;\n",
              "    }\n",
              "</style>\n",
              "<table border=\"1\" class=\"dataframe\">\n",
              "  <thead>\n",
              "    <tr style=\"text-align: right;\">\n",
              "      <th></th>\n",
              "      <th>title</th>\n",
              "      <th>year</th>\n",
              "      <th>name</th>\n",
              "      <th>type</th>\n",
              "      <th>character</th>\n",
              "      <th>n</th>\n",
              "    </tr>\n",
              "  </thead>\n",
              "  <tbody>\n",
              "    <tr>\n",
              "      <th>1892390</th>\n",
              "      <td>The Matrix</td>\n",
              "      <td>1999</td>\n",
              "      <td>Keanu Reeves</td>\n",
              "      <td>actor</td>\n",
              "      <td>Neo</td>\n",
              "      <td>1.0</td>\n",
              "    </tr>\n",
              "    <tr>\n",
              "      <th>1892397</th>\n",
              "      <td>The Replacements</td>\n",
              "      <td>2000</td>\n",
              "      <td>Keanu Reeves</td>\n",
              "      <td>actor</td>\n",
              "      <td>Shane Falco</td>\n",
              "      <td>1.0</td>\n",
              "    </tr>\n",
              "    <tr>\n",
              "      <th>1892358</th>\n",
              "      <td>Hard Ball</td>\n",
              "      <td>2001</td>\n",
              "      <td>Keanu Reeves</td>\n",
              "      <td>actor</td>\n",
              "      <td>Conor O'Neill</td>\n",
              "      <td>1.0</td>\n",
              "    </tr>\n",
              "    <tr>\n",
              "      <th>1892383</th>\n",
              "      <td>Sweet November</td>\n",
              "      <td>2001</td>\n",
              "      <td>Keanu Reeves</td>\n",
              "      <td>actor</td>\n",
              "      <td>Nelson Moss</td>\n",
              "      <td>1.0</td>\n",
              "    </tr>\n",
              "    <tr>\n",
              "      <th>1892348</th>\n",
              "      <td>Constantine</td>\n",
              "      <td>2005</td>\n",
              "      <td>Keanu Reeves</td>\n",
              "      <td>actor</td>\n",
              "      <td>John Constantine</td>\n",
              "      <td>1.0</td>\n",
              "    </tr>\n",
              "    <tr>\n",
              "      <th>1892388</th>\n",
              "      <td>The Lake House</td>\n",
              "      <td>2006</td>\n",
              "      <td>Keanu Reeves</td>\n",
              "      <td>actor</td>\n",
              "      <td>Alex Wyler</td>\n",
              "      <td>1.0</td>\n",
              "    </tr>\n",
              "    <tr>\n",
              "      <th>1892382</th>\n",
              "      <td>Street Kings</td>\n",
              "      <td>2008</td>\n",
              "      <td>Keanu Reeves</td>\n",
              "      <td>actor</td>\n",
              "      <td>Detective Tom Ludlow</td>\n",
              "      <td>1.0</td>\n",
              "    </tr>\n",
              "    <tr>\n",
              "      <th>1892385</th>\n",
              "      <td>The Day the Earth Stood Still</td>\n",
              "      <td>2008</td>\n",
              "      <td>Keanu Reeves</td>\n",
              "      <td>actor</td>\n",
              "      <td>Klaatu</td>\n",
              "      <td>1.0</td>\n",
              "    </tr>\n",
              "    <tr>\n",
              "      <th>1892359</th>\n",
              "      <td>Henry's Crime</td>\n",
              "      <td>2010</td>\n",
              "      <td>Keanu Reeves</td>\n",
              "      <td>actor</td>\n",
              "      <td>Henry Torne</td>\n",
              "      <td>1.0</td>\n",
              "    </tr>\n",
              "    <tr>\n",
              "      <th>1892342</th>\n",
              "      <td>47 Ronin</td>\n",
              "      <td>2013</td>\n",
              "      <td>Keanu Reeves</td>\n",
              "      <td>actor</td>\n",
              "      <td>Kai</td>\n",
              "      <td>1.0</td>\n",
              "    </tr>\n",
              "    <tr>\n",
              "      <th>1892361</th>\n",
              "      <td>John Wick</td>\n",
              "      <td>2014</td>\n",
              "      <td>Keanu Reeves</td>\n",
              "      <td>actor</td>\n",
              "      <td>John Wick</td>\n",
              "      <td>1.0</td>\n",
              "    </tr>\n",
              "    <tr>\n",
              "      <th>1892366</th>\n",
              "      <td>Knock Knock</td>\n",
              "      <td>2015</td>\n",
              "      <td>Keanu Reeves</td>\n",
              "      <td>actor</td>\n",
              "      <td>Evan</td>\n",
              "      <td>1.0</td>\n",
              "    </tr>\n",
              "    <tr>\n",
              "      <th>1892399</th>\n",
              "      <td>The Whole Truth</td>\n",
              "      <td>2016</td>\n",
              "      <td>Keanu Reeves</td>\n",
              "      <td>actor</td>\n",
              "      <td>Ramsey</td>\n",
              "      <td>1.0</td>\n",
              "    </tr>\n",
              "    <tr>\n",
              "      <th>1892362</th>\n",
              "      <td>John Wick: Chapter 2</td>\n",
              "      <td>2017</td>\n",
              "      <td>Keanu Reeves</td>\n",
              "      <td>actor</td>\n",
              "      <td>John Wick</td>\n",
              "      <td>1.0</td>\n",
              "    </tr>\n",
              "    <tr>\n",
              "      <th>1892378</th>\n",
              "      <td>Siberia</td>\n",
              "      <td>2018</td>\n",
              "      <td>Keanu Reeves</td>\n",
              "      <td>actor</td>\n",
              "      <td>Lucas Hill</td>\n",
              "      <td>1.0</td>\n",
              "    </tr>\n",
              "  </tbody>\n",
              "</table>\n",
              "</div>\n",
              "      <button class=\"colab-df-convert\" onclick=\"convertToInteractive('df-1782e8a8-4735-46eb-b76f-851553913bb7')\"\n",
              "              title=\"Convert this dataframe to an interactive table.\"\n",
              "              style=\"display:none;\">\n",
              "        \n",
              "  <svg xmlns=\"http://www.w3.org/2000/svg\" height=\"24px\"viewBox=\"0 0 24 24\"\n",
              "       width=\"24px\">\n",
              "    <path d=\"M0 0h24v24H0V0z\" fill=\"none\"/>\n",
              "    <path d=\"M18.56 5.44l.94 2.06.94-2.06 2.06-.94-2.06-.94-.94-2.06-.94 2.06-2.06.94zm-11 1L8.5 8.5l.94-2.06 2.06-.94-2.06-.94L8.5 2.5l-.94 2.06-2.06.94zm10 10l.94 2.06.94-2.06 2.06-.94-2.06-.94-.94-2.06-.94 2.06-2.06.94z\"/><path d=\"M17.41 7.96l-1.37-1.37c-.4-.4-.92-.59-1.43-.59-.52 0-1.04.2-1.43.59L10.3 9.45l-7.72 7.72c-.78.78-.78 2.05 0 2.83L4 21.41c.39.39.9.59 1.41.59.51 0 1.02-.2 1.41-.59l7.78-7.78 2.81-2.81c.8-.78.8-2.07 0-2.86zM5.41 20L4 18.59l7.72-7.72 1.47 1.35L5.41 20z\"/>\n",
              "  </svg>\n",
              "      </button>\n",
              "      \n",
              "  <style>\n",
              "    .colab-df-container {\n",
              "      display:flex;\n",
              "      flex-wrap:wrap;\n",
              "      gap: 12px;\n",
              "    }\n",
              "\n",
              "    .colab-df-convert {\n",
              "      background-color: #E8F0FE;\n",
              "      border: none;\n",
              "      border-radius: 50%;\n",
              "      cursor: pointer;\n",
              "      display: none;\n",
              "      fill: #1967D2;\n",
              "      height: 32px;\n",
              "      padding: 0 0 0 0;\n",
              "      width: 32px;\n",
              "    }\n",
              "\n",
              "    .colab-df-convert:hover {\n",
              "      background-color: #E2EBFA;\n",
              "      box-shadow: 0px 1px 2px rgba(60, 64, 67, 0.3), 0px 1px 3px 1px rgba(60, 64, 67, 0.15);\n",
              "      fill: #174EA6;\n",
              "    }\n",
              "\n",
              "    [theme=dark] .colab-df-convert {\n",
              "      background-color: #3B4455;\n",
              "      fill: #D2E3FC;\n",
              "    }\n",
              "\n",
              "    [theme=dark] .colab-df-convert:hover {\n",
              "      background-color: #434B5C;\n",
              "      box-shadow: 0px 1px 3px 1px rgba(0, 0, 0, 0.15);\n",
              "      filter: drop-shadow(0px 1px 2px rgba(0, 0, 0, 0.3));\n",
              "      fill: #FFFFFF;\n",
              "    }\n",
              "  </style>\n",
              "\n",
              "      <script>\n",
              "        const buttonEl =\n",
              "          document.querySelector('#df-1782e8a8-4735-46eb-b76f-851553913bb7 button.colab-df-convert');\n",
              "        buttonEl.style.display =\n",
              "          google.colab.kernel.accessAllowed ? 'block' : 'none';\n",
              "\n",
              "        async function convertToInteractive(key) {\n",
              "          const element = document.querySelector('#df-1782e8a8-4735-46eb-b76f-851553913bb7');\n",
              "          const dataTable =\n",
              "            await google.colab.kernel.invokeFunction('convertToInteractive',\n",
              "                                                     [key], {});\n",
              "          if (!dataTable) return;\n",
              "\n",
              "          const docLinkHtml = 'Like what you see? Visit the ' +\n",
              "            '<a target=\"_blank\" href=https://colab.research.google.com/notebooks/data_table.ipynb>data table notebook</a>'\n",
              "            + ' to learn more about interactive tables.';\n",
              "          element.innerHTML = '';\n",
              "          dataTable['output_type'] = 'display_data';\n",
              "          await google.colab.output.renderOutput(dataTable, element);\n",
              "          const docLink = document.createElement('div');\n",
              "          docLink.innerHTML = docLinkHtml;\n",
              "          element.appendChild(docLink);\n",
              "        }\n",
              "      </script>\n",
              "    </div>\n",
              "  </div>\n",
              "  "
            ]
          },
          "metadata": {},
          "execution_count": 29
        }
      ],
      "source": [
        "\n",
        "# roles played in career:\n",
        "KR_df = cast[cast.name == 'Keanu Reeves']\n",
        "len(KR_df)\n",
        "\n",
        "# leading roles played after 1999\n",
        "sorted_KR_df = KR_df.sort_values(by='year')\n",
        "filtered_KR_df = sorted_KR_df[(sorted_KR_df['year'] >= 1999) & (sorted_KR_df['n'] == 1)]\n",
        "\n",
        "filtered_KR_df"
      ]
    },
    {
      "cell_type": "code",
      "execution_count": null,
      "metadata": {
        "id": "OflIHA1DALVB"
      },
      "outputs": [],
      "source": []
    },
    {
      "cell_type": "markdown",
      "metadata": {
        "id": "BTbt2e_lALVB"
      },
      "source": [
        "### Section I - Q11: \n",
        "\n",
        "(A) List the total number of actor and actress roles available from 1950 - 1960\n",
        "\n",
        "(B) List the total number of actor and actress roles available from 2007 - 2017"
      ]
    },
    {
      "cell_type": "code",
      "execution_count": 30,
      "metadata": {
        "id": "VR18KbuoALVB",
        "colab": {
          "base_uri": "https://localhost:8080/",
          "height": 424
        },
        "outputId": "dd5849b1-d027-4c54-b56f-66a02c1a35bc"
      },
      "outputs": [
        {
          "output_type": "execute_result",
          "data": {
            "text/plain": [
              "                         title  year               name     type  \\\n",
              "482247              Miss Jerry  1894  William Courtenay    actor   \n",
              "576354              Miss Jerry  1894     Chauncey Depew    actor   \n",
              "2612704             Miss Jerry  1894    Blanche Bayliss  actress   \n",
              "1782161  Soldiers of the Cross  1900          Reg Perry    actor   \n",
              "1782006  Soldiers of the Cross  1900        Orrie Perry    actor   \n",
              "...                        ...   ...                ...      ...   \n",
              "2725134               Avatar 5  2025  Oona (II) Chaplin  actress   \n",
              "2482031               Avatar 5  2025    Sam Worthington    actor   \n",
              "2516044              100 Years  2115        Marko Zaror    actor   \n",
              "1415428              100 Years  2115     John Malkovich    actor   \n",
              "2724388              100 Years  2115        Shuya Chang  actress   \n",
              "\n",
              "                                                 character   n  \n",
              "482247                                        Mr. Hamilton NaN  \n",
              "576354   Himself - the Director of the New York Central... NaN  \n",
              "2612704               Miss Geraldine Holbrook (Miss Jerry) NaN  \n",
              "1782161                                               Lion NaN  \n",
              "1782006                                               Lion NaN  \n",
              "...                                                    ...  ..  \n",
              "2725134                                             Varang NaN  \n",
              "2482031                                         Jake Sully NaN  \n",
              "2516044                                            Bad Guy NaN  \n",
              "1415428                                               Hero NaN  \n",
              "2724388                                          Hero Girl NaN  \n",
              "\n",
              "[2957028 rows x 6 columns]"
            ],
            "text/html": [
              "\n",
              "  <div id=\"df-0114c7b7-dda4-429b-b0bb-00413039bbc1\">\n",
              "    <div class=\"colab-df-container\">\n",
              "      <div>\n",
              "<style scoped>\n",
              "    .dataframe tbody tr th:only-of-type {\n",
              "        vertical-align: middle;\n",
              "    }\n",
              "\n",
              "    .dataframe tbody tr th {\n",
              "        vertical-align: top;\n",
              "    }\n",
              "\n",
              "    .dataframe thead th {\n",
              "        text-align: right;\n",
              "    }\n",
              "</style>\n",
              "<table border=\"1\" class=\"dataframe\">\n",
              "  <thead>\n",
              "    <tr style=\"text-align: right;\">\n",
              "      <th></th>\n",
              "      <th>title</th>\n",
              "      <th>year</th>\n",
              "      <th>name</th>\n",
              "      <th>type</th>\n",
              "      <th>character</th>\n",
              "      <th>n</th>\n",
              "    </tr>\n",
              "  </thead>\n",
              "  <tbody>\n",
              "    <tr>\n",
              "      <th>482247</th>\n",
              "      <td>Miss Jerry</td>\n",
              "      <td>1894</td>\n",
              "      <td>William Courtenay</td>\n",
              "      <td>actor</td>\n",
              "      <td>Mr. Hamilton</td>\n",
              "      <td>NaN</td>\n",
              "    </tr>\n",
              "    <tr>\n",
              "      <th>576354</th>\n",
              "      <td>Miss Jerry</td>\n",
              "      <td>1894</td>\n",
              "      <td>Chauncey Depew</td>\n",
              "      <td>actor</td>\n",
              "      <td>Himself - the Director of the New York Central...</td>\n",
              "      <td>NaN</td>\n",
              "    </tr>\n",
              "    <tr>\n",
              "      <th>2612704</th>\n",
              "      <td>Miss Jerry</td>\n",
              "      <td>1894</td>\n",
              "      <td>Blanche Bayliss</td>\n",
              "      <td>actress</td>\n",
              "      <td>Miss Geraldine Holbrook (Miss Jerry)</td>\n",
              "      <td>NaN</td>\n",
              "    </tr>\n",
              "    <tr>\n",
              "      <th>1782161</th>\n",
              "      <td>Soldiers of the Cross</td>\n",
              "      <td>1900</td>\n",
              "      <td>Reg Perry</td>\n",
              "      <td>actor</td>\n",
              "      <td>Lion</td>\n",
              "      <td>NaN</td>\n",
              "    </tr>\n",
              "    <tr>\n",
              "      <th>1782006</th>\n",
              "      <td>Soldiers of the Cross</td>\n",
              "      <td>1900</td>\n",
              "      <td>Orrie Perry</td>\n",
              "      <td>actor</td>\n",
              "      <td>Lion</td>\n",
              "      <td>NaN</td>\n",
              "    </tr>\n",
              "    <tr>\n",
              "      <th>...</th>\n",
              "      <td>...</td>\n",
              "      <td>...</td>\n",
              "      <td>...</td>\n",
              "      <td>...</td>\n",
              "      <td>...</td>\n",
              "      <td>...</td>\n",
              "    </tr>\n",
              "    <tr>\n",
              "      <th>2725134</th>\n",
              "      <td>Avatar 5</td>\n",
              "      <td>2025</td>\n",
              "      <td>Oona (II) Chaplin</td>\n",
              "      <td>actress</td>\n",
              "      <td>Varang</td>\n",
              "      <td>NaN</td>\n",
              "    </tr>\n",
              "    <tr>\n",
              "      <th>2482031</th>\n",
              "      <td>Avatar 5</td>\n",
              "      <td>2025</td>\n",
              "      <td>Sam Worthington</td>\n",
              "      <td>actor</td>\n",
              "      <td>Jake Sully</td>\n",
              "      <td>NaN</td>\n",
              "    </tr>\n",
              "    <tr>\n",
              "      <th>2516044</th>\n",
              "      <td>100 Years</td>\n",
              "      <td>2115</td>\n",
              "      <td>Marko Zaror</td>\n",
              "      <td>actor</td>\n",
              "      <td>Bad Guy</td>\n",
              "      <td>NaN</td>\n",
              "    </tr>\n",
              "    <tr>\n",
              "      <th>1415428</th>\n",
              "      <td>100 Years</td>\n",
              "      <td>2115</td>\n",
              "      <td>John Malkovich</td>\n",
              "      <td>actor</td>\n",
              "      <td>Hero</td>\n",
              "      <td>NaN</td>\n",
              "    </tr>\n",
              "    <tr>\n",
              "      <th>2724388</th>\n",
              "      <td>100 Years</td>\n",
              "      <td>2115</td>\n",
              "      <td>Shuya Chang</td>\n",
              "      <td>actress</td>\n",
              "      <td>Hero Girl</td>\n",
              "      <td>NaN</td>\n",
              "    </tr>\n",
              "  </tbody>\n",
              "</table>\n",
              "<p>2957028 rows × 6 columns</p>\n",
              "</div>\n",
              "      <button class=\"colab-df-convert\" onclick=\"convertToInteractive('df-0114c7b7-dda4-429b-b0bb-00413039bbc1')\"\n",
              "              title=\"Convert this dataframe to an interactive table.\"\n",
              "              style=\"display:none;\">\n",
              "        \n",
              "  <svg xmlns=\"http://www.w3.org/2000/svg\" height=\"24px\"viewBox=\"0 0 24 24\"\n",
              "       width=\"24px\">\n",
              "    <path d=\"M0 0h24v24H0V0z\" fill=\"none\"/>\n",
              "    <path d=\"M18.56 5.44l.94 2.06.94-2.06 2.06-.94-2.06-.94-.94-2.06-.94 2.06-2.06.94zm-11 1L8.5 8.5l.94-2.06 2.06-.94-2.06-.94L8.5 2.5l-.94 2.06-2.06.94zm10 10l.94 2.06.94-2.06 2.06-.94-2.06-.94-.94-2.06-.94 2.06-2.06.94z\"/><path d=\"M17.41 7.96l-1.37-1.37c-.4-.4-.92-.59-1.43-.59-.52 0-1.04.2-1.43.59L10.3 9.45l-7.72 7.72c-.78.78-.78 2.05 0 2.83L4 21.41c.39.39.9.59 1.41.59.51 0 1.02-.2 1.41-.59l7.78-7.78 2.81-2.81c.8-.78.8-2.07 0-2.86zM5.41 20L4 18.59l7.72-7.72 1.47 1.35L5.41 20z\"/>\n",
              "  </svg>\n",
              "      </button>\n",
              "      \n",
              "  <style>\n",
              "    .colab-df-container {\n",
              "      display:flex;\n",
              "      flex-wrap:wrap;\n",
              "      gap: 12px;\n",
              "    }\n",
              "\n",
              "    .colab-df-convert {\n",
              "      background-color: #E8F0FE;\n",
              "      border: none;\n",
              "      border-radius: 50%;\n",
              "      cursor: pointer;\n",
              "      display: none;\n",
              "      fill: #1967D2;\n",
              "      height: 32px;\n",
              "      padding: 0 0 0 0;\n",
              "      width: 32px;\n",
              "    }\n",
              "\n",
              "    .colab-df-convert:hover {\n",
              "      background-color: #E2EBFA;\n",
              "      box-shadow: 0px 1px 2px rgba(60, 64, 67, 0.3), 0px 1px 3px 1px rgba(60, 64, 67, 0.15);\n",
              "      fill: #174EA6;\n",
              "    }\n",
              "\n",
              "    [theme=dark] .colab-df-convert {\n",
              "      background-color: #3B4455;\n",
              "      fill: #D2E3FC;\n",
              "    }\n",
              "\n",
              "    [theme=dark] .colab-df-convert:hover {\n",
              "      background-color: #434B5C;\n",
              "      box-shadow: 0px 1px 3px 1px rgba(0, 0, 0, 0.15);\n",
              "      filter: drop-shadow(0px 1px 2px rgba(0, 0, 0, 0.3));\n",
              "      fill: #FFFFFF;\n",
              "    }\n",
              "  </style>\n",
              "\n",
              "      <script>\n",
              "        const buttonEl =\n",
              "          document.querySelector('#df-0114c7b7-dda4-429b-b0bb-00413039bbc1 button.colab-df-convert');\n",
              "        buttonEl.style.display =\n",
              "          google.colab.kernel.accessAllowed ? 'block' : 'none';\n",
              "\n",
              "        async function convertToInteractive(key) {\n",
              "          const element = document.querySelector('#df-0114c7b7-dda4-429b-b0bb-00413039bbc1');\n",
              "          const dataTable =\n",
              "            await google.colab.kernel.invokeFunction('convertToInteractive',\n",
              "                                                     [key], {});\n",
              "          if (!dataTable) return;\n",
              "\n",
              "          const docLinkHtml = 'Like what you see? Visit the ' +\n",
              "            '<a target=\"_blank\" href=https://colab.research.google.com/notebooks/data_table.ipynb>data table notebook</a>'\n",
              "            + ' to learn more about interactive tables.';\n",
              "          element.innerHTML = '';\n",
              "          dataTable['output_type'] = 'display_data';\n",
              "          await google.colab.output.renderOutput(dataTable, element);\n",
              "          const docLink = document.createElement('div');\n",
              "          docLink.innerHTML = docLinkHtml;\n",
              "          element.appendChild(docLink);\n",
              "        }\n",
              "      </script>\n",
              "    </div>\n",
              "  </div>\n",
              "  "
            ]
          },
          "metadata": {},
          "execution_count": 30
        }
      ],
      "source": [
        "sorted_cast = cast.sort_values(by='year')\n",
        "sorted_cast"
      ]
    },
    {
      "cell_type": "code",
      "execution_count": 31,
      "metadata": {
        "id": "A3UdldV8ALVB",
        "colab": {
          "base_uri": "https://localhost:8080/"
        },
        "outputId": "92b2a145-72d5-473f-84c0-b8d6ed020252"
      },
      "outputs": [
        {
          "output_type": "stream",
          "name": "stdout",
          "text": [
            "192842\n"
          ]
        }
      ],
      "source": [
        "filtered_df = sorted_cast[(sorted_cast['year'] >= 1950) & (sorted_cast['year'] <= 1960)]\n",
        "\n",
        "filtered_df\n",
        "print(len(filtered_df['year']))"
      ]
    },
    {
      "cell_type": "markdown",
      "metadata": {
        "id": "f1oD15JsALVB"
      },
      "source": [
        "### Section I - Q12: \n",
        "\n",
        "(A) List the total number of leading roles available from 2000 to present\n",
        "\n",
        "(B) List the total number of non-leading roles available from 2000 - present (exclude support cast)\n",
        "\n",
        "(C) List the total number of support\\extra-credit roles available from 2000 - present"
      ]
    },
    {
      "cell_type": "code",
      "execution_count": 32,
      "metadata": {
        "id": "rrZ8WUO9ALVB",
        "colab": {
          "base_uri": "https://localhost:8080/"
        },
        "outputId": "ce37238a-8cd1-400b-f322-55984a494ef8"
      },
      "outputs": [
        {
          "output_type": "stream",
          "name": "stdout",
          "text": [
            "48026\n",
            "669569\n",
            "757923\n",
            "1475518\n",
            "\n",
            "From 2000 - present, there were 1475518 total roles,  of which 669569 were played \n",
            "by extras, 757923 were supporting characters, leaving 48026 leading roles.\n"
          ]
        }
      ],
      "source": [
        "# getting the data from 2000 - present\n",
        "current_cast = cast[(cast['year'] >= 2000)]\n",
        "present_cast = current_cast.sort_values(by='year', ascending=False)\n",
        "\n",
        "# leading roles from 2000 - present (n=1)\n",
        "leading_roles = len(present_cast[present_cast['n'] == 1])\n",
        "\n",
        "# supporting roles (n >= 1), extras (n=NaN)\n",
        "extras = present_cast['n'].isna().sum()\n",
        "total_roles = len(present_cast['n'])\n",
        "supporting_roles = total_roles - (extras + leading_roles)\n",
        "\n",
        "# totals\n",
        "\n",
        "print(leading_roles)\n",
        "print(extras)\n",
        "print(supporting_roles)\n",
        "print(total_roles)\n",
        "\n",
        "print(f\"\\nFrom 2000 - present, there were {total_roles} total roles,  of which {extras} were played \\nby extras, {supporting_roles} were supporting characters, leaving {leading_roles} leading roles.\")\n"
      ]
    },
    {
      "cell_type": "markdown",
      "metadata": {
        "id": "2EaSV5x9ALVC"
      },
      "source": [
        "# Section II - Aggregations, Transformations and Visualizations"
      ]
    },
    {
      "cell_type": "markdown",
      "metadata": {
        "id": "kx3rXo3hALVC"
      },
      "source": [
        "## What are the top ten most common movie names of all time?\n"
      ]
    },
    {
      "cell_type": "code",
      "execution_count": 33,
      "metadata": {
        "id": "ZBvCLc-RALVC",
        "colab": {
          "base_uri": "https://localhost:8080/"
        },
        "outputId": "dd5f859f-6988-4257-b89f-8b4278203bf9"
      },
      "outputs": [
        {
          "output_type": "execute_result",
          "data": {
            "text/plain": [
              "Hamlet                  20\n",
              "Carmen                  17\n",
              "Macbeth                 16\n",
              "Maya                    12\n",
              "Temptation              12\n",
              "The Outsider            12\n",
              "Freedom                 11\n",
              "The Three Musketeers    11\n",
              "Honeymoon               11\n",
              "Othello                 11\n",
              "Name: title, dtype: int64"
            ]
          },
          "metadata": {},
          "execution_count": 33
        }
      ],
      "source": [
        "top_ten = movies.title.value_counts()[:10]\n",
        "top_ten"
      ]
    },
    {
      "cell_type": "markdown",
      "metadata": {
        "id": "UkMPwWhBALVC"
      },
      "source": [
        "### Plot the top ten common movie names of all time"
      ]
    },
    {
      "cell_type": "code",
      "execution_count": 34,
      "metadata": {
        "id": "VZyYhmiYALVC",
        "colab": {
          "base_uri": "https://localhost:8080/",
          "height": 448
        },
        "outputId": "c19c8a5c-31a5-476d-bbc9-a965aea48fc4"
      },
      "outputs": [
        {
          "output_type": "execute_result",
          "data": {
            "text/plain": [
              "<Axes: >"
            ]
          },
          "metadata": {},
          "execution_count": 34
        },
        {
          "output_type": "display_data",
          "data": {
            "text/plain": [
              "<Figure size 640x480 with 1 Axes>"
            ],
            "image/png": "[encoded data removed]"
          },
          "metadata": {}
        }
      ],
      "source": [
        "top_ten.plot(kind='barh')"
      ]
    },
    {
      "cell_type": "markdown",
      "metadata": {
        "id": "1c_UJRhgALVC"
      },
      "source": [
        "### Section II - Q1:  Which years in the 2000s saw the most movies released? (Show top 3)"
      ]
    },
    {
      "cell_type": "code",
      "execution_count": 35,
      "metadata": {
        "id": "Jxduf3ovALVC",
        "colab": {
          "base_uri": "https://localhost:8080/"
        },
        "outputId": "7c94a231-3fb4-4e9a-b04e-261d97d2b80f"
      },
      "outputs": [
        {
          "output_type": "stream",
          "name": "stdout",
          "text": [
            "2017    11474\n",
            "2016     9440\n",
            "2015     8702\n",
            "Name: year, dtype: int64\n"
          ]
        }
      ],
      "source": [
        "most_movies = movies['year'].value_counts().nlargest(3)\n",
        "\n",
        "print(most_movies)"
      ]
    },
    {
      "cell_type": "markdown",
      "metadata": {
        "id": "TMbaz2xBALVC"
      },
      "source": [
        "### Section II - Q2: # Plot the total number of films released per-decade (1890, 1900, 1910,....)\n",
        "- Hint: Dividing the year and multiplying with a number might give you the decade the year falls into!\n",
        "- You might need to sort before plotting"
      ]
    },
    {
      "cell_type": "code",
      "execution_count": 47,
      "metadata": {
        "id": "3ZANSqnDALVC",
        "colab": {
          "base_uri": "https://localhost:8080/",
          "height": 448
        },
        "outputId": "828e8e7c-6f61-4c07-fbf2-b4d4b868ffd7"
      },
      "outputs": [
        {
          "output_type": "execute_result",
          "data": {
            "text/plain": [
              "<Axes: >"
            ]
          },
          "metadata": {},
          "execution_count": 47
        },
        {
          "output_type": "display_data",
          "data": {
            "text/plain": [
              "<Figure size 640x480 with 1 Axes>"
            ],
            "image/png": "[encoded data removed]"
          },
          "metadata": {}
        }
      ],
      "source": [
        "# adding a decade column\n",
        "movies_decade = movies\n",
        "movies_decade['decade'] = movies_decade.year / 10\n",
        "movies_decade['decade'] = movies_decade['decade'].astype(int)\n",
        "movies_decade['decade'] = movies_decade['decade'] * 10\n",
        "\n",
        "# sorting by decade\n",
        "sorted_movies = movies_decade.sort_values(by='decade')\n",
        "sorted_movies\n",
        "\n",
        "# films per decade\n",
        "films_per_decade = sorted_movies['decade'].value_counts()\n",
        "\n",
        "# plotting\n",
        "films_per_decade.plot(kind='barh')"
      ]
    },
    {
      "cell_type": "markdown",
      "metadata": {
        "id": "qfNZmLDVALVD"
      },
      "source": [
        "### Section II - Q3: \n",
        "\n",
        "(A) What are the top 10 most common character names in movie history?\n",
        "\n",
        "(B) Who are the top 10 people most often credited as \"Herself\" in movie history?\n",
        "\n",
        "(C) Who are the top 10 people most often credited as \"Himself\" in movie history?"
      ]
    },
    {
      "cell_type": "code",
      "execution_count": 82,
      "metadata": {
        "id": "iDD56NX1ALVD",
        "colab": {
          "base_uri": "https://localhost:8080/"
        },
        "outputId": "cf5b5b0e-98f7-4423-b8ff-b18ff4034b6a"
      },
      "outputs": [
        {
          "output_type": "execute_result",
          "data": {
            "text/plain": [
              "Himself        20719\n",
              "Extra           8484\n",
              "Dancer          7461\n",
              "Doctor          7100\n",
              "Policeman       7022\n",
              "Reporter        7013\n",
              "Bartender       6173\n",
              "Townsman        5874\n",
              "Party Guest     5498\n",
              "Student         5425\n",
              "Name: character, dtype: int64"
            ]
          },
          "metadata": {},
          "execution_count": 82
        }
      ],
      "source": [
        "# most common character names\n",
        "most_common_character_names = cast['character'].value_counts().nlargest(10)\n",
        "most_common_character_names\n"
      ]
    },
    {
      "cell_type": "code",
      "execution_count": 81,
      "metadata": {
        "id": "e91D1T9lALVD",
        "colab": {
          "base_uri": "https://localhost:8080/"
        },
        "outputId": "7712f0b5-ef9e-4590-a337-8c60bcfd2bf0"
      },
      "outputs": [
        {
          "output_type": "execute_result",
          "data": {
            "text/plain": [
              "Joyce Brothers         9\n",
              "Hillary Clinton        8\n",
              "Marta Berrocal         6\n",
              "Estrella Borja         5\n",
              "Paula (XI) Gonz?lez    4\n",
              "Chris Evert            4\n",
              "Corazon Aquino         4\n",
              "Inday Badiday          4\n",
              "Candie (III)           4\n",
              "Brigitte Bardot        4\n",
              "Name: name, dtype: int64"
            ]
          },
          "metadata": {},
          "execution_count": 81
        }
      ],
      "source": [
        "# sorting for herself \n",
        "herself_df = cast[(cast['character'] == \"Herself\")]\n",
        "\n",
        "# finding the people most credited with herself\n",
        "most_herself = herself_df['name'].value_counts().nlargest(10)\n",
        "\n",
        "most_herself"
      ]
    },
    {
      "cell_type": "code",
      "execution_count": 80,
      "metadata": {
        "id": "xSWkNlbKALVD",
        "colab": {
          "base_uri": "https://localhost:8080/"
        },
        "outputId": "11f988ad-af88-4c3d-e4f8-b0c491cb7757"
      },
      "outputs": [
        {
          "output_type": "execute_result",
          "data": {
            "text/plain": [
              "Adolf Hitler          99\n",
              "Richard Nixon         44\n",
              "Ronald Reagan         41\n",
              "John F. Kennedy       37\n",
              "George W. Bush        25\n",
              "Winston Churchill     24\n",
              "Martin Luther King    23\n",
              "Bill Clinton          22\n",
              "Ron Jeremy            22\n",
              "Benito Mussolini      21\n",
              "Name: name, dtype: int64"
            ]
          },
          "metadata": {},
          "execution_count": 80
        }
      ],
      "source": [
        "# sorted for himself\n",
        "himself_df = cast[(cast['character'] == \"Himself\")]\n",
        "\n",
        "# finding the people most credited with himself\n",
        "most_himself = himself_df['name'].value_counts().nlargest(10)\n",
        "\n",
        "most_himself"
      ]
    },
    {
      "cell_type": "markdown",
      "metadata": {
        "id": "d8Rh0-C1ALVD"
      },
      "source": [
        "### Section II - Q4: \n",
        "\n",
        "(A) What are the top 10 most frequent roles that start with the word \"Zombie\"?\n",
        "\n",
        "(B) What are the top 10 most frequent roles that start with the word \"Police\"?\n",
        "\n",
        "- Hint: The `startswith()` function might be useful"
      ]
    },
    {
      "cell_type": "code",
      "execution_count": 88,
      "metadata": {
        "id": "gfsD2S8PALVD",
        "colab": {
          "base_uri": "https://localhost:8080/"
        },
        "outputId": "385ef295-3767-4e31-e3a9-5dda6657c331"
      },
      "outputs": [
        {
          "output_type": "execute_result",
          "data": {
            "text/plain": [
              "Zombie                         4708\n",
              "Zombie Horde                    141\n",
              "Zombie - Protestor - Victim      64\n",
              "Zombie Extra                     58\n",
              "Zombie #1                        34\n",
              "Zombie #2                        25\n",
              "Zombie Dancer                    23\n",
              "Zombie Vampire                   20\n",
              "Zombie Victim                    17\n",
              "Zombie 2                         16\n",
              "Name: character, dtype: int64"
            ]
          },
          "metadata": {},
          "execution_count": 88
        }
      ],
      "source": [
        "zombie_count = cast.character.str.startswith('Zombie')\n",
        "zombie_df = cast.loc[zombie_count]\n",
        "most_zombies = zombie_df['character'].value_counts().nlargest(10)\n",
        "most_zombies"
      ]
    },
    {
      "cell_type": "code",
      "execution_count": 89,
      "metadata": {
        "id": "R8YReMwpALVD",
        "colab": {
          "base_uri": "https://localhost:8080/"
        },
        "outputId": "65cb1805-6591-4ae9-8271-2edae2a6b571"
      },
      "outputs": [
        {
          "output_type": "execute_result",
          "data": {
            "text/plain": [
              "Policeman              7022\n",
              "Police Officer         4541\n",
              "Police Inspector        734\n",
              "Police Sergeant         669\n",
              "Police officer          503\n",
              "Police                  434\n",
              "Police Chief            407\n",
              "Police Captain          386\n",
              "Police Commissioner     335\n",
              "Police Detective        314\n",
              "Name: character, dtype: int64"
            ]
          },
          "metadata": {},
          "execution_count": 89
        }
      ],
      "source": [
        "police_count = cast.character.str.startswith('Police')\n",
        "police_df = cast.loc[police_count]\n",
        "most_police = police_df['character'].value_counts().nlargest(10)\n",
        "most_police"
      ]
    },
    {
      "cell_type": "markdown",
      "metadata": {
        "id": "anjLaIoVALVD"
      },
      "source": [
        "### Section II - Q5: Plot how many roles 'Keanu Reeves' has played in each year of his career."
      ]
    },
    {
      "cell_type": "code",
      "execution_count": 119,
      "metadata": {
        "id": "hDJP3amwALVD",
        "colab": {
          "base_uri": "https://localhost:8080/",
          "height": 586
        },
        "outputId": "0dfd902e-1678-471a-c0a4-295cdc3d098f"
      },
      "outputs": [
        {
          "output_type": "display_data",
          "data": {
            "text/plain": [
              "<Figure size 1000x600 with 1 Axes>"
            ],
            "image/png": "[encoded data removed]"
          },
          "metadata": {}
        }
      ],
      "source": [
        "import matplotlib.pyplot as plt\n",
        "\n",
        "# Group by year and count the number of roles\n",
        "roles_per_year = sorted_KR_df.groupby('year').size()\n",
        "\n",
        "# Plot the number of roles per year\n",
        "roles_per_year.plot(kind='bar', figsize=(10, 6))\n",
        "plt.xlabel('Year')\n",
        "plt.ylabel('Number of Roles')\n",
        "plt.title('Number of Roles Played by Keanu Reeves per Year')\n",
        "plt.show()"
      ]
    },
    {
      "cell_type": "markdown",
      "metadata": {
        "id": "u9KZEN9DALVD"
      },
      "source": [
        "### Section II - Q6: Plot the cast positions (n-values) of Keanu Reeve's roles through his career over the years.\n"
      ]
    },
    {
      "cell_type": "code",
      "execution_count": 125,
      "metadata": {
        "id": "PKz3WB9XALVE",
        "colab": {
          "base_uri": "https://localhost:8080/",
          "height": 589
        },
        "outputId": "670cbf13-17bc-4098-e4cd-087272e1a654"
      },
      "outputs": [
        {
          "output_type": "display_data",
          "data": {
            "text/plain": [
              "<Figure size 1000x600 with 1 Axes>"
            ],
            "image/png": "[encoded data removed]"
          },
          "metadata": {}
        }
      ],
      "source": [
        "# Group by n-value and count the number of roles\n",
        "n_per_year = sorted_KR_df.groupby('n').size()\n",
        "\n",
        "# Plot the number of roles per year\n",
        "n_per_year.plot(kind='bar', figsize=(10, 6))\n",
        "plt.xlabel('Cast Number')\n",
        "plt.ylabel('Frequency')\n",
        "plt.title('Cast Positions Played by Keanu Reeves per Year', fontdict={'fontsize': 20})\n",
        "plt.show()"
      ]
    },
    {
      "cell_type": "markdown",
      "metadata": {
        "id": "HMVujNc2ALVE"
      },
      "source": [
        "### Section II - Q7: Plot the number of \"Hamlet\" films made by each decade"
      ]
    },
    {
      "cell_type": "code",
      "execution_count": 138,
      "metadata": {
        "id": "Mh-8mjhjALVE",
        "colab": {
          "base_uri": "https://localhost:8080/",
          "height": 505
        },
        "outputId": "7ad7ba55-6de3-4387-8cb5-cde01fd2ff02"
      },
      "outputs": [
        {
          "output_type": "display_data",
          "data": {
            "text/plain": [
              "<Figure size 640x480 with 1 Axes>"
            ],
            "image/png": "[encoded data removed]"
          },
          "metadata": {}
        }
      ],
      "source": [
        "sorted_hamlet = sorted_movies[(sorted_movies['title'] == 'Hamlet')]\n",
        "\n",
        "hamlet_per_decade = sorted_hamlet.groupby('decade').size()\n",
        "\n",
        "hamlet_per_decade.plot(kind='bar')\n",
        "plt.xlabel('Decade')\n",
        "plt.ylabel('Frequency')\n",
        "plt.title('Hamlet Movies per Decade', fontdict = {'fontsize': 24})\n",
        "plt.show()"
      ]
    },
    {
      "cell_type": "markdown",
      "metadata": {
        "id": "oOLcPjg4ALVE"
      },
      "source": [
        "### Section II - Q8: \n",
        "\n",
        "(A) How many leading roles were available to both actors and actresses, in the 1960s (1960-1969)?\n",
        "\n",
        "(B) How many leading roles were available to both actors and actresses, in the 2000s (2000-2009)?\n",
        "\n",
        "- Hint: A specific value of n might indicate a leading role"
      ]
    },
    {
      "cell_type": "code",
      "execution_count": 153,
      "metadata": {
        "id": "OwLThjDbALVE",
        "colab": {
          "base_uri": "https://localhost:8080/"
        },
        "outputId": "a9b9d5b7-e8e3-43aa-e7d3-5c2555aef037"
      },
      "outputs": [
        {
          "output_type": "stream",
          "name": "stdout",
          "text": [
            "1960    9344\n",
            "Name: decade, dtype: int64\n"
          ]
        }
      ],
      "source": [
        "cast_decade = cast.sort_values(by='year')\n",
        "cast_decade['decade'] = cast_decade.year / 10\n",
        "cast_decade['decade'] = cast_decade['decade'].astype(int)\n",
        "cast_decade['decade'] = cast_decade['decade'] * 10\n",
        "\n",
        "lead_roles = cast_decade[(cast_decade['n'] == 1)]\n",
        "leading_roles_per_decade = lead_roles['decade'].value_counts()\n",
        "\n",
        "print(leading_roles_per_decade.loc[leading_roles_per_decade.index == 1960])\n",
        "\n"
      ]
    },
    {
      "cell_type": "code",
      "execution_count": 154,
      "metadata": {
        "id": "jnd17xHZALVE",
        "colab": {
          "base_uri": "https://localhost:8080/"
        },
        "outputId": "473181a2-c91e-4422-ad00-782ef8bc592c"
      },
      "outputs": [
        {
          "output_type": "stream",
          "name": "stdout",
          "text": [
            "2000    21161\n",
            "Name: decade, dtype: int64\n"
          ]
        }
      ],
      "source": [
        "print(leading_roles_per_decade.loc[leading_roles_per_decade.index == 2000])"
      ]
    },
    {
      "cell_type": "markdown",
      "metadata": {
        "id": "E_3rn_tmALVE"
      },
      "source": [
        "### Section II - Q9: List, in order by year, each of the films in which Frank Oz has played more than 1 role."
      ]
    },
    {
      "cell_type": "code",
      "execution_count": 158,
      "metadata": {
        "id": "ia0IWKB-ALVE",
        "colab": {
          "base_uri": "https://localhost:8080/"
        },
        "outputId": "b6830ef0-6585-43a2-e9ba-86a307061f86"
      },
      "outputs": [
        {
          "output_type": "stream",
          "name": "stdout",
          "text": [
            "title\n",
            "An American Werewolf in London          2\n",
            "The Dark Crystal                        2\n",
            "Follow That Bird                        3\n",
            "The Adventures of Elmo in Grouchland    3\n",
            "Muppet Treasure Island                  4\n",
            "Muppets from Space                      4\n",
            "The Great Muppet Caper                  6\n",
            "The Muppet Christmas Carol              7\n",
            "The Muppets Take Manhattan              7\n",
            "The Muppet Movie                        8\n",
            "dtype: int64\n"
          ]
        }
      ],
      "source": [
        "cast.head()\n",
        "\n",
        "frank_oz_films = cast[cast['name'] == 'Frank Oz']\n",
        "\n",
        "# Group by film and count the number of roles\n",
        "roles_per_film = frank_oz_films.groupby('title').size()\n",
        "\n",
        "# Filter for films with more than one role\n",
        "films_with_multiple_roles = roles_per_film[roles_per_film > 1]\n",
        "\n",
        "# Sort by year in ascending order\n",
        "films_with_multiple_roles_sorted = films_with_multiple_roles.sort_values(ascending=True)\n",
        "\n",
        "# Print the list of films\n",
        "print(films_with_multiple_roles_sorted)"
      ]
    },
    {
      "cell_type": "markdown",
      "metadata": {
        "id": "zcblFewpALVE"
      },
      "source": [
        "### Section II - Q10: List each of the characters that Frank Oz has portrayed at least twice"
      ]
    },
    {
      "cell_type": "code",
      "execution_count": 162,
      "metadata": {
        "id": "qDvwPiu2ALVF",
        "colab": {
          "base_uri": "https://localhost:8080/"
        },
        "outputId": "467a9ef0-458e-4ae3-9ec3-8c5dd16e0796"
      },
      "outputs": [
        {
          "output_type": "execute_result",
          "data": {
            "text/plain": [
              "character\n",
              "Grover            2\n",
              "Bert              3\n",
              "Fozzie Bear       4\n",
              "Cookie Monster    5\n",
              "Sam the Eagle     5\n",
              "Animal            6\n",
              "Miss Piggy        6\n",
              "Yoda              6\n",
              "dtype: int64"
            ]
          },
          "metadata": {},
          "execution_count": 162
        }
      ],
      "source": [
        "frank_oz_characters = frank_oz_films.groupby('character').size()\n",
        "repeat_characters = frank_oz_characters[frank_oz_characters >= 2]\n",
        "repeat_characters_sorted = repeat_characters.sort_values(ascending=True)\n",
        "\n",
        "repeat_characters_sorted"
      ]
    },
    {
      "cell_type": "markdown",
      "metadata": {
        "id": "qIuSQ0oeALVF"
      },
      "source": [
        "# Section III - Advanced Merging, Querying and Visualizations"
      ]
    },
    {
      "cell_type": "markdown",
      "metadata": {
        "id": "mXd2XF0DALVF"
      },
      "source": [
        "## Make a bar plot with the following conditions\n",
        "- Frequency of the number of movies with \"Christmas\" in their title \n",
        "- Movies should be such that they are released in the USA.\n",
        "- Show the frequency plot by month"
      ]
    },
    {
      "cell_type": "code",
      "execution_count": 165,
      "metadata": {
        "id": "1w93GutmALVF",
        "colab": {
          "base_uri": "https://localhost:8080/",
          "height": 452
        },
        "outputId": "a510d2e5-bbb6-4d67-a4fc-93e4c21c6ed8"
      },
      "outputs": [
        {
          "output_type": "execute_result",
          "data": {
            "text/plain": [
              "<Axes: >"
            ]
          },
          "metadata": {},
          "execution_count": 165
        },
        {
          "output_type": "display_data",
          "data": {
            "text/plain": [
              "<Figure size 640x480 with 1 Axes>"
            ],
            "image/png": "[encoded data removed]"
          },
          "metadata": {}
        }
      ],
      "source": [
        "christmas = release_dates[(release_dates.title.str.contains('Christmas')) & (release_dates.country == 'USA')]\n",
        "christmas.date.dt.month.value_counts().sort_index().plot(kind='bar')"
      ]
    },
    {
      "cell_type": "markdown",
      "metadata": {
        "id": "poAbrDqkALVF"
      },
      "source": [
        "### Section III - Q1: Make a bar plot with the following conditions\n",
        "- Frequency of the number of movies with \"Summer\" in their title \n",
        "- Movies should be such that they are released in the USA.\n",
        "- Show the frequency plot by month"
      ]
    },
    {
      "cell_type": "code",
      "execution_count": 167,
      "metadata": {
        "id": "LUxaIFjsALVF",
        "colab": {
          "base_uri": "https://localhost:8080/",
          "height": 493
        },
        "outputId": "59d352f5-7425-421e-8fef-0942d021abe8"
      },
      "outputs": [
        {
          "output_type": "execute_result",
          "data": {
            "text/plain": [
              "Text(0.5, 0, 'Month')"
            ]
          },
          "metadata": {},
          "execution_count": 167
        },
        {
          "output_type": "display_data",
          "data": {
            "text/plain": [
              "<Figure size 640x480 with 1 Axes>"
            ],
            "image/png": "[encoded data removed]"
          },
          "metadata": {}
        }
      ],
      "source": [
        "summer = release_dates[(release_dates.title.str.contains('Summer')) & (release_dates.country == 'USA')]\n",
        "summer.date.dt.month.value_counts().sort_index().plot(kind='bar')\n",
        "plt.title('Movies With Summer in Title, Frequency per Month')\n",
        "plt.ylabel('Frequency')\n",
        "plt.xlabel('Month')"
      ]
    },
    {
      "cell_type": "markdown",
      "metadata": {
        "id": "bbHHfoz-ALVF"
      },
      "source": [
        "### Section III - Q2: Make a bar plot with the following conditions\n",
        "- Frequency of the number of movies with \"Action\" in their title \n",
        "- Movies should be such that they are released in the USA.\n",
        "- Show the frequency plot by week"
      ]
    },
    {
      "cell_type": "code",
      "execution_count": 171,
      "metadata": {
        "id": "LPlaPUC5ALVF",
        "colab": {
          "base_uri": "https://localhost:8080/",
          "height": 549
        },
        "outputId": "8ce706e3-d685-4bf2-e42c-f32a4acd3a79"
      },
      "outputs": [
        {
          "output_type": "stream",
          "name": "stderr",
          "text": [
            "<ipython-input-171-460fcf08ae95>:2: FutureWarning: Series.dt.weekofyear and Series.dt.week have been deprecated. Please use Series.dt.isocalendar().week instead.\n",
            "  Action.date.dt.week.value_counts().sort_index().plot(kind='bar')\n"
          ]
        },
        {
          "output_type": "execute_result",
          "data": {
            "text/plain": [
              "Text(0.5, 0, 'Week')"
            ]
          },
          "metadata": {},
          "execution_count": 171
        },
        {
          "output_type": "display_data",
          "data": {
            "text/plain": [
              "<Figure size 640x480 with 1 Axes>"
            ],
            "image/png": "[encoded data removed]"
          },
          "metadata": {}
        }
      ],
      "source": [
        "Action = release_dates[(release_dates.title.str.contains('Action')) & (release_dates.country == 'USA')]\n",
        "Action.date.dt.week.value_counts().sort_index().plot(kind='bar')\n",
        "\n",
        "plt.title('Movies With Action in Title, Frequency per Week')\n",
        "plt.ylabel('Frequency')\n",
        "plt.xlabel('Week')"
      ]
    },
    {
      "cell_type": "markdown",
      "metadata": {
        "id": "RFI-pv8eALVF"
      },
      "source": [
        "### Section III - Q3: Show all the movies in which Keanu Reeves has played the lead role along with their   release date in the USA sorted by the date of release\n",
        "- Hint: You might need to join or merge two datasets!"
      ]
    },
    {
      "cell_type": "code",
      "execution_count": 189,
      "metadata": {
        "id": "smzU-9s-ALVF",
        "colab": {
          "base_uri": "https://localhost:8080/"
        },
        "outputId": "ceeb9111-68ea-4004-87ea-4e9397c8bd38"
      },
      "outputs": [
        {
          "output_type": "stream",
          "name": "stdout",
          "text": [
            "Title:  47 Ronin   Country: USA   Release Date: 2013-12-25 \n",
            "\n",
            "Title:  A Walk in the Clouds   Country: USA   Release Date: 1995-08-11 \n",
            "\n",
            "Title:  Bill & Ted's Bogus Journey   Country: USA   Release Date: 1991-07-19 \n",
            "\n",
            "Title:  Bill & Ted's Excellent Adventure   Country: USA   Release Date: 1989-02-17 \n",
            "\n",
            "Title:  Chain Reaction   Country: USA   Release Date: 1996-08-02 \n",
            "\n",
            "Title:  Constantine   Country: USA   Release Date: 2005-02-18 \n",
            "\n",
            "Title:  Feeling Minnesota   Country: USA   Release Date: 1996-09-13 \n",
            "\n",
            "Title:  Hard Ball   Country: USA   Release Date: 2001-09-14 \n",
            "\n",
            "Title:  John Wick   Country: USA   Release Date: 2014-10-24 \n",
            "\n",
            "Title:  John Wick: Chapter 2   Country: USA   Release Date: 2017-02-10 \n",
            "\n",
            "Title:  Johnny Mnemonic   Country: USA   Release Date: 1995-05-26 \n",
            "\n",
            "Title:  Knock Knock   Country: USA   Release Date: 2015-10-09 \n",
            "\n",
            "Title:  Knock Knock   Country: USA   Release Date: 2017-10-06 \n",
            "\n",
            "Title:  Little Buddha   Country: USA   Release Date: 1994-05-25 \n",
            "\n",
            "Title:  Speed   Country: USA   Release Date: 1922-10-22 \n",
            "\n",
            "Title:  Speed   Country: USA   Release Date: 1936-05-08 \n",
            "\n",
            "Title:  Speed   Country: USA   Release Date: 1994-06-10 \n",
            "\n",
            "Title:  Street Kings   Country: USA   Release Date: 2008-04-11 \n",
            "\n",
            "Title:  Sweet November   Country: USA   Release Date: 1968-02-08 \n",
            "\n",
            "Title:  Sweet November   Country: USA   Release Date: 2001-02-16 \n",
            "\n",
            "Title:  The Day the Earth Stood Still   Country: USA   Release Date: 2008-12-12 \n",
            "\n",
            "Title:  The Devil's Advocate   Country: USA   Release Date: 1997-10-17 \n",
            "\n",
            "Title:  The Lake House   Country: USA   Release Date: 2006-06-16 \n",
            "\n",
            "Title:  The Matrix   Country: USA   Release Date: 1999-03-31 \n",
            "\n",
            "Title:  The Night Before   Country: USA   Release Date: 1988-04-15 \n",
            "\n",
            "Title:  The Replacements   Country: USA   Release Date: 2000-08-11 \n",
            "\n"
          ]
        },
        {
          "output_type": "stream",
          "name": "stderr",
          "text": [
            "<ipython-input-189-31bdc062dafe>:4: SettingWithCopyWarning: \n",
            "A value is trying to be set on a copy of a slice from a DataFrame.\n",
            "Try using .loc[row_indexer,col_indexer] = value instead\n",
            "\n",
            "See the caveats in the documentation: https://pandas.pydata.org/pandas-docs/stable/user_guide/indexing.html#returning-a-view-versus-a-copy\n",
            "  filtered_data['date'] = filtered_data['date'].apply(lambda x: x.strftime('%Y-%m-%d'))\n"
          ]
        }
      ],
      "source": [
        "keanu_lead_roles = cast[(cast['name'] == 'Keanu Reeves') & (cast['n'] == 1)]\n",
        "merged_data = keanu_lead_roles.merge(release_dates, on='title')\n",
        "filtered_data = merged_data[(merged_data['country'] == 'USA')]\n",
        "filtered_data['date'] = filtered_data['date'].apply(lambda x: x.strftime('%Y-%m-%d'))\n",
        "\n",
        "for index, row in filtered_data.iterrows():\n",
        "    print('Title: ',  row['title'], '  Country:', row['country'], '  Release Date:',  row['date'], '\\n')\n"
      ]
    },
    {
      "cell_type": "markdown",
      "metadata": {
        "id": "aiOMiAERALVG"
      },
      "source": [
        "### Section III - Q4: Make a bar plot showing the months in which movies with Keanu Reeves tend to be released in the USA?"
      ]
    },
    {
      "cell_type": "code",
      "execution_count": 197,
      "metadata": {
        "id": "PAgZx1DuALVG",
        "colab": {
          "base_uri": "https://localhost:8080/",
          "height": 552
        },
        "outputId": "b16abbce-5b80-471a-cd3b-fc5bf0b29cb0"
      },
      "outputs": [
        {
          "output_type": "execute_result",
          "data": {
            "text/plain": [
              "Text(0.5, 0, 'Month')"
            ]
          },
          "metadata": {},
          "execution_count": 197
        },
        {
          "output_type": "display_data",
          "data": {
            "text/plain": [
              "<Figure size 640x480 with 1 Axes>"
            ],
            "image/png": "[encoded data removed]"
          },
          "metadata": {}
        }
      ],
      "source": [
        "import datetime\n",
        "keanu_merged = KR_df.merge(release_dates, on='title')\n",
        "keanu_merged['month'] = keanu_merged['date'].dt.month\n",
        "month_names = {\n",
        "    1: 'January',\n",
        "    2: 'February',\n",
        "    3: 'March',\n",
        "    4: 'April',\n",
        "    5: 'May',\n",
        "    6: 'June',\n",
        "    7: 'July',\n",
        "    8: 'August',\n",
        "    9: 'September',\n",
        "    10: 'October',\n",
        "    11: 'November',\n",
        "    12: 'December'\n",
        "}\n",
        "keanu_merged['month'] = keanu_merged['month'].apply(lambda x: month_names[x])\n",
        "keanu_filtered = keanu_merged[(keanu_merged['country'] == 'USA')]\n",
        "\n",
        "keanu_filtered\n",
        "\n",
        "keanu_grouped = keanu_filtered.groupby('month').size()\n",
        "\n",
        "keanu_grouped.plot(kind='bar')\n",
        "plt.title('Monthly Frequency of Keanu Reeves Movies Released in USA')\n",
        "plt.ylabel('Frequency')\n",
        "plt.xlabel('Month')\n"
      ]
    },
    {
      "cell_type": "markdown",
      "metadata": {
        "id": "MVe2ED9WALVG"
      },
      "source": [
        "### Section III - Q5: Make a bar plot showing the years in which movies with Ian McKellen tend to be released in the USA?"
      ]
    },
    {
      "cell_type": "code",
      "execution_count": 204,
      "metadata": {
        "id": "3Ae-ttwxALVG",
        "colab": {
          "base_uri": "https://localhost:8080/",
          "height": 511
        },
        "outputId": "ca315bd2-6411-4203-ad59-771e6bbbaafb"
      },
      "outputs": [
        {
          "output_type": "execute_result",
          "data": {
            "text/plain": [
              "Text(0.5, 0, 'Year')"
            ]
          },
          "metadata": {},
          "execution_count": 204
        },
        {
          "output_type": "display_data",
          "data": {
            "text/plain": [
              "<Figure size 640x480 with 1 Axes>"
            ],
            "image/png": "[encoded data removed]"
          },
          "metadata": {}
        }
      ],
      "source": [
        "IM_df = cast[(cast['name'] == 'Ian McKellen')]\n",
        "\n",
        "ian_mckellen_merged = IM_df.merge(release_dates, on='title')\n",
        "ian_mckellen_filtered = ian_mckellen_merged[(ian_mckellen_merged['country'] == 'USA')]\n",
        "\n",
        "ian_mckellen_filtered\n",
        "\n",
        "ian_mckellen_grouped = ian_mckellen_filtered.groupby('year_y').size()\n",
        "\n",
        "ian_mckellen_grouped.plot(kind='bar')\n",
        "plt.title('Yearly Frequency of Ian Mckellen Movies Released in USA')\n",
        "plt.ylabel('Frequency')\n",
        "plt.xlabel('Year')"
      ]
    },
    {
      "cell_type": "code",
      "source": [],
      "metadata": {
        "id": "wLgn_tqTdScC"
      },
      "execution_count": null,
      "outputs": []
    }
  ],
  "metadata": {
    "kernelspec": {
      "display_name": "Python 3",
      "language": "python",
      "name": "python3"
    },
    "language_info": {
      "codemirror_mode": {
        "name": "ipython",
        "version": 3
      },
      "file_extension": ".py",
      "mimetype": "text/x-python",
      "name": "python",
      "nbconvert_exporter": "python",
      "pygments_lexer": "ipython3",
      "version": "3.7.6-final"
    },
    "colab": {
      "provenance": []
    }
  },
  "nbformat": 4,
  "nbformat_minor": 0
}