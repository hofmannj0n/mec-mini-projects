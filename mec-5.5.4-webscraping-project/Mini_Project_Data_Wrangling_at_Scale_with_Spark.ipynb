{
 "cells": [
  {
   "cell_type": "markdown",
   "metadata": {
    "application/vnd.databricks.v1+cell": {
     "cellMetadata": {
      "byteLimit": 2048000,
      "rowLimit": 10000
     },
     "inputWidgets": {},
     "nuid": "577dd027-ed7a-479e-ba0c-847b8a4b2098",
     "showTitle": false,
     "title": ""
    },
    "colab_type": "text",
    "id": "q0ap-hmpXu-s"
   },
   "source": [
    "# Analyzing Web Server Logs with Apache Spark\n",
    "\n",
    "Apache Spark is an excellent and ideal framework for wrangling, analyzing and modeling on structured and unstructured data - at scale! In this mini-project, we will be focusing on one of the most popular use-cases in the industry - log analytics.\n",
    "\n",
    "Typically, server logs are a very common data source in enterprises and often contain a gold mine of actionable insights and information. Log data comes from many sources in an enterprise, such as the web, client and compute servers, applications, user-generated content, flat files. They can be used for monitoring servers, improving business and customer intelligence, building recommendation systems, fraud detection, and much more.\n",
    "\n",
    "Spark allows you to dump and store your logs in files on disk cheaply, while still providing rich APIs to perform data analysis at scale. This mini-project will show you how to use Apache Spark on real-world production logs from NASA.\n",
    "You will complete the extract, transform, and load (ETL) process in this Apache Spark enviroment. During this process, you will learn why the ETL process is so crucial to the quality of the machine learning work we will be doing later on.\n",
    "\n",
    "\n",
    "There is a total of 15 questions for you to solve along with some interactive examples which will help you learn aspects of leveraging spark for analyzing over 3 million logs at scale.\n",
    "\n",
    "Remember to focus on the __`# TODO: Replace <FILL IN> with appropriate code`__ sections to fill them up with necessary code to solve the desired questions in the notebook"
   ]
  },
  {
   "cell_type": "markdown",
   "metadata": {
    "application/vnd.databricks.v1+cell": {
     "cellMetadata": {
      "byteLimit": 2048000,
      "rowLimit": 10000
     },
     "inputWidgets": {},
     "nuid": "09fd73b8-f932-4f05-b26d-78bffaf8e204",
     "showTitle": false,
     "title": ""
    },
    "colab_type": "text",
    "id": "6IkR5OAXYBVV"
   },
   "source": [
    "# Data extraction:"
   ]
  },
  {
   "cell_type": "markdown",
   "metadata": {
    "application/vnd.databricks.v1+cell": {
     "cellMetadata": {
      "byteLimit": 2048000,
      "rowLimit": 10000
     },
     "inputWidgets": {},
     "nuid": "a769073b-b78f-4ba8-9f9c-f6549fdf7f17",
     "showTitle": false,
     "title": ""
    },
    "colab_type": "text",
    "id": "W4XXOPlzXu-7"
   },
   "source": [
    "# Step 1 - Loading up Dependencies"
   ]
  },
  {
   "cell_type": "code",
   "execution_count": 0,
   "metadata": {
    "application/vnd.databricks.v1+cell": {
     "cellMetadata": {
      "byteLimit": 2048000,
      "rowLimit": 10000
     },
     "inputWidgets": {},
     "nuid": "8fe65af5-ba60-4d0b-a766-2ddeefbc355c",
     "showTitle": false,
     "title": ""
    },
    "colab": {},
    "colab_type": "code",
    "id": "zYGRL15uXu--",
    "outputId": "34c065c7-f451-4543-dde3-5ddbbcada8c6"
   },
   "outputs": [
    {
     "output_type": "display_data",
     "data": {
      "text/html": [
       "\n",
       "            <div>\n",
       "                <p><b>SparkSession - hive</b></p>\n",
       "                \n",
       "        <div>\n",
       "            <p><b>SparkContext</b></p>\n",
       "\n",
       "            <p><a href=\"/?o=8963820418944112#setting/sparkui/0824-074813-ut24g841/driver-1993611999624165167\">Spark UI</a></p>\n",
       "\n",
       "            <dl>\n",
       "              <dt>Version</dt>\n",
       "                <dd><code>v3.3.2</code></dd>\n",
       "              <dt>Master</dt>\n",
       "                <dd><code>local[8]</code></dd>\n",
       "              <dt>AppName</dt>\n",
       "                <dd><code>Databricks Shell</code></dd>\n",
       "            </dl>\n",
       "        </div>\n",
       "        \n",
       "            </div>\n",
       "        "
      ]
     },
     "metadata": {
      "application/vnd.databricks.v1+output": {
       "addedWidgets": {},
       "arguments": {},
       "data": "\n            <div>\n                <p><b>SparkSession - hive</b></p>\n                \n        <div>\n            <p><b>SparkContext</b></p>\n\n            <p><a href=\"/?o=8963820418944112#setting/sparkui/0824-074813-ut24g841/driver-1993611999624165167\">Spark UI</a></p>\n\n            <dl>\n              <dt>Version</dt>\n                <dd><code>v3.3.2</code></dd>\n              <dt>Master</dt>\n                <dd><code>local[8]</code></dd>\n              <dt>AppName</dt>\n                <dd><code>Databricks Shell</code></dd>\n            </dl>\n        </div>\n        \n            </div>\n        ",
       "datasetInfos": [],
       "metadata": {},
       "removedWidgets": [],
       "textData": null,
       "type": "htmlSandbox"
      }
     },
     "output_type": "display_data"
    }
   ],
   "source": [
    "spark"
   ]
  },
  {
   "cell_type": "code",
   "execution_count": 0,
   "metadata": {
    "application/vnd.databricks.v1+cell": {
     "cellMetadata": {
      "byteLimit": 2048000,
      "rowLimit": 10000
     },
     "inputWidgets": {},
     "nuid": "bf81c097-5faf-47ff-9cde-4845eff64d6d",
     "showTitle": false,
     "title": ""
    },
    "colab": {},
    "colab_type": "code",
    "id": "TQ9VOjOGXu_N",
    "outputId": "8c2ee3dc-5d83-475e-c77a-3b83e98cff42"
   },
   "outputs": [
    {
     "output_type": "stream",
     "name": "stdout",
     "output_type": "stream",
     "text": [
      "Out[2]: <pyspark.sql.context.SQLContext at 0x7f92a5ad3820>"
     ]
    }
   ],
   "source": [
    "sqlContext"
   ]
  },
  {
   "cell_type": "code",
   "execution_count": 0,
   "metadata": {
    "application/vnd.databricks.v1+cell": {
     "cellMetadata": {
      "byteLimit": 2048000,
      "rowLimit": 10000
     },
     "inputWidgets": {},
     "nuid": "8aef9fbf-97ec-4e97-b665-b0c32ff209e7",
     "showTitle": false,
     "title": ""
    },
    "colab": {},
    "colab_type": "code",
    "id": "IM6ajIMVXu_V",
    "outputId": "d49062e6-607c-42bf-e2de-5019dee77ce0"
   },
   "outputs": [],
   "source": [
    "if 'sc' not in locals():\n",
    "    from pyspark.context import SparkContext\n",
    "    from pyspark.sql.context import SQLContext\n",
    "    from pyspark.sql.session import SparkSession\n",
    "    \n",
    "    sc = SparkContext()\n",
    "    sqlContext = SQLContext(sc)\n",
    "    spark = SparkSession(sc)"
   ]
  },
  {
   "cell_type": "code",
   "execution_count": 0,
   "metadata": {
    "application/vnd.databricks.v1+cell": {
     "cellMetadata": {
      "byteLimit": 2048000,
      "rowLimit": 10000
     },
     "inputWidgets": {},
     "nuid": "76045798-725b-4fef-a8ba-48f9f58ee444",
     "showTitle": false,
     "title": ""
    },
    "colab": {},
    "colab_type": "code",
    "id": "r3E2N5WCXu_b",
    "outputId": "cb9f5a8a-06b5-407a-c634-a703b3e5b92b"
   },
   "outputs": [
    {
     "output_type": "display_data",
     "data": {
      "application/vnd.databricks.v1+bamboolib_hint": "{\"pd.DataFrames\": [], \"version\": \"0.0.1\"}",
      "text/plain": []
     },
     "metadata": {},
     "output_type": "display_data"
    }
   ],
   "source": [
    "import re\n",
    "import pandas as pd"
   ]
  },
  {
   "cell_type": "code",
   "execution_count": 0,
   "metadata": {
    "application/vnd.databricks.v1+cell": {
     "cellMetadata": {
      "byteLimit": 2048000,
      "rowLimit": 10000
     },
     "inputWidgets": {},
     "nuid": "95f329f4-ecfd-4266-9335-63d66ec5d69d",
     "showTitle": false,
     "title": ""
    },
    "colab": {},
    "colab_type": "code",
    "id": "UupCPIruXu_i",
    "outputId": "ae83b30e-9b7e-458f-fd16-94d9d738e589"
   },
   "outputs": [
    {
     "output_type": "stream",
     "name": "stdout",
     "output_type": "stream",
     "text": [
      "<re.Match object; span=(0, 25), match=\"I'm searching for a spark\">\n<re.Match object; span=(25, 36), match=' in PySpark'>\n"
     ]
    }
   ],
   "source": [
    "m = re.finditer(r'.*?(spark).*?', \"I'm searching for a spark in PySpark\", re.I)\n",
    "for match in m:\n",
    "    print(match)"
   ]
  },
  {
   "cell_type": "markdown",
   "metadata": {
    "application/vnd.databricks.v1+cell": {
     "cellMetadata": {
      "byteLimit": 2048000,
      "rowLimit": 10000
     },
     "inputWidgets": {},
     "nuid": "5ac84a2d-c579-4fec-bc2d-24fa97515080",
     "showTitle": false,
     "title": ""
    },
    "colab_type": "text",
    "id": "Pln9za4iXu_n"
   },
   "source": [
    "For this mini-project, we will analyze datasets from NASA Kennedy Space Center web server in Florida. The full data set is freely available for download [__here__](http://ita.ee.lbl.gov/html/contrib/NASA-HTTP.html).\n",
    "\n",
    "These two traces contain two month's worth of all HTTP requests to the NASA Kennedy Space Center WWW server in Florida. You can head over to the [__website__](http://ita.ee.lbl.gov/html/contrib/NASA-HTTP.html) and download the following files if needed OR just upload the files we have already provided for you into Domino's Cloud Platform (unless you plan to use Spark locally).\n",
    "\n",
    "- Jul 01 to Jul 31, ASCII format, 20.7 MB gzip compressed, 205.2 MB uncompressed: [ftp://ita.ee.lbl.gov/traces/NASA_access_log_Jul95.gz](ftp://ita.ee.lbl.gov/traces/NASA_access_log_Jul95.gz)\n",
    "- Aug 04 to Aug 31, ASCII format, 21.8 MB gzip compressed, 167.8 MB uncompressed: [ftp://ita.ee.lbl.gov/traces/NASA_access_log_Aug95.gz](ftp://ita.ee.lbl.gov/traces/NASA_access_log_Aug95.gz)\n",
    "\n",
    "Make sure both the data files have been uploaded to Databricks under **\"Data\" > \"DBFS\" > \"Tables\"** as a **.txt** file\n",
    "\n",
    "\n",
    "![DBFS](https://drive.google.com/uc?id=1eE9_CgnUW7psBs_Nlk9qrdD2dXh1sU9A)"
   ]
  },
  {
   "cell_type": "markdown",
   "metadata": {
    "application/vnd.databricks.v1+cell": {
     "cellMetadata": {
      "byteLimit": 2048000,
      "rowLimit": 10000
     },
     "inputWidgets": {},
     "nuid": "7cda7d5c-7b17-4f0c-8f13-d6f80f2c59a0",
     "showTitle": false,
     "title": ""
    },
    "colab_type": "text",
    "id": "KESqVXmAXu_p"
   },
   "source": [
    "# Step 2 - Loading and Viewing the Log Dataset\n",
    "\n",
    "Given that our data is stored in the following mentioned path, let's load it into a DataFrame. We'll do this in steps. First, we'll use `sqlContext.read.text()` or `spark.read.text()` to read the text file. This will produce a DataFrame with a single string column called `value`."
   ]
  },
  {
   "cell_type": "markdown",
   "metadata": {
    "application/vnd.databricks.v1+cell": {
     "cellMetadata": {
      "byteLimit": 2048000,
      "rowLimit": 10000
     },
     "inputWidgets": {},
     "nuid": "4debd615-e5d6-4fb9-9a24-cbf5a2dd2278",
     "showTitle": false,
     "title": ""
    },
    "colab_type": "text",
    "id": "pis2_lWcXu_u"
   },
   "source": [
    "### Taking a look at the metadata of our dataframe"
   ]
  },
  {
   "cell_type": "code",
   "execution_count": 0,
   "metadata": {
    "application/vnd.databricks.v1+cell": {
     "cellMetadata": {
      "byteLimit": 2048000,
      "rowLimit": 10000
     },
     "inputWidgets": {},
     "nuid": "b955fbb3-32db-4f5e-ac63-67c332992c3f",
     "showTitle": false,
     "title": ""
    },
    "colab": {},
    "colab_type": "code",
    "id": "f4-znXsmXu_w",
    "outputId": "5c326d84-2124-47c4-c63f-e70665bfb820"
   },
   "outputs": [
    {
     "output_type": "stream",
     "name": "stdout",
     "output_type": "stream",
     "text": [
      "root\n |-- value: string (nullable = true)\n\n"
     ]
    }
   ],
   "source": [
    "# make sure you have upload NASA_access_log_Aug95.txt and NASA_access_log_Jul95.txt onto Spark before you run the following code\n",
    "\n",
    "base_df = spark.read.text('dbfs:/FileStore/tables/*.txt')\n",
    "base_df.printSchema()"
   ]
  },
  {
   "cell_type": "code",
   "execution_count": 0,
   "metadata": {
    "application/vnd.databricks.v1+cell": {
     "cellMetadata": {
      "byteLimit": 2048000,
      "rowLimit": 10000
     },
     "inputWidgets": {},
     "nuid": "e0e28c0e-250a-4549-bc16-126839e7f7b6",
     "showTitle": false,
     "title": ""
    },
    "colab": {},
    "colab_type": "code",
    "id": "IBHQ8QQkXu_0",
    "outputId": "14c57eda-586c-4a28-9e1c-df9364bf0ff8"
   },
   "outputs": [
    {
     "output_type": "stream",
     "name": "stdout",
     "output_type": "stream",
     "text": [
      "Out[7]: pyspark.sql.dataframe.DataFrame"
     ]
    }
   ],
   "source": [
    "type(base_df)"
   ]
  },
  {
   "cell_type": "markdown",
   "metadata": {
    "application/vnd.databricks.v1+cell": {
     "cellMetadata": {
      "byteLimit": 2048000,
      "rowLimit": 10000
     },
     "inputWidgets": {},
     "nuid": "93840d9b-6cb1-4ad4-afaa-179766f5c127",
     "showTitle": false,
     "title": ""
    },
    "colab_type": "text",
    "id": "gOKkUBQvXu_5"
   },
   "source": [
    "You can also convert a dataframe to an RDD if needed"
   ]
  },
  {
   "cell_type": "code",
   "execution_count": 0,
   "metadata": {
    "application/vnd.databricks.v1+cell": {
     "cellMetadata": {
      "byteLimit": 2048000,
      "rowLimit": 10000
     },
     "inputWidgets": {},
     "nuid": "f649c4c7-79ad-4827-8692-ebfff55dd404",
     "showTitle": false,
     "title": ""
    },
    "colab": {},
    "colab_type": "code",
    "id": "hMByB80sXu_6",
    "outputId": "29f8e5c6-aecf-4f81-d1e8-40a5ef92eb18"
   },
   "outputs": [
    {
     "output_type": "stream",
     "name": "stdout",
     "output_type": "stream",
     "text": [
      "Out[8]: pyspark.rdd.RDD"
     ]
    }
   ],
   "source": [
    "base_df_rdd = base_df.rdd\n",
    "type(base_df_rdd)"
   ]
  },
  {
   "cell_type": "markdown",
   "metadata": {
    "application/vnd.databricks.v1+cell": {
     "cellMetadata": {
      "byteLimit": 2048000,
      "rowLimit": 10000
     },
     "inputWidgets": {},
     "nuid": "6631fb98-dbd5-4b8b-818c-5b2f703e354e",
     "showTitle": false,
     "title": ""
    },
    "colab_type": "text",
    "id": "oi1QtXBhXvAB"
   },
   "source": [
    "### Viewing sample data in our dataframe\n",
    "Looks like it needs to be wrangled and parsed!"
   ]
  },
  {
   "cell_type": "code",
   "execution_count": 0,
   "metadata": {
    "application/vnd.databricks.v1+cell": {
     "cellMetadata": {
      "byteLimit": 2048000,
      "rowLimit": 10000
     },
     "inputWidgets": {},
     "nuid": "c49fa47d-8c90-4113-9d2e-66e1cb3c59ad",
     "showTitle": false,
     "title": ""
    },
    "colab": {},
    "colab_type": "code",
    "id": "iertYldRXvAD",
    "outputId": "cf7a1843-1287-455e-a32c-e67a498a89c0"
   },
   "outputs": [
    {
     "output_type": "stream",
     "name": "stdout",
     "output_type": "stream",
     "text": [
      "+--------------------------------------------------------------------------------------------------------------------------+\n|value                                                                                                                     |\n+--------------------------------------------------------------------------------------------------------------------------+\n|in24.inetnebr.com - - [01/Aug/1995:00:00:01 -0400] \"GET /shuttle/missions/sts-68/news/sts-68-mcc-05.txt HTTP/1.0\" 200 1839|\n|uplherc.upl.com - - [01/Aug/1995:00:00:07 -0400] \"GET / HTTP/1.0\" 304 0                                                   |\n|uplherc.upl.com - - [01/Aug/1995:00:00:08 -0400] \"GET /images/ksclogo-medium.gif HTTP/1.0\" 304 0                          |\n|uplherc.upl.com - - [01/Aug/1995:00:00:08 -0400] \"GET /images/MOSAIC-logosmall.gif HTTP/1.0\" 304 0                        |\n|uplherc.upl.com - - [01/Aug/1995:00:00:08 -0400] \"GET /images/USA-logosmall.gif HTTP/1.0\" 304 0                           |\n|ix-esc-ca2-07.ix.netcom.com - - [01/Aug/1995:00:00:09 -0400] \"GET /images/launch-logo.gif HTTP/1.0\" 200 1713              |\n|uplherc.upl.com - - [01/Aug/1995:00:00:10 -0400] \"GET /images/WORLD-logosmall.gif HTTP/1.0\" 304 0                         |\n|slppp6.intermind.net - - [01/Aug/1995:00:00:10 -0400] \"GET /history/skylab/skylab.html HTTP/1.0\" 200 1687                 |\n|piweba4y.prodigy.com - - [01/Aug/1995:00:00:10 -0400] \"GET /images/launchmedium.gif HTTP/1.0\" 200 11853                   |\n|slppp6.intermind.net - - [01/Aug/1995:00:00:11 -0400] \"GET /history/skylab/skylab-small.gif HTTP/1.0\" 200 9202            |\n+--------------------------------------------------------------------------------------------------------------------------+\nonly showing top 10 rows\n\n"
     ]
    }
   ],
   "source": [
    "base_df.show(10, truncate=False)"
   ]
  },
  {
   "cell_type": "markdown",
   "metadata": {
    "application/vnd.databricks.v1+cell": {
     "cellMetadata": {
      "byteLimit": 2048000,
      "rowLimit": 10000
     },
     "inputWidgets": {},
     "nuid": "53dd38ef-9f31-44d1-9631-691846982fe2",
     "showTitle": false,
     "title": ""
    },
    "colab_type": "text",
    "id": "T9aeiekzXvAJ"
   },
   "source": [
    "Getting data from an RDD is slightly different. You can see how the data representation is different in the following RDD"
   ]
  },
  {
   "cell_type": "code",
   "execution_count": 0,
   "metadata": {
    "application/vnd.databricks.v1+cell": {
     "cellMetadata": {
      "byteLimit": 2048000,
      "rowLimit": 10000
     },
     "inputWidgets": {},
     "nuid": "e298d429-b8a8-4476-9145-319aa70b68ac",
     "showTitle": false,
     "title": ""
    },
    "colab": {},
    "colab_type": "code",
    "id": "PCdKKlCeXvAK",
    "outputId": "58876be0-2960-4df1-cefa-75daa1462dbd"
   },
   "outputs": [
    {
     "output_type": "stream",
     "name": "stdout",
     "output_type": "stream",
     "text": [
      "Out[10]: [Row(value='in24.inetnebr.com - - [01/Aug/1995:00:00:01 -0400] \"GET /shuttle/missions/sts-68/news/sts-68-mcc-05.txt HTTP/1.0\" 200 1839'),\n Row(value='uplherc.upl.com - - [01/Aug/1995:00:00:07 -0400] \"GET / HTTP/1.0\" 304 0'),\n Row(value='uplherc.upl.com - - [01/Aug/1995:00:00:08 -0400] \"GET /images/ksclogo-medium.gif HTTP/1.0\" 304 0'),\n Row(value='uplherc.upl.com - - [01/Aug/1995:00:00:08 -0400] \"GET /images/MOSAIC-logosmall.gif HTTP/1.0\" 304 0'),\n Row(value='uplherc.upl.com - - [01/Aug/1995:00:00:08 -0400] \"GET /images/USA-logosmall.gif HTTP/1.0\" 304 0'),\n Row(value='ix-esc-ca2-07.ix.netcom.com - - [01/Aug/1995:00:00:09 -0400] \"GET /images/launch-logo.gif HTTP/1.0\" 200 1713'),\n Row(value='uplherc.upl.com - - [01/Aug/1995:00:00:10 -0400] \"GET /images/WORLD-logosmall.gif HTTP/1.0\" 304 0'),\n Row(value='slppp6.intermind.net - - [01/Aug/1995:00:00:10 -0400] \"GET /history/skylab/skylab.html HTTP/1.0\" 200 1687'),\n Row(value='piweba4y.prodigy.com - - [01/Aug/1995:00:00:10 -0400] \"GET /images/launchmedium.gif HTTP/1.0\" 200 11853'),\n Row(value='slppp6.intermind.net - - [01/Aug/1995:00:00:11 -0400] \"GET /history/skylab/skylab-small.gif HTTP/1.0\" 200 9202')]"
     ]
    }
   ],
   "source": [
    "base_df_rdd.take(10)"
   ]
  },
  {
   "cell_type": "markdown",
   "metadata": {
    "application/vnd.databricks.v1+cell": {
     "cellMetadata": {
      "byteLimit": 2048000,
      "rowLimit": 10000
     },
     "inputWidgets": {},
     "nuid": "753f196e-3a42-488e-9d59-1fd29d4da04c",
     "showTitle": false,
     "title": ""
    },
    "colab_type": "text",
    "id": "asaanbGIYfR8"
   },
   "source": [
    "# Data transformation"
   ]
  },
  {
   "cell_type": "markdown",
   "metadata": {
    "application/vnd.databricks.v1+cell": {
     "cellMetadata": {
      "byteLimit": 2048000,
      "rowLimit": 10000
     },
     "inputWidgets": {},
     "nuid": "a9e0a7d8-c856-49e7-816b-d14f362e18f7",
     "showTitle": false,
     "title": ""
    },
    "colab_type": "text",
    "id": "yv5kCt3xXvAP"
   },
   "source": [
    "# Step 1 - Data Wrangling\n",
    "\n",
    "In this section, we will try and clean and parse our log dataset to really extract structured attributes with meaningful information from each log message.\n",
    "\n",
    "### Data understanding\n",
    "If you're familiar with web server logs, you'll recognize that the above displayed data is in [Common Log Format](https://www.w3.org/Daemon/User/Config/Logging.html#common-logfile-format). \n",
    "\n",
    "The fields are:\n",
    "__`remotehost rfc931 authuser [date] \"request\" status bytes`__\n",
    "\n",
    "\n",
    "| field         | meaning                                                                |\n",
    "| ------------- | ---------------------------------------------------------------------- |\n",
    "| _remotehost_  | Remote hostname (or IP number if DNS hostname is not available or if [DNSLookup](https://www.w3.org/Daemon/User/Config/General.html#DNSLookup) is off).       |\n",
    "| _rfc931_      | The remote logname of the user if at all it is present. |\n",
    "| _authuser_    | The username of the remote user after authentication by the HTTP server.  |\n",
    "| _[date]_      | Date and time of the request.                                      |\n",
    "| _\"request\"_   | The request, exactly as it came from the browser or client.            |\n",
    "| _status_      | The [HTTP status code](https://en.wikipedia.org/wiki/List_of_HTTP_status_codes) the server sent back to the client.               |\n",
    "| _bytes_       | The number of bytes (`Content-Length`) transferred to the client.      |\n",
    "\n",
    "We will need to use some specific techniques to parse, match and extract these attributes from the log data"
   ]
  },
  {
   "cell_type": "markdown",
   "metadata": {
    "application/vnd.databricks.v1+cell": {
     "cellMetadata": {
      "byteLimit": 2048000,
      "rowLimit": 10000
     },
     "inputWidgets": {},
     "nuid": "3d2711da-2c5a-434a-8479-21ba47df538f",
     "showTitle": false,
     "title": ""
    },
    "colab_type": "text",
    "id": "9aCEcwBLXvAQ"
   },
   "source": [
    "## Data Parsing and Extraction with Regular Expressions\n",
    "\n",
    "Next, we have to parse it into individual columns. We'll use the special built-in [regexp\\_extract()](http://spark.apache.org/docs/latest/api/python/pyspark.sql.html#pyspark.sql.functions.regexp_extract)\n",
    "function to do the parsing. This function matches a column against a regular expression with one or more [capture groups](http://regexone.com/lesson/capturing_groups) and allows you to extract one of the matched groups. We'll use one regular expression for each field we wish to extract.\n",
    "\n",
    "You must have heard or used a fair bit of regular expressions by now. If you find regular expressions confusing (and they certainly _can_ be), and you want to learn more about them, we recommend checking out the\n",
    "[RegexOne web site](http://regexone.com/). You might also find [_Regular Expressions Cookbook_](http://shop.oreilly.com/product/0636920023630.do), by Goyvaerts and Levithan, to be useful as a reference."
   ]
  },
  {
   "cell_type": "markdown",
   "metadata": {
    "application/vnd.databricks.v1+cell": {
     "cellMetadata": {
      "byteLimit": 2048000,
      "rowLimit": 10000
     },
     "inputWidgets": {},
     "nuid": "2a5fd455-7db7-4958-ac12-36972c31b75c",
     "showTitle": false,
     "title": ""
    },
    "colab_type": "text",
    "id": "a3TFNjb1XvAS"
   },
   "source": [
    "#### Let's take a look at our dataset dimensions"
   ]
  },
  {
   "cell_type": "code",
   "execution_count": 0,
   "metadata": {
    "application/vnd.databricks.v1+cell": {
     "cellMetadata": {
      "byteLimit": 2048000,
      "rowLimit": 10000
     },
     "inputWidgets": {},
     "nuid": "3ec19223-3b1a-49be-9678-aae18322d32d",
     "showTitle": false,
     "title": ""
    },
    "colab": {},
    "colab_type": "code",
    "id": "ncbKGPMJXvAT",
    "outputId": "2d0a17f7-5bd7-444a-9a65-f547bf601f09"
   },
   "outputs": [
    {
     "output_type": "stream",
     "name": "stdout",
     "output_type": "stream",
     "text": [
      "(3461613, 1)\n"
     ]
    }
   ],
   "source": [
    "print((base_df.count(), len(base_df.columns)))"
   ]
  },
  {
   "cell_type": "markdown",
   "metadata": {
    "application/vnd.databricks.v1+cell": {
     "cellMetadata": {
      "byteLimit": 2048000,
      "rowLimit": 10000
     },
     "inputWidgets": {},
     "nuid": "ec9ec815-57c4-4495-82c4-d08bff666517",
     "showTitle": false,
     "title": ""
    },
    "colab_type": "text",
    "id": "dtZOfHsVXvAZ"
   },
   "source": [
    "Let's extract and take a look at some sample log messages"
   ]
  },
  {
   "cell_type": "code",
   "execution_count": 0,
   "metadata": {
    "application/vnd.databricks.v1+cell": {
     "cellMetadata": {
      "byteLimit": 2048000,
      "rowLimit": 10000
     },
     "inputWidgets": {},
     "nuid": "bc273912-7b80-4f84-bd48-e62e64aa745f",
     "showTitle": false,
     "title": ""
    },
    "colab": {},
    "colab_type": "code",
    "id": "-3sfUy4NXvAa",
    "outputId": "056e2311-d4be-4c1b-e507-a4c6f1868ace"
   },
   "outputs": [
    {
     "output_type": "stream",
     "name": "stdout",
     "output_type": "stream",
     "text": [
      "Out[12]: ['in24.inetnebr.com - - [01/Aug/1995:00:00:01 -0400] \"GET /shuttle/missions/sts-68/news/sts-68-mcc-05.txt HTTP/1.0\" 200 1839',\n 'uplherc.upl.com - - [01/Aug/1995:00:00:07 -0400] \"GET / HTTP/1.0\" 304 0',\n 'uplherc.upl.com - - [01/Aug/1995:00:00:08 -0400] \"GET /images/ksclogo-medium.gif HTTP/1.0\" 304 0',\n 'uplherc.upl.com - - [01/Aug/1995:00:00:08 -0400] \"GET /images/MOSAIC-logosmall.gif HTTP/1.0\" 304 0',\n 'uplherc.upl.com - - [01/Aug/1995:00:00:08 -0400] \"GET /images/USA-logosmall.gif HTTP/1.0\" 304 0',\n 'ix-esc-ca2-07.ix.netcom.com - - [01/Aug/1995:00:00:09 -0400] \"GET /images/launch-logo.gif HTTP/1.0\" 200 1713',\n 'uplherc.upl.com - - [01/Aug/1995:00:00:10 -0400] \"GET /images/WORLD-logosmall.gif HTTP/1.0\" 304 0',\n 'slppp6.intermind.net - - [01/Aug/1995:00:00:10 -0400] \"GET /history/skylab/skylab.html HTTP/1.0\" 200 1687',\n 'piweba4y.prodigy.com - - [01/Aug/1995:00:00:10 -0400] \"GET /images/launchmedium.gif HTTP/1.0\" 200 11853',\n 'slppp6.intermind.net - - [01/Aug/1995:00:00:11 -0400] \"GET /history/skylab/skylab-small.gif HTTP/1.0\" 200 9202',\n 'slppp6.intermind.net - - [01/Aug/1995:00:00:12 -0400] \"GET /images/ksclogosmall.gif HTTP/1.0\" 200 3635',\n 'ix-esc-ca2-07.ix.netcom.com - - [01/Aug/1995:00:00:12 -0400] \"GET /history/apollo/images/apollo-logo1.gif HTTP/1.0\" 200 1173',\n 'slppp6.intermind.net - - [01/Aug/1995:00:00:13 -0400] \"GET /history/apollo/images/apollo-logo.gif HTTP/1.0\" 200 3047',\n 'uplherc.upl.com - - [01/Aug/1995:00:00:14 -0400] \"GET /images/NASA-logosmall.gif HTTP/1.0\" 304 0',\n '133.43.96.45 - - [01/Aug/1995:00:00:16 -0400] \"GET /shuttle/missions/sts-69/mission-sts-69.html HTTP/1.0\" 200 10566']"
     ]
    }
   ],
   "source": [
    "sample_logs = [item['value'] for item in base_df.take(15)]\n",
    "sample_logs"
   ]
  },
  {
   "cell_type": "markdown",
   "metadata": {
    "application/vnd.databricks.v1+cell": {
     "cellMetadata": {
      "byteLimit": 2048000,
      "rowLimit": 10000
     },
     "inputWidgets": {},
     "nuid": "a2733ab4-27fc-4068-9b35-972505fbe5c8",
     "showTitle": false,
     "title": ""
    },
    "colab_type": "text",
    "id": "0aPYBjkwXvAf"
   },
   "source": [
    "### Extracting host names\n",
    "\n",
    "Let's try and write some regular expressions to extract the host name from the logs"
   ]
  },
  {
   "cell_type": "code",
   "execution_count": 0,
   "metadata": {
    "application/vnd.databricks.v1+cell": {
     "cellMetadata": {
      "byteLimit": 2048000,
      "rowLimit": 10000
     },
     "inputWidgets": {},
     "nuid": "8c95191c-7c6a-4393-b457-0f84022e9000",
     "showTitle": false,
     "title": ""
    },
    "colab": {},
    "colab_type": "code",
    "id": "WarNo8bGXvAh",
    "outputId": "d8a548f2-335e-4ab4-8a9f-28f55060e540"
   },
   "outputs": [
    {
     "output_type": "stream",
     "name": "stdout",
     "output_type": "stream",
     "text": [
      "Out[13]: ['in24.inetnebr.com',\n 'uplherc.upl.com',\n 'uplherc.upl.com',\n 'uplherc.upl.com',\n 'uplherc.upl.com',\n 'ix-esc-ca2-07.ix.netcom.com',\n 'uplherc.upl.com',\n 'slppp6.intermind.net',\n 'piweba4y.prodigy.com',\n 'slppp6.intermind.net',\n 'slppp6.intermind.net',\n 'ix-esc-ca2-07.ix.netcom.com',\n 'slppp6.intermind.net',\n 'uplherc.upl.com',\n '133.43.96.45']"
     ]
    }
   ],
   "source": [
    "host_pattern = r'(^\\S+\\.[\\S+\\.]+\\S+)\\s'\n",
    "hosts = [re.search(host_pattern, item).group(1)\n",
    "           if re.search(host_pattern, item)\n",
    "           else 'no match'\n",
    "           for item in sample_logs]\n",
    "hosts"
   ]
  },
  {
   "cell_type": "markdown",
   "metadata": {
    "application/vnd.databricks.v1+cell": {
     "cellMetadata": {
      "byteLimit": 2048000,
      "rowLimit": 10000
     },
     "inputWidgets": {},
     "nuid": "5ebce114-2c3c-47ac-ace3-38211c8da8d0",
     "showTitle": false,
     "title": ""
    },
    "colab_type": "text",
    "id": "TcZrGpgwXvAk"
   },
   "source": [
    "### Extracting timestamps \n",
    "\n",
    "Let's now try and use regular expressions to extract the timestamp fields from the logs"
   ]
  },
  {
   "cell_type": "code",
   "execution_count": 0,
   "metadata": {
    "application/vnd.databricks.v1+cell": {
     "cellMetadata": {
      "byteLimit": 2048000,
      "rowLimit": 10000
     },
     "inputWidgets": {},
     "nuid": "27eafac2-2551-4a9e-a3ed-5b2f625ab9cb",
     "showTitle": false,
     "title": ""
    },
    "colab": {},
    "colab_type": "code",
    "id": "GOot8niKXvAl",
    "outputId": "6ad3338e-8ff0-48f1-c4d0-ad52742232b9"
   },
   "outputs": [
    {
     "output_type": "stream",
     "name": "stdout",
     "output_type": "stream",
     "text": [
      "Out[14]: ['01/Aug/1995:00:00:01 -0400',\n '01/Aug/1995:00:00:07 -0400',\n '01/Aug/1995:00:00:08 -0400',\n '01/Aug/1995:00:00:08 -0400',\n '01/Aug/1995:00:00:08 -0400',\n '01/Aug/1995:00:00:09 -0400',\n '01/Aug/1995:00:00:10 -0400',\n '01/Aug/1995:00:00:10 -0400',\n '01/Aug/1995:00:00:10 -0400',\n '01/Aug/1995:00:00:11 -0400',\n '01/Aug/1995:00:00:12 -0400',\n '01/Aug/1995:00:00:12 -0400',\n '01/Aug/1995:00:00:13 -0400',\n '01/Aug/1995:00:00:14 -0400',\n '01/Aug/1995:00:00:16 -0400']"
     ]
    }
   ],
   "source": [
    "ts_pattern = r'\\[(\\d{2}/\\w{3}/\\d{4}:\\d{2}:\\d{2}:\\d{2} -\\d{4})]'\n",
    "timestamps = [re.search(ts_pattern, item).group(1) for item in sample_logs]\n",
    "timestamps"
   ]
  },
  {
   "cell_type": "markdown",
   "metadata": {
    "application/vnd.databricks.v1+cell": {
     "cellMetadata": {
      "byteLimit": 2048000,
      "rowLimit": 10000
     },
     "inputWidgets": {},
     "nuid": "238cc772-8e51-40e7-a83e-fb3e09ca46a3",
     "showTitle": false,
     "title": ""
    },
    "colab_type": "text",
    "id": "CKJ5F8tCXvAo"
   },
   "source": [
    "### Extracting HTTP Request Method, URIs and Protocol \n",
    "\n",
    "Let's now try and use regular expressions to extract the HTTP request methods, URIs and Protocol patterns fields from the logs"
   ]
  },
  {
   "cell_type": "code",
   "execution_count": 0,
   "metadata": {
    "application/vnd.databricks.v1+cell": {
     "cellMetadata": {
      "byteLimit": 2048000,
      "rowLimit": 10000
     },
     "inputWidgets": {},
     "nuid": "bb88bb7a-0853-47db-90c8-62980dc4f291",
     "showTitle": false,
     "title": ""
    },
    "colab": {},
    "colab_type": "code",
    "id": "TZvnPVXeXvAp",
    "outputId": "f3cdd71d-0239-43a4-fd8f-245193f571c3"
   },
   "outputs": [
    {
     "output_type": "stream",
     "name": "stdout",
     "output_type": "stream",
     "text": [
      "Out[15]: [('GET', '/shuttle/missions/sts-68/news/sts-68-mcc-05.txt', 'HTTP/1.0'),\n ('GET', '/', 'HTTP/1.0'),\n ('GET', '/images/ksclogo-medium.gif', 'HTTP/1.0'),\n ('GET', '/images/MOSAIC-logosmall.gif', 'HTTP/1.0'),\n ('GET', '/images/USA-logosmall.gif', 'HTTP/1.0'),\n ('GET', '/images/launch-logo.gif', 'HTTP/1.0'),\n ('GET', '/images/WORLD-logosmall.gif', 'HTTP/1.0'),\n ('GET', '/history/skylab/skylab.html', 'HTTP/1.0'),\n ('GET', '/images/launchmedium.gif', 'HTTP/1.0'),\n ('GET', '/history/skylab/skylab-small.gif', 'HTTP/1.0'),\n ('GET', '/images/ksclogosmall.gif', 'HTTP/1.0'),\n ('GET', '/history/apollo/images/apollo-logo1.gif', 'HTTP/1.0'),\n ('GET', '/history/apollo/images/apollo-logo.gif', 'HTTP/1.0'),\n ('GET', '/images/NASA-logosmall.gif', 'HTTP/1.0'),\n ('GET', '/shuttle/missions/sts-69/mission-sts-69.html', 'HTTP/1.0')]"
     ]
    }
   ],
   "source": [
    "method_uri_protocol_pattern = r'\\\"(\\S+)\\s(\\S+)\\s*(\\S*)\\\"'\n",
    "method_uri_protocol = [re.search(method_uri_protocol_pattern, item).groups()\n",
    "               if re.search(method_uri_protocol_pattern, item)\n",
    "               else 'no match'\n",
    "              for item in sample_logs]\n",
    "method_uri_protocol"
   ]
  },
  {
   "cell_type": "markdown",
   "metadata": {
    "application/vnd.databricks.v1+cell": {
     "cellMetadata": {
      "byteLimit": 2048000,
      "rowLimit": 10000
     },
     "inputWidgets": {},
     "nuid": "ae60b3fb-e70d-49eb-83a0-9517c855fbd9",
     "showTitle": false,
     "title": ""
    },
    "colab_type": "text",
    "id": "oaBizluJXvAu"
   },
   "source": [
    "### Building an intermediate parsed dataframe\n",
    "\n",
    "Let's try and use our regular expressions we have implemented so far into parsing and extracting the relevant entities in separate columns in a new dataframe"
   ]
  },
  {
   "cell_type": "code",
   "execution_count": 0,
   "metadata": {
    "application/vnd.databricks.v1+cell": {
     "cellMetadata": {
      "byteLimit": 2048000,
      "rowLimit": 10000
     },
     "inputWidgets": {},
     "nuid": "bed93c9a-6285-43bd-955f-088983bbec01",
     "showTitle": false,
     "title": ""
    },
    "colab": {},
    "colab_type": "code",
    "id": "MLI8LUVPXvAv",
    "outputId": "5c8becac-e3bb-4a61-cc8e-bba69c4169d6"
   },
   "outputs": [
    {
     "output_type": "stream",
     "name": "stdout",
     "output_type": "stream",
     "text": [
      "+---------------------------+--------------------------+------+-----------------------------------------------+--------+\n|host                       |timestamp                 |method|endpoint                                       |protocol|\n+---------------------------+--------------------------+------+-----------------------------------------------+--------+\n|in24.inetnebr.com          |01/Aug/1995:00:00:01 -0400|GET   |/shuttle/missions/sts-68/news/sts-68-mcc-05.txt|HTTP/1.0|\n|uplherc.upl.com            |01/Aug/1995:00:00:07 -0400|GET   |/                                              |HTTP/1.0|\n|uplherc.upl.com            |01/Aug/1995:00:00:08 -0400|GET   |/images/ksclogo-medium.gif                     |HTTP/1.0|\n|uplherc.upl.com            |01/Aug/1995:00:00:08 -0400|GET   |/images/MOSAIC-logosmall.gif                   |HTTP/1.0|\n|uplherc.upl.com            |01/Aug/1995:00:00:08 -0400|GET   |/images/USA-logosmall.gif                      |HTTP/1.0|\n|ix-esc-ca2-07.ix.netcom.com|01/Aug/1995:00:00:09 -0400|GET   |/images/launch-logo.gif                        |HTTP/1.0|\n|uplherc.upl.com            |01/Aug/1995:00:00:10 -0400|GET   |/images/WORLD-logosmall.gif                    |HTTP/1.0|\n|slppp6.intermind.net       |01/Aug/1995:00:00:10 -0400|GET   |/history/skylab/skylab.html                    |HTTP/1.0|\n|piweba4y.prodigy.com       |01/Aug/1995:00:00:10 -0400|GET   |/images/launchmedium.gif                       |HTTP/1.0|\n|slppp6.intermind.net       |01/Aug/1995:00:00:11 -0400|GET   |/history/skylab/skylab-small.gif               |HTTP/1.0|\n+---------------------------+--------------------------+------+-----------------------------------------------+--------+\nonly showing top 10 rows\n\n(3461613, 5)\n"
     ]
    }
   ],
   "source": [
    "from pyspark.sql.functions import regexp_extract\n",
    "\n",
    "logs_df = base_df.select(regexp_extract('value', host_pattern, 1).alias('host'),\n",
    "                         regexp_extract('value', ts_pattern, 1).alias('timestamp'),\n",
    "                         regexp_extract('value', method_uri_protocol_pattern, 1).alias('method'),\n",
    "                         regexp_extract('value', method_uri_protocol_pattern, 2).alias('endpoint'),\n",
    "                         regexp_extract('value', method_uri_protocol_pattern, 3).alias('protocol'))\n",
    "logs_df.show(10, truncate=False)\n",
    "print((logs_df.count(), len(logs_df.columns)))"
   ]
  },
  {
   "cell_type": "markdown",
   "metadata": {
    "application/vnd.databricks.v1+cell": {
     "cellMetadata": {
      "byteLimit": 2048000,
      "rowLimit": 10000
     },
     "inputWidgets": {},
     "nuid": "7441cf45-a11b-4d27-8341-b47ae7eb7b16",
     "showTitle": false,
     "title": ""
    },
    "colab_type": "text",
    "id": "-c-LK4TNXvAy"
   },
   "source": [
    "### Extracting HTTP Status Codes\n",
    "\n",
    "Let's now try and use regular expressions to extract the HTTP status codes from the logs"
   ]
  },
  {
   "cell_type": "code",
   "execution_count": 0,
   "metadata": {
    "application/vnd.databricks.v1+cell": {
     "cellMetadata": {
      "byteLimit": 2048000,
      "rowLimit": 10000
     },
     "inputWidgets": {},
     "nuid": "8e4e6abb-e57e-4a15-83c4-9789a27be158",
     "showTitle": false,
     "title": ""
    },
    "colab": {},
    "colab_type": "code",
    "id": "kvWWXeTcXvA1",
    "outputId": "5ffeabc8-ecff-4365-af5f-0b905f913115"
   },
   "outputs": [
    {
     "output_type": "stream",
     "name": "stdout",
     "output_type": "stream",
     "text": [
      "['200', '304', '304', '304', '304', '200', '304', '200', '200', '200', '200', '200', '200', '304', '200']\n"
     ]
    }
   ],
   "source": [
    "status_pattern = r'\\s(\\d{3})\\s'\n",
    "status = [re.search(status_pattern, item).group(1) for item in sample_logs]\n",
    "print(status)"
   ]
  },
  {
   "cell_type": "markdown",
   "metadata": {
    "application/vnd.databricks.v1+cell": {
     "cellMetadata": {
      "byteLimit": 2048000,
      "rowLimit": 10000
     },
     "inputWidgets": {},
     "nuid": "c730a0f4-3e53-41a2-b257-3eef66c76509",
     "showTitle": false,
     "title": ""
    },
    "colab_type": "text",
    "id": "jFemwBnSXvA4"
   },
   "source": [
    "### Extracting HTTP Response Content Size\n",
    "\n",
    "Let's now try and use regular expressions to extract the HTTP response content size from the logs"
   ]
  },
  {
   "cell_type": "code",
   "execution_count": 0,
   "metadata": {
    "application/vnd.databricks.v1+cell": {
     "cellMetadata": {
      "byteLimit": 2048000,
      "rowLimit": 10000
     },
     "inputWidgets": {},
     "nuid": "a7faa2ac-af04-44c6-917c-1a09b7cfb5ee",
     "showTitle": false,
     "title": ""
    },
    "colab": {},
    "colab_type": "code",
    "id": "l0kmQOqjXvA5",
    "outputId": "8b6c6d90-6897-4885-e527-0b815f4a977e"
   },
   "outputs": [
    {
     "output_type": "stream",
     "name": "stdout",
     "output_type": "stream",
     "text": [
      "['1839', '0', '0', '0', '0', '1713', '0', '1687', '11853', '9202', '3635', '1173', '3047', '0', '10566']\n"
     ]
    }
   ],
   "source": [
    "content_size_pattern = r'\\s(\\d+)$'\n",
    "content_size = [re.search(content_size_pattern, item).group(1) for item in sample_logs]\n",
    "print(content_size)"
   ]
  },
  {
   "cell_type": "markdown",
   "metadata": {
    "application/vnd.databricks.v1+cell": {
     "cellMetadata": {
      "byteLimit": 2048000,
      "rowLimit": 10000
     },
     "inputWidgets": {},
     "nuid": "7a201230-0cfe-4fe4-9534-8e704b8da724",
     "showTitle": false,
     "title": ""
    },
    "colab_type": "text",
    "id": "DHPbsgMsXvA8"
   },
   "source": [
    "## Q1: Your Turn: Putting it all together \n",
    "\n",
    "Let's now try and leverage all the regular expression patterns we previously built and use the `regexp_extract(...)` method to build our dataframe with all the log attributes neatly extracted in their own separate columns.\n",
    "\n",
    "- You can reuse the code we used previously to build the intermediate dataframe\n",
    "- Remember to cast the HTTP status code and content size as integers. \n",
    "- You can cast data as integer type using the following: __`regexp_extract('value', ...., ...).cast('integer').alias(...)`__"
   ]
  },
  {
   "cell_type": "code",
   "execution_count": 0,
   "metadata": {
    "application/vnd.databricks.v1+cell": {
     "cellMetadata": {
      "byteLimit": 2048000,
      "rowLimit": 10000
     },
     "inputWidgets": {},
     "nuid": "1b3e4037-cccd-49f8-aaee-e006ca4b08e8",
     "showTitle": false,
     "title": ""
    },
    "colab": {},
    "colab_type": "code",
    "id": "bM4iBWjRXvA-",
    "outputId": "b826a364-3709-4c6f-eb67-541e08c535ac"
   },
   "outputs": [
    {
     "output_type": "stream",
     "name": "stdout",
     "output_type": "stream",
     "text": [
      "+--------------------+--------------------+--------------------+------+--------------------+--------+-----------+------------+\n|               value|                host|           timestamp|method|            endpoint|protocol|status_code|content_size|\n+--------------------+--------------------+--------------------+------+--------------------+--------+-----------+------------+\n|in24.inetnebr.com...|   in24.inetnebr.com|01/Aug/1995:00:00...|   GET|/shuttle/missions...|HTTP/1.0|        200|        1839|\n|uplherc.upl.com -...|     uplherc.upl.com|01/Aug/1995:00:00...|   GET|                   /|HTTP/1.0|        304|           0|\n|uplherc.upl.com -...|     uplherc.upl.com|01/Aug/1995:00:00...|   GET|/images/ksclogo-m...|HTTP/1.0|        304|           0|\n|uplherc.upl.com -...|     uplherc.upl.com|01/Aug/1995:00:00...|   GET|/images/MOSAIC-lo...|HTTP/1.0|        304|           0|\n|uplherc.upl.com -...|     uplherc.upl.com|01/Aug/1995:00:00...|   GET|/images/USA-logos...|HTTP/1.0|        304|           0|\n|ix-esc-ca2-07.ix....|ix-esc-ca2-07.ix....|01/Aug/1995:00:00...|   GET|/images/launch-lo...|HTTP/1.0|        200|        1713|\n|uplherc.upl.com -...|     uplherc.upl.com|01/Aug/1995:00:00...|   GET|/images/WORLD-log...|HTTP/1.0|        304|           0|\n|slppp6.intermind....|slppp6.intermind.net|01/Aug/1995:00:00...|   GET|/history/skylab/s...|HTTP/1.0|        200|        1687|\n|piweba4y.prodigy....|piweba4y.prodigy.com|01/Aug/1995:00:00...|   GET|/images/launchmed...|HTTP/1.0|        200|       11853|\n|slppp6.intermind....|slppp6.intermind.net|01/Aug/1995:00:00...|   GET|/history/skylab/s...|HTTP/1.0|        200|        9202|\n+--------------------+--------------------+--------------------+------+--------------------+--------+-----------+------------+\nonly showing top 10 rows\n\n(3461613, 8)\n"
     ]
    }
   ],
   "source": [
    "# TODO: Replace <FILL IN> with appropriate code\n",
    "host_pattern = r'(^\\S+\\.[\\S+\\.]+\\S+)\\s'\n",
    "timestamp_pattern = r'\\s\\[([\\w:/]+\\s[+\\-]\\d{4})\\]'\n",
    "http_request_pattern = r'\\\"(\\S+)\\s(\\S+)\\s*(\\S*)\\\"'\n",
    "status_code_pattern = r'\\s(\\d{3})\\s'\n",
    "content_size_pattern = r'\\s(\\d+)$'\n",
    "\n",
    "# Apply the regular expression patterns to extract attributes\n",
    "logs_df = base_df.select(\n",
    "    \"value\",\n",
    "    regexp_extract(\"value\", host_pattern, 1).alias(\"host\"),\n",
    "    regexp_extract(\"value\", timestamp_pattern, 1).alias(\"timestamp\"),\n",
    "    regexp_extract(\"value\", http_request_pattern, 1).alias(\"method\"),\n",
    "    regexp_extract(\"value\", http_request_pattern, 2).alias(\"endpoint\"),\n",
    "    regexp_extract(\"value\", http_request_pattern, 3).alias(\"protocol\"),\n",
    "    regexp_extract(\"value\", status_code_pattern, 1).cast(\"integer\").alias(\"status_code\"),\n",
    "    regexp_extract(\"value\", content_size_pattern, 1).cast(\"integer\").alias(\"content_size\")\n",
    ")\n",
    "\n",
    "# Show the first 10 rows of the dataframe and print its shape\n",
    "logs_df.show(10, truncate=True)\n",
    "print((logs_df.count(), len(logs_df.columns)))"
   ]
  },
  {
   "cell_type": "markdown",
   "metadata": {
    "application/vnd.databricks.v1+cell": {
     "cellMetadata": {
      "byteLimit": 2048000,
      "rowLimit": 10000
     },
     "inputWidgets": {},
     "nuid": "48a83362-3405-48b3-bdc1-814dd9a2c206",
     "showTitle": false,
     "title": ""
    },
    "colab_type": "text",
    "id": "EgLGxYRYXvBB"
   },
   "source": [
    "## Finding Missing Values\n",
    "\n",
    "Missing and null values are the bane of data analysis and machine learning. Let's see how well our data parsing and extraction logic worked. First, let's verify that there are no null rows in the original dataframe."
   ]
  },
  {
   "cell_type": "code",
   "execution_count": 0,
   "metadata": {
    "application/vnd.databricks.v1+cell": {
     "cellMetadata": {
      "byteLimit": 2048000,
      "rowLimit": 10000
     },
     "inputWidgets": {},
     "nuid": "f6be3969-4ee6-4f52-97a6-2e89a86cd085",
     "showTitle": false,
     "title": ""
    },
    "colab": {},
    "colab_type": "code",
    "id": "O4ppVUoJXvBC",
    "outputId": "18c683c1-5f0d-4f62-9545-e9bd27088c80"
   },
   "outputs": [
    {
     "output_type": "stream",
     "name": "stdout",
     "output_type": "stream",
     "text": [
      "Out[20]: 0"
     ]
    }
   ],
   "source": [
    "base_df.filter(base_df['value'].isNull()).count()"
   ]
  },
  {
   "cell_type": "markdown",
   "metadata": {
    "application/vnd.databricks.v1+cell": {
     "cellMetadata": {
      "byteLimit": 2048000,
      "rowLimit": 10000
     },
     "inputWidgets": {},
     "nuid": "0e60ad4e-d8e2-4b92-9d04-9944153fc75b",
     "showTitle": false,
     "title": ""
    },
    "colab_type": "text",
    "id": "7V0g6vHcXvBG"
   },
   "source": [
    "If our data parsing and extraction worked properly, we should not have any rows with potential null values. Let's try and put that to test!"
   ]
  },
  {
   "cell_type": "code",
   "execution_count": 0,
   "metadata": {
    "application/vnd.databricks.v1+cell": {
     "cellMetadata": {
      "byteLimit": 2048000,
      "rowLimit": 10000
     },
     "inputWidgets": {},
     "nuid": "fb2d50b5-5524-49df-a7f5-5b130bca7a77",
     "showTitle": false,
     "title": ""
    },
    "colab": {},
    "colab_type": "code",
    "id": "4NFuk6QTXvBH",
    "outputId": "a8238a74-51c8-48ac-fe83-b67f42d0a78c"
   },
   "outputs": [
    {
     "output_type": "stream",
     "name": "stdout",
     "output_type": "stream",
     "text": [
      "Out[21]: 33905"
     ]
    }
   ],
   "source": [
    "bad_rows_df = logs_df.filter(logs_df['host'].isNull()| \n",
    "                             logs_df['timestamp'].isNull() | \n",
    "                             logs_df['method'].isNull() |\n",
    "                             logs_df['endpoint'].isNull() |\n",
    "                             logs_df['status_code'].isNull() |\n",
    "                             logs_df['content_size'].isNull()|\n",
    "                             logs_df['protocol'].isNull())\n",
    "bad_rows_df.count()"
   ]
  },
  {
   "cell_type": "markdown",
   "metadata": {
    "application/vnd.databricks.v1+cell": {
     "cellMetadata": {
      "byteLimit": 2048000,
      "rowLimit": 10000
     },
     "inputWidgets": {},
     "nuid": "136bfd0a-d451-4c2a-b1f4-e80f8c70e962",
     "showTitle": false,
     "title": ""
    },
    "colab_type": "text",
    "id": "CIqr5XvhXvBM"
   },
   "source": [
    "Ouch! Looks like we have over 30K missing values in our data! Can we handle this?"
   ]
  },
  {
   "cell_type": "markdown",
   "metadata": {
    "application/vnd.databricks.v1+cell": {
     "cellMetadata": {
      "byteLimit": 2048000,
      "rowLimit": 10000
     },
     "inputWidgets": {},
     "nuid": "d1f90f3e-543d-43bf-93f1-7ae526d68590",
     "showTitle": false,
     "title": ""
    },
    "colab_type": "text",
    "id": "g8iWYrBoXvBN"
   },
   "source": [
    "Do remember, this is not a regular pandas dataframe which you can directly query and get which columns have null. Our so-called _big dataset_ is residing on disk which can potentially be present in multiple nodes in a spark cluster. So how do we find out which columns have potential nulls? \n",
    "\n",
    "### Finding Null Counts\n",
    "\n",
    "We can typically use the following technique to find out which columns have null values. \n",
    "\n",
    "(__Note:__ This approach is adapted from an [excellent answer](http://stackoverflow.com/a/33901312) on StackOverflow.)"
   ]
  },
  {
   "cell_type": "code",
   "execution_count": 0,
   "metadata": {
    "application/vnd.databricks.v1+cell": {
     "cellMetadata": {
      "byteLimit": 2048000,
      "rowLimit": 10000
     },
     "inputWidgets": {},
     "nuid": "8e105a88-cc9a-485f-b216-fbe8ea0d0185",
     "showTitle": false,
     "title": ""
    },
    "colab": {},
    "colab_type": "code",
    "id": "h0TWdnaPXvBP",
    "outputId": "8a7abfda-2629-4f36-cb9c-3e00a13efa83"
   },
   "outputs": [
    {
     "output_type": "stream",
     "name": "stdout",
     "output_type": "stream",
     "text": [
      "Out[22]: ['value',\n 'host',\n 'timestamp',\n 'method',\n 'endpoint',\n 'protocol',\n 'status_code',\n 'content_size']"
     ]
    }
   ],
   "source": [
    "logs_df.columns"
   ]
  },
  {
   "cell_type": "code",
   "execution_count": 0,
   "metadata": {
    "application/vnd.databricks.v1+cell": {
     "cellMetadata": {
      "byteLimit": 2048000,
      "rowLimit": 10000
     },
     "inputWidgets": {},
     "nuid": "ac3c2e11-9958-4b44-8b7d-1a70bee3c8b4",
     "showTitle": false,
     "title": ""
    },
    "colab": {},
    "colab_type": "code",
    "id": "LtNLdagZXvBT",
    "outputId": "e9fba1ca-d183-4728-9f7c-135ebcd78ec9"
   },
   "outputs": [
    {
     "output_type": "stream",
     "name": "stdout",
     "output_type": "stream",
     "text": [
      "+-----+----+---------+------+--------+--------+-----------+------------+\n|value|host|timestamp|method|endpoint|protocol|status_code|content_size|\n+-----+----+---------+------+--------+--------+-----------+------------+\n|    0|   0|        0|     0|       0|       0|          1|       33905|\n+-----+----+---------+------+--------+--------+-----------+------------+\n\n"
     ]
    }
   ],
   "source": [
    "from pyspark.sql.functions import col\n",
    "from pyspark.sql.functions import sum as spark_sum\n",
    "\n",
    "def count_null(col_name):\n",
    "    return spark_sum(col(col_name).isNull().cast('integer')).alias(col_name)\n",
    "\n",
    "# Build up a list of column expressions, one per column.\n",
    "exprs = [count_null(col_name) for col_name in logs_df.columns]\n",
    "\n",
    "# Run the aggregation. The *exprs converts the list of expressions into\n",
    "# variable function arguments.\n",
    "logs_df.agg(*exprs).show()"
   ]
  },
  {
   "cell_type": "markdown",
   "metadata": {
    "application/vnd.databricks.v1+cell": {
     "cellMetadata": {
      "byteLimit": 2048000,
      "rowLimit": 10000
     },
     "inputWidgets": {},
     "nuid": "0bb85ef8-2e63-4b0f-b7c9-83c18e39595a",
     "showTitle": false,
     "title": ""
    },
    "colab_type": "text",
    "id": "g5z_B22MXvBX"
   },
   "source": [
    "Well, looks like we have one missing value in the `status` column and everything else is in the `content_size` column. \n",
    "Let's see if we can figure out what's wrong!"
   ]
  },
  {
   "cell_type": "markdown",
   "metadata": {
    "application/vnd.databricks.v1+cell": {
     "cellMetadata": {
      "byteLimit": 2048000,
      "rowLimit": 10000
     },
     "inputWidgets": {},
     "nuid": "19b387a5-7204-4fbc-8efe-42ad161c450b",
     "showTitle": false,
     "title": ""
    },
    "colab_type": "text",
    "id": "jGoLzGeEXvBZ"
   },
   "source": [
    "### Handling nulls in HTTP status\n",
    "\n",
    "If you had solved it correctly, our original parsing regular expression for the `status` column was:\n",
    "\n",
    "```\n",
    "regexp_extract('value', r'\\s(\\d{3})\\s', 1).cast('integer').alias('status')\n",
    "``` \n",
    "\n",
    "Could it be that there are more digits making our regular expression wrong? or is the data point itself bad? Let's try and find out!\n",
    "\n",
    "**Note**: In the expression below, `~` means \"not\"."
   ]
  },
  {
   "cell_type": "code",
   "execution_count": 0,
   "metadata": {
    "application/vnd.databricks.v1+cell": {
     "cellMetadata": {
      "byteLimit": 2048000,
      "rowLimit": 10000
     },
     "inputWidgets": {},
     "nuid": "94afb839-8d0e-4fdf-81a4-02f832662a0f",
     "showTitle": false,
     "title": ""
    },
    "colab": {},
    "colab_type": "code",
    "id": "tscbB01GXvBb",
    "outputId": "97996e0a-5e21-441f-b742-3e898e691c43"
   },
   "outputs": [
    {
     "output_type": "stream",
     "name": "stdout",
     "output_type": "stream",
     "text": [
      "Out[24]: 1"
     ]
    }
   ],
   "source": [
    "null_status_df = base_df.filter(~base_df['value'].rlike(r'\\s(\\d{3})\\s'))\n",
    "null_status_df.count()"
   ]
  },
  {
   "cell_type": "code",
   "execution_count": 0,
   "metadata": {
    "application/vnd.databricks.v1+cell": {
     "cellMetadata": {
      "byteLimit": 2048000,
      "rowLimit": 10000
     },
     "inputWidgets": {},
     "nuid": "083ab509-4889-43fe-8663-b7005008c55f",
     "showTitle": false,
     "title": ""
    },
    "colab": {},
    "colab_type": "code",
    "id": "KMRiPoTXXvBe",
    "outputId": "8bf8cf96-643f-42fd-c593-0dcadf950f74"
   },
   "outputs": [
    {
     "output_type": "stream",
     "name": "stdout",
     "output_type": "stream",
     "text": [
      "+--------+\n|value   |\n+--------+\n|alyssa.p|\n+--------+\n\n"
     ]
    }
   ],
   "source": [
    "null_status_df.show(truncate=False)"
   ]
  },
  {
   "cell_type": "code",
   "execution_count": 0,
   "metadata": {
    "application/vnd.databricks.v1+cell": {
     "cellMetadata": {
      "byteLimit": 2048000,
      "rowLimit": 10000
     },
     "inputWidgets": {},
     "nuid": "0eb95221-3007-4a16-8ca7-05f8b7b2c9f6",
     "showTitle": false,
     "title": ""
    },
    "colab": {},
    "colab_type": "code",
    "id": "-ec9HtGwXvBh",
    "outputId": "9bc09049-3dff-4b65-8fec-5b7edf2cda39"
   },
   "outputs": [
    {
     "output_type": "stream",
     "name": "stdout",
     "output_type": "stream",
     "text": [
      "+----+---------+------+--------+--------+------+------------+\n|host|timestamp|method|endpoint|protocol|status|content_size|\n+----+---------+------+--------+--------+------+------------+\n|    |         |      |        |        |null  |null        |\n+----+---------+------+--------+--------+------+------------+\n\n"
     ]
    }
   ],
   "source": [
    "bad_status_df = null_status_df.select(regexp_extract('value', host_pattern, 1).alias('host'),\n",
    "                                      regexp_extract('value', ts_pattern, 1).alias('timestamp'),\n",
    "                                      regexp_extract('value', method_uri_protocol_pattern, 1).alias('method'),\n",
    "                                      regexp_extract('value', method_uri_protocol_pattern, 2).alias('endpoint'),\n",
    "                                      regexp_extract('value', method_uri_protocol_pattern, 3).alias('protocol'),\n",
    "                                      regexp_extract('value', status_pattern, 1).cast('integer').alias('status'),\n",
    "                                      regexp_extract('value', content_size_pattern, 1).cast('integer').alias('content_size'))\n",
    "bad_status_df.show(truncate=False)"
   ]
  },
  {
   "cell_type": "markdown",
   "metadata": {
    "application/vnd.databricks.v1+cell": {
     "cellMetadata": {
      "byteLimit": 2048000,
      "rowLimit": 10000
     },
     "inputWidgets": {},
     "nuid": "82c28f51-c441-4b4a-99ef-cc6db6c0acc1",
     "showTitle": false,
     "title": ""
    },
    "colab_type": "text",
    "id": "wS7tZXIUXvBk"
   },
   "source": [
    "Looks like the record itself is an incomplete record with no useful information, the best option would be to drop this record as follows!"
   ]
  },
  {
   "cell_type": "code",
   "execution_count": 0,
   "metadata": {
    "application/vnd.databricks.v1+cell": {
     "cellMetadata": {
      "byteLimit": 2048000,
      "rowLimit": 10000
     },
     "inputWidgets": {},
     "nuid": "c2cd576d-056f-4565-b7e6-c3442ca6bf3b",
     "showTitle": false,
     "title": ""
    },
    "colab": {},
    "colab_type": "code",
    "id": "zb6wxLWuXvBl",
    "outputId": "b4f36a5a-9679-4830-91fc-80388aac54e2"
   },
   "outputs": [
    {
     "output_type": "stream",
     "name": "stdout",
     "output_type": "stream",
     "text": [
      "Out[27]: 3461613"
     ]
    }
   ],
   "source": [
    "logs_df.count()"
   ]
  },
  {
   "cell_type": "code",
   "execution_count": 0,
   "metadata": {
    "application/vnd.databricks.v1+cell": {
     "cellMetadata": {
      "byteLimit": 2048000,
      "rowLimit": 10000
     },
     "inputWidgets": {},
     "nuid": "062974e1-392f-4553-9026-1451b74514d3",
     "showTitle": false,
     "title": ""
    },
    "colab": {},
    "colab_type": "code",
    "id": "RQogALLJXvBo",
    "outputId": "41034dca-c862-48e7-9a3d-548738bebbff"
   },
   "outputs": [
    {
     "output_type": "stream",
     "name": "stdout",
     "output_type": "stream",
     "text": [
      "Out[28]: 3461612"
     ]
    }
   ],
   "source": [
    "logs_df = logs_df[logs_df['status_code'].isNotNull()]\n",
    "logs_df.count()"
   ]
  },
  {
   "cell_type": "code",
   "execution_count": 0,
   "metadata": {
    "application/vnd.databricks.v1+cell": {
     "cellMetadata": {
      "byteLimit": 2048000,
      "rowLimit": 10000
     },
     "inputWidgets": {},
     "nuid": "b86a00ce-d9be-4b7f-a900-ad5fe09825ae",
     "showTitle": false,
     "title": ""
    },
    "colab": {},
    "colab_type": "code",
    "id": "_rHsvCeeXvBs",
    "outputId": "a58d88c2-94cc-4c58-bf1f-bf12abc0e822"
   },
   "outputs": [
    {
     "output_type": "stream",
     "name": "stdout",
     "output_type": "stream",
     "text": [
      "+-----+----+---------+------+--------+--------+-----------+------------+\n|value|host|timestamp|method|endpoint|protocol|status_code|content_size|\n+-----+----+---------+------+--------+--------+-----------+------------+\n|    0|   0|        0|     0|       0|       0|          0|       33904|\n+-----+----+---------+------+--------+--------+-----------+------------+\n\n"
     ]
    }
   ],
   "source": [
    "exprs = [count_null(col_name) for col_name in logs_df.columns]\n",
    "logs_df.agg(*exprs).show()"
   ]
  },
  {
   "cell_type": "markdown",
   "metadata": {
    "application/vnd.databricks.v1+cell": {
     "cellMetadata": {
      "byteLimit": 2048000,
      "rowLimit": 10000
     },
     "inputWidgets": {},
     "nuid": "e3337d86-6c7e-41b6-9f57-388e00c7a133",
     "showTitle": false,
     "title": ""
    },
    "colab_type": "text",
    "id": "8k4-PjEFXvBv"
   },
   "source": [
    "### Handling nulls in HTTP content size\n",
    "\n",
    "Again based on our previous regular expression and assuming you were able to solve it correctly, our original parsing regular expression for the `content_size` column was:\n",
    "\n",
    "```\n",
    "regexp_extract('value', r'\\s(\\d+)$', 1).cast('integer').alias('content_size')\n",
    "``` \n",
    "\n",
    "Could there be missing data in our original dataset itself? Let's try and find out!"
   ]
  },
  {
   "cell_type": "markdown",
   "metadata": {
    "application/vnd.databricks.v1+cell": {
     "cellMetadata": {
      "byteLimit": 2048000,
      "rowLimit": 10000
     },
     "inputWidgets": {},
     "nuid": "02179ceb-3901-417f-981f-3b2bddd76fa6",
     "showTitle": false,
     "title": ""
    },
    "colab_type": "text",
    "id": "MMjHfm1aXvBw"
   },
   "source": [
    "### Q2: Your Turn: Find out the records in our base data frame with potential missing content sizes\n",
    "\n",
    "- Use the `r'\\s\\d+$'` regex pattern with the `rlike()` function like we demonstrated in the previous example\n",
    "- Remember to work on `base_df` since we are searching on the raw records NOT the parsed `logs_df`\n",
    "- Find the total count of the records with missing content size in `base_df` using the `count()` function"
   ]
  },
  {
   "cell_type": "code",
   "execution_count": 0,
   "metadata": {
    "application/vnd.databricks.v1+cell": {
     "cellMetadata": {
      "byteLimit": 2048000,
      "rowLimit": 10000
     },
     "inputWidgets": {},
     "nuid": "746f9715-820a-48f5-8f2c-7604e968452f",
     "showTitle": false,
     "title": ""
    },
    "colab": {},
    "colab_type": "code",
    "id": "ki7G6daTXvBx",
    "outputId": "8a7230f3-f87b-4681-fcfc-b5d9503a441d"
   },
   "outputs": [
    {
     "output_type": "stream",
     "name": "stdout",
     "output_type": "stream",
     "text": [
      "3427708\n"
     ]
    }
   ],
   "source": [
    "# TODO: Replace <FILL IN> with appropriate code\n",
    "\n",
    "from pyspark.sql.functions import col\n",
    "\n",
    "missing_content_size_pattern = r'\\s\\d+$'\n",
    "null_content_size_df = base_df.filter(col(\"value\").rlike(missing_content_size_pattern))\n",
    "count_missing_content_size = null_content_size_df.count()\n",
    "\n",
    "print(count_missing_content_size)\n"
   ]
  },
  {
   "cell_type": "markdown",
   "metadata": {
    "application/vnd.databricks.v1+cell": {
     "cellMetadata": {
      "byteLimit": 2048000,
      "rowLimit": 10000
     },
     "inputWidgets": {},
     "nuid": "8174220d-a796-4917-9c76-398771d09bd8",
     "showTitle": false,
     "title": ""
    },
    "colab_type": "text",
    "id": "6te6fSfCXvB0"
   },
   "source": [
    "### Q3: Your Turn: Display the top ten records of your data frame having missing content sizes"
   ]
  },
  {
   "cell_type": "code",
   "execution_count": 0,
   "metadata": {
    "application/vnd.databricks.v1+cell": {
     "cellMetadata": {
      "byteLimit": 2048000,
      "rowLimit": 10000
     },
     "inputWidgets": {},
     "nuid": "41a3bee5-728d-41d7-8335-ef2949b1adee",
     "showTitle": false,
     "title": ""
    },
    "colab": {},
    "colab_type": "code",
    "id": "P1vwVWX4XvB1",
    "outputId": "c11b52c6-ed73-421f-8988-8eb6296c7e7a"
   },
   "outputs": [
    {
     "output_type": "stream",
     "name": "stdout",
     "output_type": "stream",
     "text": [
      "+--------------------+\n|               value|\n+--------------------+\n|in24.inetnebr.com...|\n|uplherc.upl.com -...|\n|uplherc.upl.com -...|\n|uplherc.upl.com -...|\n|uplherc.upl.com -...|\n|ix-esc-ca2-07.ix....|\n|uplherc.upl.com -...|\n|slppp6.intermind....|\n|piweba4y.prodigy....|\n|slppp6.intermind....|\n+--------------------+\n\n"
     ]
    }
   ],
   "source": [
    "from pyspark.sql.functions import col\n",
    "\n",
    "missing_content_size_pattern = r'\\s\\d+$'\n",
    "null_content_size_df = base_df.filter(col(\"value\").rlike(missing_content_size_pattern))\n",
    "\n",
    "top_10_missing_content_size = null_content_size_df.limit(10)\n",
    "top_10_missing_content_size.show()\n",
    "\n"
   ]
  },
  {
   "cell_type": "markdown",
   "metadata": {
    "application/vnd.databricks.v1+cell": {
     "cellMetadata": {
      "byteLimit": 2048000,
      "rowLimit": 10000
     },
     "inputWidgets": {},
     "nuid": "6dc3717d-b396-43f9-ad25-c8fd58c6b812",
     "showTitle": false,
     "title": ""
    },
    "colab_type": "text",
    "id": "Rl3J6c5sXvB8"
   },
   "source": [
    "Assuming you were able to get to the missing records above, it is quite evident that the bad raw data records correspond to error responses, where no content was sent back and the server emitted a \"`-`\" for the `content_size` field. \n",
    "\n",
    "Since we don't want to discard those rows from our analysis, let's impute or fill them to 0."
   ]
  },
  {
   "cell_type": "markdown",
   "metadata": {
    "application/vnd.databricks.v1+cell": {
     "cellMetadata": {
      "byteLimit": 2048000,
      "rowLimit": 10000
     },
     "inputWidgets": {},
     "nuid": "b8799714-f5b8-43ca-8039-ad4c886b0bd0",
     "showTitle": false,
     "title": ""
    },
    "colab_type": "text",
    "id": "2y3iD47fXvCB"
   },
   "source": [
    "### Q4: Your Turn: Fix the rows with null content\\_size\n",
    "\n",
    "The easiest solution is to replace the null values in `logs_df` with 0 like we discussed earlier. The Spark DataFrame API provides a set of functions and fields specifically designed for working with null values, among them:\n",
    "\n",
    "* [fillna()](http://spark.apache.org/docs/latest/api/python/pyspark.sql.html#pyspark.sql.DataFrame.fillna), which fills null values with specified non-null values.\n",
    "* [na](http://spark.apache.org/docs/latest/api/python/pyspark.sql.html#pyspark.sql.DataFrame.na), which returns a [DataFrameNaFunctions](http://spark.apache.org/docs/latest/api/python/pyspark.sql.html#pyspark.sql.DataFrameNaFunctions) object with many functions for operating on null columns.\n",
    "\n",
    "There are several ways to invoke this function. The easiest is just to replace _all_ null columns with known values. But, for safety, it's better to pass a Python dictionary containing (column\\_name, value) mappings. That's what we'll do. A sample example from the documentation is depicted below\n",
    "\n",
    "```\n",
    ">>> df4.na.fill({'age': 50, 'name': 'unknown'}).show()\n",
    "+---+------+-------+\n",
    "|age|height|   name|\n",
    "+---+------+-------+\n",
    "| 10|    80|  Alice|\n",
    "|  5|  null|    Bob|\n",
    "| 50|  null|    Tom|\n",
    "| 50|  null|unknown|\n",
    "+---+------+-------+\n",
    "```\n",
    "\n",
    "Now use this function and fill all the missing values in the `content_size` field with 0!"
   ]
  },
  {
   "cell_type": "code",
   "execution_count": 0,
   "metadata": {
    "application/vnd.databricks.v1+cell": {
     "cellMetadata": {
      "byteLimit": 2048000,
      "rowLimit": 10000
     },
     "inputWidgets": {},
     "nuid": "e62ca811-c099-4fe5-8b36-9d3462d5f3fa",
     "showTitle": false,
     "title": ""
    },
    "colab": {},
    "colab_type": "code",
    "collapsed": true,
    "id": "_2w5KTE0XvCC",
    "outputId": "df4d371c-1376-4616-e2c7-9e35ddccf80e"
   },
   "outputs": [],
   "source": [
    "\n",
    "logs_df = logs_df.na.fill({'content_size': 0})\n"
   ]
  },
  {
   "cell_type": "markdown",
   "metadata": {
    "application/vnd.databricks.v1+cell": {
     "cellMetadata": {
      "byteLimit": 2048000,
      "rowLimit": 10000
     },
     "inputWidgets": {},
     "nuid": "6be7907d-9ac2-49a8-89d3-638b8bdfd6b6",
     "showTitle": false,
     "title": ""
    },
    "colab_type": "text",
    "id": "zdjkzs6UXvCJ"
   },
   "source": [
    "Now assuming you were able to fill in the missing values successfully in the previous question, we should have no missing values \\ nulls in our dataset. Let's verify this!"
   ]
  },
  {
   "cell_type": "code",
   "execution_count": 0,
   "metadata": {
    "application/vnd.databricks.v1+cell": {
     "cellMetadata": {
      "byteLimit": 2048000,
      "rowLimit": 10000
     },
     "inputWidgets": {},
     "nuid": "9e8edbdf-ae20-4b0b-9042-0ed53151c0b0",
     "showTitle": false,
     "title": ""
    },
    "colab": {},
    "colab_type": "code",
    "id": "wDaLqVZOXvCK",
    "outputId": "a3097bef-1d37-4213-a6e8-a52b08c27947"
   },
   "outputs": [
    {
     "output_type": "stream",
     "name": "stdout",
     "output_type": "stream",
     "text": [
      "+-----+----+---------+------+--------+--------+-----------+------------+\n|value|host|timestamp|method|endpoint|protocol|status_code|content_size|\n+-----+----+---------+------+--------+--------+-----------+------------+\n|    0|   0|        0|     0|       0|       0|          0|           0|\n+-----+----+---------+------+--------+--------+-----------+------------+\n\n"
     ]
    }
   ],
   "source": [
    "exprs = [count_null(col_name) for col_name in logs_df.columns]\n",
    "logs_df.agg(*exprs).show()"
   ]
  },
  {
   "cell_type": "markdown",
   "metadata": {
    "application/vnd.databricks.v1+cell": {
     "cellMetadata": {
      "byteLimit": 2048000,
      "rowLimit": 10000
     },
     "inputWidgets": {},
     "nuid": "27d3203c-973f-4852-8829-60a0cefbf2b8",
     "showTitle": false,
     "title": ""
    },
    "colab_type": "text",
    "id": "Bjr1f1m2XvCN"
   },
   "source": [
    "Look at that, no missing values!"
   ]
  },
  {
   "cell_type": "markdown",
   "metadata": {
    "application/vnd.databricks.v1+cell": {
     "cellMetadata": {
      "byteLimit": 2048000,
      "rowLimit": 10000
     },
     "inputWidgets": {},
     "nuid": "f100dbc6-f21f-4df9-9bee-ed1bbaa29c40",
     "showTitle": false,
     "title": ""
    },
    "colab_type": "text",
    "id": "UFtYMGZhXvCN"
   },
   "source": [
    "## Handling Temporal Fields (Timestamp)\n",
    "\n",
    "Now that we have a clean, parsed DataFrame, we have to parse the timestamp field into an actual timestamp. The Common Log Format time is somewhat non-standard. A User-Defined Function (UDF) is the most straightforward way to parse it."
   ]
  },
  {
   "cell_type": "code",
   "execution_count": 0,
   "metadata": {
    "application/vnd.databricks.v1+cell": {
     "cellMetadata": {
      "byteLimit": 2048000,
      "rowLimit": 10000
     },
     "inputWidgets": {},
     "nuid": "8552ae2d-d731-4366-93b3-f12af67d7e19",
     "showTitle": false,
     "title": ""
    },
    "colab": {},
    "colab_type": "code",
    "id": "k5t5VysnXvCS",
    "outputId": "bebe2bb0-65ec-4d43-dbc9-24cda3c32de0"
   },
   "outputs": [],
   "source": [
    "from pyspark.sql.functions import udf\n",
    "\n",
    "month_map = {\n",
    "  'Jan': 1, 'Feb': 2, 'Mar':3, 'Apr':4, 'May':5, 'Jun':6, 'Jul':7,\n",
    "  'Aug':8,  'Sep': 9, 'Oct':10, 'Nov': 11, 'Dec': 12\n",
    "}\n",
    "\n",
    "def parse_clf_time(text):\n",
    "    \"\"\" Convert Common Log time format into a Python datetime object\n",
    "    Args:\n",
    "        text (str): date and time in Apache time format [dd/mmm/yyyy:hh:mm:ss (+/-)zzzz]\n",
    "    Returns:\n",
    "        a string suitable for passing to CAST('timestamp')\n",
    "    \"\"\"\n",
    "    # NOTE: We're ignoring time zone here. In a production application, you'd want to handle that.\n",
    "    return \"{0:04d}-{1:02d}-{2:02d} {3:02d}:{4:02d}:{5:02d}\".format(\n",
    "      int(text[7:11]),\n",
    "      month_map[text[3:6]],\n",
    "      int(text[0:2]),\n",
    "      int(text[12:14]),\n",
    "      int(text[15:17]),\n",
    "      int(text[18:20])\n",
    "    )"
   ]
  },
  {
   "cell_type": "code",
   "execution_count": 0,
   "metadata": {
    "application/vnd.databricks.v1+cell": {
     "cellMetadata": {
      "byteLimit": 2048000,
      "rowLimit": 10000
     },
     "inputWidgets": {},
     "nuid": "1603d9a2-f868-4b22-8847-a89442f7d6bd",
     "showTitle": false,
     "title": ""
    },
    "colab": {},
    "colab_type": "code",
    "id": "RLJHPXHwXvCW",
    "outputId": "2e58d673-3c1b-45fa-f283-886c698cfc6d"
   },
   "outputs": [
    {
     "output_type": "stream",
     "name": "stdout",
     "output_type": "stream",
     "text": [
      "Out[35]: ['01/Aug/1995:00:00:01 -0400',\n '01/Aug/1995:00:00:07 -0400',\n '01/Aug/1995:00:00:08 -0400',\n '01/Aug/1995:00:00:08 -0400',\n '01/Aug/1995:00:00:08 -0400']"
     ]
    }
   ],
   "source": [
    "sample_ts = [item['timestamp'] for item in logs_df.select('timestamp').take(5)]\n",
    "sample_ts"
   ]
  },
  {
   "cell_type": "code",
   "execution_count": 0,
   "metadata": {
    "application/vnd.databricks.v1+cell": {
     "cellMetadata": {
      "byteLimit": 2048000,
      "rowLimit": 10000
     },
     "inputWidgets": {},
     "nuid": "2d652b15-808b-46a8-a07d-dbff9982b605",
     "showTitle": false,
     "title": ""
    },
    "colab": {},
    "colab_type": "code",
    "id": "0K5Yd1Z2XvCY",
    "outputId": "6108f5bb-bbd8-4c11-f9e4-efc491c543e0"
   },
   "outputs": [
    {
     "output_type": "stream",
     "name": "stdout",
     "output_type": "stream",
     "text": [
      "Out[36]: ['1995-08-01 00:00:01',\n '1995-08-01 00:00:07',\n '1995-08-01 00:00:08',\n '1995-08-01 00:00:08',\n '1995-08-01 00:00:08']"
     ]
    }
   ],
   "source": [
    "[parse_clf_time(item) for item in sample_ts]"
   ]
  },
  {
   "cell_type": "code",
   "execution_count": 0,
   "metadata": {
    "application/vnd.databricks.v1+cell": {
     "cellMetadata": {
      "byteLimit": 2048000,
      "rowLimit": 10000
     },
     "inputWidgets": {},
     "nuid": "caed8d45-8da7-4a15-82e9-89e176325b89",
     "showTitle": false,
     "title": ""
    },
    "colab": {},
    "colab_type": "code",
    "id": "WBbQ_QNsXvCb",
    "outputId": "b1e05731-4bff-410d-8c6f-d1637fd0f0a7"
   },
   "outputs": [
    {
     "output_type": "stream",
     "name": "stdout",
     "output_type": "stream",
     "text": [
      "+--------------------+--------------------+------+--------------------+--------+-----------+------------+-------------------+\n|               value|                host|method|            endpoint|protocol|status_code|content_size|               time|\n+--------------------+--------------------+------+--------------------+--------+-----------+------------+-------------------+\n|in24.inetnebr.com...|   in24.inetnebr.com|   GET|/shuttle/missions...|HTTP/1.0|        200|        1839|1995-08-01 00:00:01|\n|uplherc.upl.com -...|     uplherc.upl.com|   GET|                   /|HTTP/1.0|        304|           0|1995-08-01 00:00:07|\n|uplherc.upl.com -...|     uplherc.upl.com|   GET|/images/ksclogo-m...|HTTP/1.0|        304|           0|1995-08-01 00:00:08|\n|uplherc.upl.com -...|     uplherc.upl.com|   GET|/images/MOSAIC-lo...|HTTP/1.0|        304|           0|1995-08-01 00:00:08|\n|uplherc.upl.com -...|     uplherc.upl.com|   GET|/images/USA-logos...|HTTP/1.0|        304|           0|1995-08-01 00:00:08|\n|ix-esc-ca2-07.ix....|ix-esc-ca2-07.ix....|   GET|/images/launch-lo...|HTTP/1.0|        200|        1713|1995-08-01 00:00:09|\n|uplherc.upl.com -...|     uplherc.upl.com|   GET|/images/WORLD-log...|HTTP/1.0|        304|           0|1995-08-01 00:00:10|\n|slppp6.intermind....|slppp6.intermind.net|   GET|/history/skylab/s...|HTTP/1.0|        200|        1687|1995-08-01 00:00:10|\n|piweba4y.prodigy....|piweba4y.prodigy.com|   GET|/images/launchmed...|HTTP/1.0|        200|       11853|1995-08-01 00:00:10|\n|slppp6.intermind....|slppp6.intermind.net|   GET|/history/skylab/s...|HTTP/1.0|        200|        9202|1995-08-01 00:00:11|\n+--------------------+--------------------+------+--------------------+--------+-----------+------------+-------------------+\nonly showing top 10 rows\n\n"
     ]
    }
   ],
   "source": [
    "udf_parse_time = udf(parse_clf_time)\n",
    "\n",
    "logs_df = logs_df.select('*', udf_parse_time(logs_df['timestamp']).cast('timestamp').alias('time')).drop('timestamp')\n",
    "logs_df.show(10, truncate=True)"
   ]
  },
  {
   "cell_type": "code",
   "execution_count": 0,
   "metadata": {
    "application/vnd.databricks.v1+cell": {
     "cellMetadata": {
      "byteLimit": 2048000,
      "rowLimit": 10000
     },
     "inputWidgets": {},
     "nuid": "3b33e17d-3888-4786-886a-f161d63b1e7f",
     "showTitle": false,
     "title": ""
    },
    "colab": {},
    "colab_type": "code",
    "id": "9Yy-eIDtXvCi",
    "outputId": "913a1185-f22d-4ac9-856b-d31db17eca28"
   },
   "outputs": [
    {
     "output_type": "stream",
     "name": "stdout",
     "output_type": "stream",
     "text": [
      "root\n |-- value: string (nullable = true)\n |-- host: string (nullable = true)\n |-- method: string (nullable = true)\n |-- endpoint: string (nullable = true)\n |-- protocol: string (nullable = true)\n |-- status_code: integer (nullable = true)\n |-- content_size: integer (nullable = false)\n |-- time: timestamp (nullable = true)\n\n"
     ]
    }
   ],
   "source": [
    "logs_df.printSchema()"
   ]
  },
  {
   "cell_type": "code",
   "execution_count": 0,
   "metadata": {
    "application/vnd.databricks.v1+cell": {
     "cellMetadata": {
      "byteLimit": 2048000,
      "rowLimit": 10000
     },
     "inputWidgets": {},
     "nuid": "7404a9b7-38d3-43b4-9130-f906e02e85e0",
     "showTitle": false,
     "title": ""
    },
    "colab": {},
    "colab_type": "code",
    "id": "wfMB_2JvXvCk",
    "outputId": "dfb9673b-af0c-4232-d28f-674fa1662ac0"
   },
   "outputs": [
    {
     "output_type": "display_data",
     "data": {
      "text/html": [
       "<div>\n",
       "<style scoped>\n",
       "    .dataframe tbody tr th:only-of-type {\n",
       "        vertical-align: middle;\n",
       "    }\n",
       "\n",
       "    .dataframe tbody tr th {\n",
       "        vertical-align: top;\n",
       "    }\n",
       "\n",
       "    .dataframe thead th {\n",
       "        text-align: right;\n",
       "    }\n",
       "</style>\n",
       "<table border=\"1\" class=\"dataframe\">\n",
       "  <thead>\n",
       "    <tr style=\"text-align: right;\">\n",
       "      <th></th>\n",
       "      <th>value</th>\n",
       "      <th>host</th>\n",
       "      <th>method</th>\n",
       "      <th>endpoint</th>\n",
       "      <th>protocol</th>\n",
       "      <th>status_code</th>\n",
       "      <th>content_size</th>\n",
       "      <th>time</th>\n",
       "    </tr>\n",
       "  </thead>\n",
       "  <tbody>\n",
       "    <tr>\n",
       "      <th>0</th>\n",
       "      <td>in24.inetnebr.com - - [01/Aug/1995:00:00:01 -0...</td>\n",
       "      <td>in24.inetnebr.com</td>\n",
       "      <td>GET</td>\n",
       "      <td>/shuttle/missions/sts-68/news/sts-68-mcc-05.txt</td>\n",
       "      <td>HTTP/1.0</td>\n",
       "      <td>200</td>\n",
       "      <td>1839</td>\n",
       "      <td>1995-08-01 00:00:01</td>\n",
       "    </tr>\n",
       "    <tr>\n",
       "      <th>1</th>\n",
       "      <td>uplherc.upl.com - - [01/Aug/1995:00:00:07 -040...</td>\n",
       "      <td>uplherc.upl.com</td>\n",
       "      <td>GET</td>\n",
       "      <td>/</td>\n",
       "      <td>HTTP/1.0</td>\n",
       "      <td>304</td>\n",
       "      <td>0</td>\n",
       "      <td>1995-08-01 00:00:07</td>\n",
       "    </tr>\n",
       "    <tr>\n",
       "      <th>2</th>\n",
       "      <td>uplherc.upl.com - - [01/Aug/1995:00:00:08 -040...</td>\n",
       "      <td>uplherc.upl.com</td>\n",
       "      <td>GET</td>\n",
       "      <td>/images/ksclogo-medium.gif</td>\n",
       "      <td>HTTP/1.0</td>\n",
       "      <td>304</td>\n",
       "      <td>0</td>\n",
       "      <td>1995-08-01 00:00:08</td>\n",
       "    </tr>\n",
       "    <tr>\n",
       "      <th>3</th>\n",
       "      <td>uplherc.upl.com - - [01/Aug/1995:00:00:08 -040...</td>\n",
       "      <td>uplherc.upl.com</td>\n",
       "      <td>GET</td>\n",
       "      <td>/images/MOSAIC-logosmall.gif</td>\n",
       "      <td>HTTP/1.0</td>\n",
       "      <td>304</td>\n",
       "      <td>0</td>\n",
       "      <td>1995-08-01 00:00:08</td>\n",
       "    </tr>\n",
       "    <tr>\n",
       "      <th>4</th>\n",
       "      <td>uplherc.upl.com - - [01/Aug/1995:00:00:08 -040...</td>\n",
       "      <td>uplherc.upl.com</td>\n",
       "      <td>GET</td>\n",
       "      <td>/images/USA-logosmall.gif</td>\n",
       "      <td>HTTP/1.0</td>\n",
       "      <td>304</td>\n",
       "      <td>0</td>\n",
       "      <td>1995-08-01 00:00:08</td>\n",
       "    </tr>\n",
       "  </tbody>\n",
       "</table>\n",
       "</div>"
      ]
     },
     "metadata": {
      "application/vnd.databricks.v1+output": {
       "addedWidgets": {},
       "arguments": {},
       "data": "<div>\n<style scoped>\n    .dataframe tbody tr th:only-of-type {\n        vertical-align: middle;\n    }\n\n    .dataframe tbody tr th {\n        vertical-align: top;\n    }\n\n    .dataframe thead th {\n        text-align: right;\n    }\n</style>\n<table border=\"1\" class=\"dataframe\">\n  <thead>\n    <tr style=\"text-align: right;\">\n      <th></th>\n      <th>value</th>\n      <th>host</th>\n      <th>method</th>\n      <th>endpoint</th>\n      <th>protocol</th>\n      <th>status_code</th>\n      <th>content_size</th>\n      <th>time</th>\n    </tr>\n  </thead>\n  <tbody>\n    <tr>\n      <th>0</th>\n      <td>in24.inetnebr.com - - [01/Aug/1995:00:00:01 -0...</td>\n      <td>in24.inetnebr.com</td>\n      <td>GET</td>\n      <td>/shuttle/missions/sts-68/news/sts-68-mcc-05.txt</td>\n      <td>HTTP/1.0</td>\n      <td>200</td>\n      <td>1839</td>\n      <td>1995-08-01 00:00:01</td>\n    </tr>\n    <tr>\n      <th>1</th>\n      <td>uplherc.upl.com - - [01/Aug/1995:00:00:07 -040...</td>\n      <td>uplherc.upl.com</td>\n      <td>GET</td>\n      <td>/</td>\n      <td>HTTP/1.0</td>\n      <td>304</td>\n      <td>0</td>\n      <td>1995-08-01 00:00:07</td>\n    </tr>\n    <tr>\n      <th>2</th>\n      <td>uplherc.upl.com - - [01/Aug/1995:00:00:08 -040...</td>\n      <td>uplherc.upl.com</td>\n      <td>GET</td>\n      <td>/images/ksclogo-medium.gif</td>\n      <td>HTTP/1.0</td>\n      <td>304</td>\n      <td>0</td>\n      <td>1995-08-01 00:00:08</td>\n    </tr>\n    <tr>\n      <th>3</th>\n      <td>uplherc.upl.com - - [01/Aug/1995:00:00:08 -040...</td>\n      <td>uplherc.upl.com</td>\n      <td>GET</td>\n      <td>/images/MOSAIC-logosmall.gif</td>\n      <td>HTTP/1.0</td>\n      <td>304</td>\n      <td>0</td>\n      <td>1995-08-01 00:00:08</td>\n    </tr>\n    <tr>\n      <th>4</th>\n      <td>uplherc.upl.com - - [01/Aug/1995:00:00:08 -040...</td>\n      <td>uplherc.upl.com</td>\n      <td>GET</td>\n      <td>/images/USA-logosmall.gif</td>\n      <td>HTTP/1.0</td>\n      <td>304</td>\n      <td>0</td>\n      <td>1995-08-01 00:00:08</td>\n    </tr>\n  </tbody>\n</table>\n</div>",
       "datasetInfos": [],
       "metadata": {},
       "removedWidgets": [],
       "textData": null,
       "type": "htmlSandbox"
      }
     },
     "output_type": "display_data"
    }
   ],
   "source": [
    "logs_df.limit(5).toPandas()"
   ]
  },
  {
   "cell_type": "markdown",
   "metadata": {
    "application/vnd.databricks.v1+cell": {
     "cellMetadata": {
      "byteLimit": 2048000,
      "rowLimit": 10000
     },
     "inputWidgets": {},
     "nuid": "47480450-a7dc-4e08-975f-a93479705848",
     "showTitle": false,
     "title": ""
    },
    "colab_type": "text",
    "id": "cn3ghlDsXvCp"
   },
   "source": [
    "Let's now cache `logs_df` since we will be using it extensively for our data analysis section in the next part!"
   ]
  },
  {
   "cell_type": "markdown",
   "metadata": {
    "application/vnd.databricks.v1+cell": {
     "cellMetadata": {
      "byteLimit": 2048000,
      "rowLimit": 10000
     },
     "inputWidgets": {},
     "nuid": "e65286a8-48cd-4b08-81a4-e57426cf6dc1",
     "showTitle": false,
     "title": ""
    },
    "colab_type": "text",
    "id": "1WTHkvANXvCq"
   },
   "source": [
    "# Step 2 - Exploratory Data Analysis on our Web Logs\n",
    "\n",
    "Now that we have a DataFrame containing the parsed log file as a data frame, we can perform some interesting exploratory data analysis (EDA)\n",
    "\n",
    "## Example: Content Size Statistics\n",
    "\n",
    "Let's compute some statistics about the sizes of content being returned by the web server. In particular, we'd like to know what are the average, minimum, and maximum content sizes.\n",
    "\n",
    "We can compute the statistics by calling `.describe()` on the `content_size` column of `logs_df`.  The `.describe()` function returns the count, mean, stddev, min, and max of a given column."
   ]
  },
  {
   "cell_type": "code",
   "execution_count": 0,
   "metadata": {
    "application/vnd.databricks.v1+cell": {
     "cellMetadata": {
      "byteLimit": 2048000,
      "rowLimit": 10000
     },
     "inputWidgets": {},
     "nuid": "a7f2848e-f002-480a-b100-8dc2b9d28d27",
     "showTitle": false,
     "title": ""
    },
    "colab": {},
    "colab_type": "code",
    "id": "FHkVy3ZXXvCr",
    "outputId": "cd083d90-c450-4d64-9d56-c8e1f5dd1eed"
   },
   "outputs": [
    {
     "output_type": "display_data",
     "data": {
      "text/html": [
       "<div>\n",
       "<style scoped>\n",
       "    .dataframe tbody tr th:only-of-type {\n",
       "        vertical-align: middle;\n",
       "    }\n",
       "\n",
       "    .dataframe tbody tr th {\n",
       "        vertical-align: top;\n",
       "    }\n",
       "\n",
       "    .dataframe thead th {\n",
       "        text-align: right;\n",
       "    }\n",
       "</style>\n",
       "<table border=\"1\" class=\"dataframe\">\n",
       "  <thead>\n",
       "    <tr style=\"text-align: right;\">\n",
       "      <th></th>\n",
       "      <th>summary</th>\n",
       "      <th>content_size</th>\n",
       "    </tr>\n",
       "  </thead>\n",
       "  <tbody>\n",
       "    <tr>\n",
       "      <th>0</th>\n",
       "      <td>count</td>\n",
       "      <td>3461612</td>\n",
       "    </tr>\n",
       "    <tr>\n",
       "      <th>1</th>\n",
       "      <td>mean</td>\n",
       "      <td>18928.844398216785</td>\n",
       "    </tr>\n",
       "    <tr>\n",
       "      <th>2</th>\n",
       "      <td>stddev</td>\n",
       "      <td>73031.47260949282</td>\n",
       "    </tr>\n",
       "    <tr>\n",
       "      <th>3</th>\n",
       "      <td>min</td>\n",
       "      <td>0</td>\n",
       "    </tr>\n",
       "    <tr>\n",
       "      <th>4</th>\n",
       "      <td>max</td>\n",
       "      <td>6823936</td>\n",
       "    </tr>\n",
       "  </tbody>\n",
       "</table>\n",
       "</div>"
      ]
     },
     "metadata": {
      "application/vnd.databricks.v1+output": {
       "addedWidgets": {},
       "arguments": {},
       "data": "<div>\n<style scoped>\n    .dataframe tbody tr th:only-of-type {\n        vertical-align: middle;\n    }\n\n    .dataframe tbody tr th {\n        vertical-align: top;\n    }\n\n    .dataframe thead th {\n        text-align: right;\n    }\n</style>\n<table border=\"1\" class=\"dataframe\">\n  <thead>\n    <tr style=\"text-align: right;\">\n      <th></th>\n      <th>summary</th>\n      <th>content_size</th>\n    </tr>\n  </thead>\n  <tbody>\n    <tr>\n      <th>0</th>\n      <td>count</td>\n      <td>3461612</td>\n    </tr>\n    <tr>\n      <th>1</th>\n      <td>mean</td>\n      <td>18928.844398216785</td>\n    </tr>\n    <tr>\n      <th>2</th>\n      <td>stddev</td>\n      <td>73031.47260949282</td>\n    </tr>\n    <tr>\n      <th>3</th>\n      <td>min</td>\n      <td>0</td>\n    </tr>\n    <tr>\n      <th>4</th>\n      <td>max</td>\n      <td>6823936</td>\n    </tr>\n  </tbody>\n</table>\n</div>",
       "datasetInfos": [],
       "metadata": {},
       "removedWidgets": [],
       "textData": null,
       "type": "htmlSandbox"
      }
     },
     "output_type": "display_data"
    }
   ],
   "source": [
    "content_size_summary_df = logs_df.describe(['content_size'])\n",
    "content_size_summary_df.toPandas()"
   ]
  },
  {
   "cell_type": "markdown",
   "metadata": {
    "application/vnd.databricks.v1+cell": {
     "cellMetadata": {
      "byteLimit": 2048000,
      "rowLimit": 10000
     },
     "inputWidgets": {},
     "nuid": "9e697a77-f24b-4f04-8381-0e3f4cf7f4c2",
     "showTitle": false,
     "title": ""
    },
    "colab_type": "text",
    "id": "fY1S9FPAXvCv"
   },
   "source": [
    "Alternatively, we can use SQL to directly calculate these statistics.  You can explore many useful functions within the `pyspark.sql.functions` module in the [documentation](https://spark.apache.org/docs/latest/api/python/pyspark.sql.html#module-pyspark.sql.functions).\n",
    "\n",
    "After we apply the `.agg()` function, we call `toPandas()` to extract and convert the result into a `pandas` dataframe which has better formatting on Jupyter notebooks"
   ]
  },
  {
   "cell_type": "code",
   "execution_count": 0,
   "metadata": {
    "application/vnd.databricks.v1+cell": {
     "cellMetadata": {
      "byteLimit": 2048000,
      "rowLimit": 10000
     },
     "inputWidgets": {},
     "nuid": "00bf8179-ca5a-4841-9115-6b309443c08d",
     "showTitle": false,
     "title": ""
    },
    "colab": {},
    "colab_type": "code",
    "id": "nonAax8AXvCx",
    "outputId": "1a9a01ac-35f3-44ab-f105-5759f8f79b9a"
   },
   "outputs": [
    {
     "output_type": "display_data",
     "data": {
      "text/html": [
       "<div>\n",
       "<style scoped>\n",
       "    .dataframe tbody tr th:only-of-type {\n",
       "        vertical-align: middle;\n",
       "    }\n",
       "\n",
       "    .dataframe tbody tr th {\n",
       "        vertical-align: top;\n",
       "    }\n",
       "\n",
       "    .dataframe thead th {\n",
       "        text-align: right;\n",
       "    }\n",
       "</style>\n",
       "<table border=\"1\" class=\"dataframe\">\n",
       "  <thead>\n",
       "    <tr style=\"text-align: right;\">\n",
       "      <th></th>\n",
       "      <th>min_content_size</th>\n",
       "      <th>max_content_size</th>\n",
       "      <th>mean_content_size</th>\n",
       "      <th>std_content_size</th>\n",
       "      <th>count_content_size</th>\n",
       "    </tr>\n",
       "  </thead>\n",
       "  <tbody>\n",
       "    <tr>\n",
       "      <th>0</th>\n",
       "      <td>0</td>\n",
       "      <td>6823936</td>\n",
       "      <td>18928.844398</td>\n",
       "      <td>73031.472609</td>\n",
       "      <td>3461612</td>\n",
       "    </tr>\n",
       "  </tbody>\n",
       "</table>\n",
       "</div>"
      ]
     },
     "metadata": {
      "application/vnd.databricks.v1+output": {
       "addedWidgets": {},
       "arguments": {},
       "data": "<div>\n<style scoped>\n    .dataframe tbody tr th:only-of-type {\n        vertical-align: middle;\n    }\n\n    .dataframe tbody tr th {\n        vertical-align: top;\n    }\n\n    .dataframe thead th {\n        text-align: right;\n    }\n</style>\n<table border=\"1\" class=\"dataframe\">\n  <thead>\n    <tr style=\"text-align: right;\">\n      <th></th>\n      <th>min_content_size</th>\n      <th>max_content_size</th>\n      <th>mean_content_size</th>\n      <th>std_content_size</th>\n      <th>count_content_size</th>\n    </tr>\n  </thead>\n  <tbody>\n    <tr>\n      <th>0</th>\n      <td>0</td>\n      <td>6823936</td>\n      <td>18928.844398</td>\n      <td>73031.472609</td>\n      <td>3461612</td>\n    </tr>\n  </tbody>\n</table>\n</div>",
       "datasetInfos": [],
       "metadata": {},
       "removedWidgets": [],
       "textData": null,
       "type": "htmlSandbox"
      }
     },
     "output_type": "display_data"
    }
   ],
   "source": [
    "from pyspark.sql import functions as F\n",
    "\n",
    "(logs_df.agg(F.min(logs_df['content_size']).alias('min_content_size'),\n",
    "             F.max(logs_df['content_size']).alias('max_content_size'),\n",
    "             F.mean(logs_df['content_size']).alias('mean_content_size'),\n",
    "             F.stddev(logs_df['content_size']).alias('std_content_size'),\n",
    "             F.count(logs_df['content_size']).alias('count_content_size'))\n",
    "        .toPandas())"
   ]
  },
  {
   "cell_type": "markdown",
   "metadata": {
    "application/vnd.databricks.v1+cell": {
     "cellMetadata": {
      "byteLimit": 2048000,
      "rowLimit": 10000
     },
     "inputWidgets": {},
     "nuid": "162f24a9-9ba5-49c8-8af8-19141a861097",
     "showTitle": false,
     "title": ""
    },
    "colab_type": "text",
    "id": "8hat3HPwXvC0"
   },
   "source": [
    "## Example: HTTP Status Code Analysis\n",
    "\n",
    "Next, let's look at the status code values that appear in the log. We want to know which status code values appear in the data and how many times.  \n",
    "\n",
    "We again start with `logs_df`, then group by the `status` column, apply the `.count()` aggregation function, and sort by the `status` column."
   ]
  },
  {
   "cell_type": "code",
   "execution_count": 0,
   "metadata": {
    "application/vnd.databricks.v1+cell": {
     "cellMetadata": {
      "byteLimit": 2048000,
      "rowLimit": 10000
     },
     "inputWidgets": {},
     "nuid": "0ca211c9-4bd1-4e3b-9bcb-ae780617aeba",
     "showTitle": false,
     "title": ""
    },
    "colab": {},
    "colab_type": "code",
    "collapsed": true,
    "id": "jL-vEt0FXvC1",
    "outputId": "8ee8079f-8b03-4e70-8335-cbd7b2d0b1bc"
   },
   "outputs": [],
   "source": [
    "status_freq_df = (logs_df\n",
    "                     .groupBy('status_code')\n",
    "                     .count()\n",
    "                     .sort('status_code')\n",
    "                     .cache())"
   ]
  },
  {
   "cell_type": "code",
   "execution_count": 0,
   "metadata": {
    "application/vnd.databricks.v1+cell": {
     "cellMetadata": {
      "byteLimit": 2048000,
      "rowLimit": 10000
     },
     "inputWidgets": {},
     "nuid": "b5f8849d-6505-42f4-b7a7-ec6e5ddfb744",
     "showTitle": false,
     "title": ""
    },
    "colab": {},
    "colab_type": "code",
    "id": "a0iPsCW2XvC3",
    "outputId": "64fbd3f8-cf08-4ca3-de33-32349d3d6597"
   },
   "outputs": [
    {
     "output_type": "stream",
     "name": "stdout",
     "output_type": "stream",
     "text": [
      "Total distinct HTTP Status Codes: 8\n"
     ]
    }
   ],
   "source": [
    "print('Total distinct HTTP Status Codes:', status_freq_df.count())"
   ]
  },
  {
   "cell_type": "code",
   "execution_count": 0,
   "metadata": {
    "application/vnd.databricks.v1+cell": {
     "cellMetadata": {
      "byteLimit": 2048000,
      "rowLimit": 10000
     },
     "inputWidgets": {},
     "nuid": "2e502109-a7a4-43bb-8e4a-530796fd9417",
     "showTitle": false,
     "title": ""
    },
    "colab": {},
    "colab_type": "code",
    "id": "SZO7ncjdXvC6",
    "outputId": "0344aef8-367b-476b-fc2c-e6c1346d3da9"
   },
   "outputs": [
    {
     "output_type": "display_data",
     "data": {
      "text/html": [
       "<div>\n",
       "<style scoped>\n",
       "    .dataframe tbody tr th:only-of-type {\n",
       "        vertical-align: middle;\n",
       "    }\n",
       "\n",
       "    .dataframe tbody tr th {\n",
       "        vertical-align: top;\n",
       "    }\n",
       "\n",
       "    .dataframe thead th {\n",
       "        text-align: right;\n",
       "    }\n",
       "</style>\n",
       "<table border=\"1\" class=\"dataframe\">\n",
       "  <thead>\n",
       "    <tr style=\"text-align: right;\">\n",
       "      <th></th>\n",
       "      <th>status_code</th>\n",
       "      <th>count</th>\n",
       "    </tr>\n",
       "  </thead>\n",
       "  <tbody>\n",
       "    <tr>\n",
       "      <th>0</th>\n",
       "      <td>200</td>\n",
       "      <td>3100524</td>\n",
       "    </tr>\n",
       "    <tr>\n",
       "      <th>1</th>\n",
       "      <td>302</td>\n",
       "      <td>73070</td>\n",
       "    </tr>\n",
       "    <tr>\n",
       "      <th>2</th>\n",
       "      <td>304</td>\n",
       "      <td>266773</td>\n",
       "    </tr>\n",
       "    <tr>\n",
       "      <th>3</th>\n",
       "      <td>400</td>\n",
       "      <td>15</td>\n",
       "    </tr>\n",
       "    <tr>\n",
       "      <th>4</th>\n",
       "      <td>403</td>\n",
       "      <td>225</td>\n",
       "    </tr>\n",
       "    <tr>\n",
       "      <th>5</th>\n",
       "      <td>404</td>\n",
       "      <td>20899</td>\n",
       "    </tr>\n",
       "    <tr>\n",
       "      <th>6</th>\n",
       "      <td>500</td>\n",
       "      <td>65</td>\n",
       "    </tr>\n",
       "    <tr>\n",
       "      <th>7</th>\n",
       "      <td>501</td>\n",
       "      <td>41</td>\n",
       "    </tr>\n",
       "  </tbody>\n",
       "</table>\n",
       "</div>"
      ]
     },
     "metadata": {
      "application/vnd.databricks.v1+output": {
       "addedWidgets": {},
       "arguments": {},
       "data": "<div>\n<style scoped>\n    .dataframe tbody tr th:only-of-type {\n        vertical-align: middle;\n    }\n\n    .dataframe tbody tr th {\n        vertical-align: top;\n    }\n\n    .dataframe thead th {\n        text-align: right;\n    }\n</style>\n<table border=\"1\" class=\"dataframe\">\n  <thead>\n    <tr style=\"text-align: right;\">\n      <th></th>\n      <th>status_code</th>\n      <th>count</th>\n    </tr>\n  </thead>\n  <tbody>\n    <tr>\n      <th>0</th>\n      <td>200</td>\n      <td>3100524</td>\n    </tr>\n    <tr>\n      <th>1</th>\n      <td>302</td>\n      <td>73070</td>\n    </tr>\n    <tr>\n      <th>2</th>\n      <td>304</td>\n      <td>266773</td>\n    </tr>\n    <tr>\n      <th>3</th>\n      <td>400</td>\n      <td>15</td>\n    </tr>\n    <tr>\n      <th>4</th>\n      <td>403</td>\n      <td>225</td>\n    </tr>\n    <tr>\n      <th>5</th>\n      <td>404</td>\n      <td>20899</td>\n    </tr>\n    <tr>\n      <th>6</th>\n      <td>500</td>\n      <td>65</td>\n    </tr>\n    <tr>\n      <th>7</th>\n      <td>501</td>\n      <td>41</td>\n    </tr>\n  </tbody>\n</table>\n</div>",
       "datasetInfos": [],
       "metadata": {},
       "removedWidgets": [],
       "textData": null,
       "type": "htmlSandbox"
      }
     },
     "output_type": "display_data"
    }
   ],
   "source": [
    "status_freq_pd_df = status_freq_df.toPandas()\n",
    "status_freq_pd_df"
   ]
  },
  {
   "cell_type": "code",
   "execution_count": 0,
   "metadata": {
    "application/vnd.databricks.v1+cell": {
     "cellMetadata": {
      "byteLimit": 2048000,
      "rowLimit": 10000
     },
     "inputWidgets": {},
     "nuid": "48bcb3ce-bcfa-4a73-8b6f-54bf7ea5773b",
     "showTitle": false,
     "title": ""
    },
    "colab": {},
    "colab_type": "code",
    "id": "KXkKQA-WXvC8"
   },
   "outputs": [
    {
     "output_type": "stream",
     "name": "stdout",
     "output_type": "stream",
     "text": [
      "Out[45]: <AxesSubplot:xlabel='status_code'>"
     ]
    },
    {
     "output_type": "display_data",
     "data": {
      "image/png": "[encoded data removed]"
     },
     "metadata": {
      "application/vnd.databricks.v1+output": {
       "addedWidgets": {},
       "arguments": {},
       "data": "data:image/png;base64,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\n",
       "datasetInfos": [],
       "metadata": {},
       "removedWidgets": [],
       "type": "image"
      }
     },
     "output_type": "display_data"
    }
   ],
   "source": [
    "import matplotlib.pyplot as plt\n",
    "%matplotlib inline\n",
    "\n",
    "status_freq_pd_df.plot(x='status_code', y='count', kind='bar')"
   ]
  },
  {
   "cell_type": "code",
   "execution_count": 0,
   "metadata": {
    "application/vnd.databricks.v1+cell": {
     "cellMetadata": {
      "byteLimit": 2048000,
      "rowLimit": 10000
     },
     "inputWidgets": {},
     "nuid": "1e0600f5-24b0-4de9-952d-bac3b371bcbc",
     "showTitle": false,
     "title": ""
    },
    "colab": {},
    "colab_type": "code",
    "id": "iabid8S6XvC_",
    "outputId": "31df7ac0-35f9-4f9e-f059-c4267865c9b6"
   },
   "outputs": [
    {
     "output_type": "stream",
     "name": "stdout",
     "output_type": "stream",
     "text": [
      "+-----------+-------+------------------+\n|status_code|  count|        log(count)|\n+-----------+-------+------------------+\n|        200|3100524|14.947081687429097|\n|        302|  73070|11.199173164785263|\n|        304| 266773|12.494153388502301|\n|        400|     15|  2.70805020110221|\n|        403|    225|  5.41610040220442|\n|        404|  20899| 9.947456589918252|\n|        500|     65| 4.174387269895637|\n|        501|     41| 3.713572066704308|\n+-----------+-------+------------------+\n\n"
     ]
    }
   ],
   "source": [
    "log_freq_df = status_freq_df.withColumn('log(count)', F.log(status_freq_df['count']))\n",
    "log_freq_df.show()"
   ]
  },
  {
   "cell_type": "markdown",
   "metadata": {
    "application/vnd.databricks.v1+cell": {
     "cellMetadata": {
      "byteLimit": 2048000,
      "rowLimit": 10000
     },
     "inputWidgets": {},
     "nuid": "6c8e3c25-331b-4d10-9ac9-7d0c3ac1cbd2",
     "showTitle": false,
     "title": ""
    },
    "colab_type": "text",
    "id": "CWcfTjlUXvDC"
   },
   "source": [
    "#### Q5: Your Turn: Convert the log\\_freq\\_df to a pandas DataFrame and plot a bar chart displaying counts of each HTTP Status Code"
   ]
  },
  {
   "cell_type": "code",
   "execution_count": 0,
   "metadata": {
    "application/vnd.databricks.v1+cell": {
     "cellMetadata": {
      "byteLimit": 2048000,
      "rowLimit": 10000
     },
     "inputWidgets": {},
     "nuid": "95a0c3ef-a052-49e3-8fbf-cebd8e09b634",
     "showTitle": false,
     "title": ""
    },
    "colab": {},
    "colab_type": "code",
    "id": "RWWwF5NcXvDD"
   },
   "outputs": [
    {
     "output_type": "display_data",
     "data": {
      "image/png": "[encoded data removed]"
     },
     "metadata": {
      "application/vnd.databricks.v1+output": {
       "addedWidgets": {},
       "arguments": {},
       "data": "data:image/png;base64,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\n",
       "datasetInfos": [],
       "metadata": {},
       "removedWidgets": [],
       "type": "image"
      }
     },
     "output_type": "display_data"
    }
   ],
   "source": [
    "\n",
    "log_freq_pd_df = log_freq_df.toPandas()\n",
    "\n",
    "log_freq_pd_df.plot(kind='bar', x='status_code', y='count')\n",
    "plt.xlabel('HTTP Status Code')\n",
    "plt.ylabel('Count')\n",
    "plt.title('HTTP Status Code Counts')\n",
    "plt.show()"
   ]
  },
  {
   "cell_type": "markdown",
   "metadata": {
    "application/vnd.databricks.v1+cell": {
     "cellMetadata": {
      "byteLimit": 2048000,
      "rowLimit": 10000
     },
     "inputWidgets": {},
     "nuid": "234ad412-57ae-49e6-8789-1ad62e799088",
     "showTitle": false,
     "title": ""
    },
    "colab_type": "text",
    "id": "k5oXMLxSXvDH"
   },
   "source": [
    "## Your Turn: Q6: Analyzing Frequent Hosts\n",
    "\n",
    "Let's look at hosts that have accessed the server frequently. Try to get the count of total accesses by each `host` and then sort by the counts and display only the top ten most frequent hosts.\n",
    "\n",
    "__Hints:__\n",
    "\n",
    "- Your Spark DataFrame has a `host` column\n",
    "- Get the counts per `host` which would make a `count` column\n",
    "- Sort by the counts. Please check [__the documentation__](https://spark.apache.org/docs/latest/api/python/pyspark.sql.html#pyspark.sql.DataFrame.sort) to see how to sort in reverse\n",
    "- Remember only to get the top 10 rows from the aggregated dataframe and show them"
   ]
  },
  {
   "cell_type": "code",
   "execution_count": 0,
   "metadata": {
    "application/vnd.databricks.v1+cell": {
     "cellMetadata": {
      "byteLimit": 2048000,
      "rowLimit": 10000
     },
     "inputWidgets": {},
     "nuid": "2cd2a4b7-fd74-4ae3-9441-2189ceb04583",
     "showTitle": false,
     "title": ""
    },
    "colab": {},
    "colab_type": "code",
    "id": "eBBayokUXvDM",
    "outputId": "83a26ad7-21c2-4b15-b527-5de9ac5b8c5c"
   },
   "outputs": [
    {
     "output_type": "stream",
     "name": "stdout",
     "output_type": "stream",
     "text": [
      "+--------------------+-----+\n|host                |count|\n+--------------------+-----+\n|piweba3y.prodigy.com|21988|\n|piweba4y.prodigy.com|16437|\n|piweba1y.prodigy.com|12825|\n|edams.ksc.nasa.gov  |11964|\n|163.206.89.4        |9697 |\n|news.ti.com         |8161 |\n|www-d1.proxy.aol.com|8047 |\n|alyssa.prodigy.com  |8037 |\n|                    |7660 |\n|siltb10.orl.mmc.com |7573 |\n+--------------------+-----+\n\n"
     ]
    }
   ],
   "source": [
    "# TODO: Replace <FILL IN> with appropriate code\n",
    "\n",
    "\n",
    "host_sum_df = logs_df.groupBy(\"host\").count()\n",
    "host_sum_df = host_sum_df.orderBy(col(\"count\").desc()).limit(10)\n",
    "host_sum_df.show(truncate=False)"
   ]
  },
  {
   "cell_type": "code",
   "execution_count": 0,
   "metadata": {
    "application/vnd.databricks.v1+cell": {
     "cellMetadata": {
      "byteLimit": 2048000,
      "rowLimit": 10000
     },
     "inputWidgets": {},
     "nuid": "80b585ed-7715-4f59-aec3-0d40b80c5886",
     "showTitle": false,
     "title": ""
    },
    "colab": {},
    "colab_type": "code",
    "id": "1dv8Ny3iXvDQ",
    "outputId": "ea532f95-2ff4-4e36-abc5-36297902d8e6"
   },
   "outputs": [
    {
     "output_type": "stream",
     "name": "stdout",
     "output_type": "stream",
     "text": [
      "Out[49]: ''"
     ]
    }
   ],
   "source": [
    "host_sum_pd_df = host_sum_df.toPandas()\n",
    "host_sum_pd_df.iloc[8]['host']"
   ]
  },
  {
   "cell_type": "markdown",
   "metadata": {
    "application/vnd.databricks.v1+cell": {
     "cellMetadata": {
      "byteLimit": 2048000,
      "rowLimit": 10000
     },
     "inputWidgets": {},
     "nuid": "8c996adb-eb59-408e-aa10-144a78b5dddd",
     "showTitle": false,
     "title": ""
    },
    "colab_type": "text",
    "id": "qJNpJU2VXvDT"
   },
   "source": [
    "Looks like we have some empty strings as one of the top host names! This teaches us a valuable lesson to not just check for nulls but also potentially empty strings when data wrangling."
   ]
  },
  {
   "cell_type": "markdown",
   "metadata": {
    "application/vnd.databricks.v1+cell": {
     "cellMetadata": {
      "byteLimit": 2048000,
      "rowLimit": 10000
     },
     "inputWidgets": {},
     "nuid": "9eb76e20-fbda-4563-b5a7-9c01856da145",
     "showTitle": false,
     "title": ""
    },
    "colab_type": "text",
    "id": "Pq5jiBtIXvDU"
   },
   "source": [
    "## Your Turn: Q7: Display the Top 20 Frequent EndPoints\n",
    "\n",
    "Now, let's visualize the number of hits to endpoints (URIs) in the log. To perform this task, start with our `logs_df` and group by the `endpoint` column, aggregate by count, and sort in descending order like the previous question. Also remember to show only the top 20 most frequently accessed endpoints"
   ]
  },
  {
   "cell_type": "code",
   "execution_count": 0,
   "metadata": {
    "application/vnd.databricks.v1+cell": {
     "cellMetadata": {
      "byteLimit": 2048000,
      "rowLimit": 10000
     },
     "inputWidgets": {},
     "nuid": "cdab3f47-b47f-4b14-8093-b81566392560",
     "showTitle": false,
     "title": ""
    },
    "colab": {},
    "colab_type": "code",
    "id": "oxZRXX-AXvDU",
    "outputId": "bae76bd6-6f67-478c-ea46-928f545cf4bc"
   },
   "outputs": [
    {
     "output_type": "stream",
     "name": "stdout",
     "output_type": "stream",
     "text": [
      "+-----------------------------------------------+------+\n|endpoint                                       |count |\n+-----------------------------------------------+------+\n|/images/NASA-logosmall.gif                     |208714|\n|/images/KSC-logosmall.gif                      |164970|\n|/images/MOSAIC-logosmall.gif                   |127908|\n|/images/USA-logosmall.gif                      |127074|\n|/images/WORLD-logosmall.gif                    |125925|\n|/images/ksclogo-medium.gif                     |121572|\n|/ksc.html                                      |83909 |\n|/images/launch-logo.gif                        |76006 |\n|/history/apollo/images/apollo-logo1.gif        |68896 |\n|/shuttle/countdown/                            |64736 |\n|/                                              |63171 |\n|/images/ksclogosmall.gif                       |61393 |\n|/shuttle/missions/missions.html                |47315 |\n|/images/launchmedium.gif                       |40687 |\n|/htbin/cdt_main.pl                             |39871 |\n|/shuttle/missions/sts-69/mission-sts-69.html   |31574 |\n|/shuttle/countdown/liftoff.html                |29865 |\n|/icons/menu.xbm                                |29190 |\n|/shuttle/missions/sts-69/sts-69-patch-small.gif|29118 |\n|/icons/blank.xbm                               |28852 |\n+-----------------------------------------------+------+\n\n"
     ]
    }
   ],
   "source": [
    "# TODO: Replace <FILL IN> with appropriate code\n",
    "\n",
    "paths_df = logs_df.groupBy(\"endpoint\").count()\n",
    "paths_df = paths_df.orderBy(col(\"count\").desc()).limit(20)\n",
    "paths_df.show(truncate=False)"
   ]
  },
  {
   "cell_type": "code",
   "execution_count": 0,
   "metadata": {
    "application/vnd.databricks.v1+cell": {
     "cellMetadata": {
      "byteLimit": 2048000,
      "rowLimit": 10000
     },
     "inputWidgets": {},
     "nuid": "6bc7057a-9277-4461-9400-f00588484b70",
     "showTitle": false,
     "title": ""
    },
    "colab": {},
    "colab_type": "code",
    "id": "DwfjJG2jXvDX",
    "outputId": "d44c9385-5a6b-4157-83bc-d4d6832cc6a6"
   },
   "outputs": [
    {
     "output_type": "display_data",
     "data": {
      "text/html": [
       "<div>\n",
       "<style scoped>\n",
       "    .dataframe tbody tr th:only-of-type {\n",
       "        vertical-align: middle;\n",
       "    }\n",
       "\n",
       "    .dataframe tbody tr th {\n",
       "        vertical-align: top;\n",
       "    }\n",
       "\n",
       "    .dataframe thead th {\n",
       "        text-align: right;\n",
       "    }\n",
       "</style>\n",
       "<table border=\"1\" class=\"dataframe\">\n",
       "  <thead>\n",
       "    <tr style=\"text-align: right;\">\n",
       "      <th></th>\n",
       "      <th>endpoint</th>\n",
       "      <th>count</th>\n",
       "    </tr>\n",
       "  </thead>\n",
       "  <tbody>\n",
       "    <tr>\n",
       "      <th>0</th>\n",
       "      <td>/images/NASA-logosmall.gif</td>\n",
       "      <td>208714</td>\n",
       "    </tr>\n",
       "    <tr>\n",
       "      <th>1</th>\n",
       "      <td>/images/KSC-logosmall.gif</td>\n",
       "      <td>164970</td>\n",
       "    </tr>\n",
       "    <tr>\n",
       "      <th>2</th>\n",
       "      <td>/images/MOSAIC-logosmall.gif</td>\n",
       "      <td>127908</td>\n",
       "    </tr>\n",
       "    <tr>\n",
       "      <th>3</th>\n",
       "      <td>/images/USA-logosmall.gif</td>\n",
       "      <td>127074</td>\n",
       "    </tr>\n",
       "    <tr>\n",
       "      <th>4</th>\n",
       "      <td>/images/WORLD-logosmall.gif</td>\n",
       "      <td>125925</td>\n",
       "    </tr>\n",
       "    <tr>\n",
       "      <th>5</th>\n",
       "      <td>/images/ksclogo-medium.gif</td>\n",
       "      <td>121572</td>\n",
       "    </tr>\n",
       "    <tr>\n",
       "      <th>6</th>\n",
       "      <td>/ksc.html</td>\n",
       "      <td>83909</td>\n",
       "    </tr>\n",
       "    <tr>\n",
       "      <th>7</th>\n",
       "      <td>/images/launch-logo.gif</td>\n",
       "      <td>76006</td>\n",
       "    </tr>\n",
       "    <tr>\n",
       "      <th>8</th>\n",
       "      <td>/history/apollo/images/apollo-logo1.gif</td>\n",
       "      <td>68896</td>\n",
       "    </tr>\n",
       "    <tr>\n",
       "      <th>9</th>\n",
       "      <td>/shuttle/countdown/</td>\n",
       "      <td>64736</td>\n",
       "    </tr>\n",
       "    <tr>\n",
       "      <th>10</th>\n",
       "      <td>/</td>\n",
       "      <td>63171</td>\n",
       "    </tr>\n",
       "    <tr>\n",
       "      <th>11</th>\n",
       "      <td>/images/ksclogosmall.gif</td>\n",
       "      <td>61393</td>\n",
       "    </tr>\n",
       "    <tr>\n",
       "      <th>12</th>\n",
       "      <td>/shuttle/missions/missions.html</td>\n",
       "      <td>47315</td>\n",
       "    </tr>\n",
       "    <tr>\n",
       "      <th>13</th>\n",
       "      <td>/images/launchmedium.gif</td>\n",
       "      <td>40687</td>\n",
       "    </tr>\n",
       "    <tr>\n",
       "      <th>14</th>\n",
       "      <td>/htbin/cdt_main.pl</td>\n",
       "      <td>39871</td>\n",
       "    </tr>\n",
       "    <tr>\n",
       "      <th>15</th>\n",
       "      <td>/shuttle/missions/sts-69/mission-sts-69.html</td>\n",
       "      <td>31574</td>\n",
       "    </tr>\n",
       "    <tr>\n",
       "      <th>16</th>\n",
       "      <td>/shuttle/countdown/liftoff.html</td>\n",
       "      <td>29865</td>\n",
       "    </tr>\n",
       "    <tr>\n",
       "      <th>17</th>\n",
       "      <td>/icons/menu.xbm</td>\n",
       "      <td>29190</td>\n",
       "    </tr>\n",
       "    <tr>\n",
       "      <th>18</th>\n",
       "      <td>/shuttle/missions/sts-69/sts-69-patch-small.gif</td>\n",
       "      <td>29118</td>\n",
       "    </tr>\n",
       "    <tr>\n",
       "      <th>19</th>\n",
       "      <td>/icons/blank.xbm</td>\n",
       "      <td>28852</td>\n",
       "    </tr>\n",
       "  </tbody>\n",
       "</table>\n",
       "</div>"
      ]
     },
     "metadata": {
      "application/vnd.databricks.v1+output": {
       "addedWidgets": {},
       "arguments": {},
       "data": "<div>\n<style scoped>\n    .dataframe tbody tr th:only-of-type {\n        vertical-align: middle;\n    }\n\n    .dataframe tbody tr th {\n        vertical-align: top;\n    }\n\n    .dataframe thead th {\n        text-align: right;\n    }\n</style>\n<table border=\"1\" class=\"dataframe\">\n  <thead>\n    <tr style=\"text-align: right;\">\n      <th></th>\n      <th>endpoint</th>\n      <th>count</th>\n    </tr>\n  </thead>\n  <tbody>\n    <tr>\n      <th>0</th>\n      <td>/images/NASA-logosmall.gif</td>\n      <td>208714</td>\n    </tr>\n    <tr>\n      <th>1</th>\n      <td>/images/KSC-logosmall.gif</td>\n      <td>164970</td>\n    </tr>\n    <tr>\n      <th>2</th>\n      <td>/images/MOSAIC-logosmall.gif</td>\n      <td>127908</td>\n    </tr>\n    <tr>\n      <th>3</th>\n      <td>/images/USA-logosmall.gif</td>\n      <td>127074</td>\n    </tr>\n    <tr>\n      <th>4</th>\n      <td>/images/WORLD-logosmall.gif</td>\n      <td>125925</td>\n    </tr>\n    <tr>\n      <th>5</th>\n      <td>/images/ksclogo-medium.gif</td>\n      <td>121572</td>\n    </tr>\n    <tr>\n      <th>6</th>\n      <td>/ksc.html</td>\n      <td>83909</td>\n    </tr>\n    <tr>\n      <th>7</th>\n      <td>/images/launch-logo.gif</td>\n      <td>76006</td>\n    </tr>\n    <tr>\n      <th>8</th>\n      <td>/history/apollo/images/apollo-logo1.gif</td>\n      <td>68896</td>\n    </tr>\n    <tr>\n      <th>9</th>\n      <td>/shuttle/countdown/</td>\n      <td>64736</td>\n    </tr>\n    <tr>\n      <th>10</th>\n      <td>/</td>\n      <td>63171</td>\n    </tr>\n    <tr>\n      <th>11</th>\n      <td>/images/ksclogosmall.gif</td>\n      <td>61393</td>\n    </tr>\n    <tr>\n      <th>12</th>\n      <td>/shuttle/missions/missions.html</td>\n      <td>47315</td>\n    </tr>\n    <tr>\n      <th>13</th>\n      <td>/images/launchmedium.gif</td>\n      <td>40687</td>\n    </tr>\n    <tr>\n      <th>14</th>\n      <td>/htbin/cdt_main.pl</td>\n      <td>39871</td>\n    </tr>\n    <tr>\n      <th>15</th>\n      <td>/shuttle/missions/sts-69/mission-sts-69.html</td>\n      <td>31574</td>\n    </tr>\n    <tr>\n      <th>16</th>\n      <td>/shuttle/countdown/liftoff.html</td>\n      <td>29865</td>\n    </tr>\n    <tr>\n      <th>17</th>\n      <td>/icons/menu.xbm</td>\n      <td>29190</td>\n    </tr>\n    <tr>\n      <th>18</th>\n      <td>/shuttle/missions/sts-69/sts-69-patch-small.gif</td>\n      <td>29118</td>\n    </tr>\n    <tr>\n      <th>19</th>\n      <td>/icons/blank.xbm</td>\n      <td>28852</td>\n    </tr>\n  </tbody>\n</table>\n</div>",
       "datasetInfos": [],
       "metadata": {},
       "removedWidgets": [],
       "textData": null,
       "type": "htmlSandbox"
      }
     },
     "output_type": "display_data"
    }
   ],
   "source": [
    "paths_pd_df = paths_df.toPandas()\n",
    "paths_pd_df"
   ]
  },
  {
   "cell_type": "markdown",
   "metadata": {
    "application/vnd.databricks.v1+cell": {
     "cellMetadata": {
      "byteLimit": 2048000,
      "rowLimit": 10000
     },
     "inputWidgets": {},
     "nuid": "07d89915-d025-46b2-a026-21ff36800eb3",
     "showTitle": false,
     "title": ""
    },
    "colab_type": "text",
    "id": "LrK4j5aIXvDb"
   },
   "source": [
    "## Your Turn: Q8: Top Ten Error Endpoints\n",
    "\n",
    "What are the top ten endpoints requested which did not have return code 200 (HTTP Status OK)? \n",
    "\n",
    "Create a sorted list containing the endpoints and the number of times that they were accessed with a non-200 return code and show the top ten.\n",
    "\n",
    "Think about the steps that you need to perform to determine which endpoints did not have a 200 return code (combination of filtering, grouping, sorting and selecting the top ten aggregated records)"
   ]
  },
  {
   "cell_type": "code",
   "execution_count": 0,
   "metadata": {
    "application/vnd.databricks.v1+cell": {
     "cellMetadata": {
      "byteLimit": 2048000,
      "rowLimit": 10000
     },
     "inputWidgets": {},
     "nuid": "0ca1e334-9fa0-4d9e-be8f-74107480a408",
     "showTitle": false,
     "title": ""
    },
    "colab": {},
    "colab_type": "code",
    "id": "s57_3ODMXvDc",
    "outputId": "d25e0c40-eaff-459a-9fd4-40666e226d28"
   },
   "outputs": [
    {
     "output_type": "stream",
     "name": "stdout",
     "output_type": "stream",
     "text": [
      "+---------------------------------------+-----+\n|endpoint                               |count|\n+---------------------------------------+-----+\n|/images/NASA-logosmall.gif             |40082|\n|/images/KSC-logosmall.gif              |23763|\n|/images/MOSAIC-logosmall.gif           |15245|\n|/images/USA-logosmall.gif              |15142|\n|/images/WORLD-logosmall.gif            |14773|\n|/images/ksclogo-medium.gif             |13559|\n|/images/launch-logo.gif                |8806 |\n|/history/apollo/images/apollo-logo1.gif|7489 |\n|/                                      |6296 |\n|/images/ksclogosmall.gif               |5669 |\n+---------------------------------------+-----+\n\n"
     ]
    }
   ],
   "source": [
    "# TODO: Replace <FILL IN> with appropriate code\n",
    "\n",
    "not200_df = logs_df.filter(col(\"status_code\") != 200)\n",
    "\n",
    "error_endpoints_freq_df = not200_df.groupBy(\"endpoint\").count()\n",
    "error_endpoints_freq_df = error_endpoints_freq_df.orderBy(col(\"count\").desc()).limit(10)\n",
    "error_endpoints_freq_df.show(truncate=False)\n",
    "\n"
   ]
  },
  {
   "cell_type": "code",
   "execution_count": 0,
   "metadata": {
    "application/vnd.databricks.v1+cell": {
     "cellMetadata": {
      "byteLimit": 2048000,
      "rowLimit": 10000
     },
     "inputWidgets": {},
     "nuid": "0975363b-d34c-4c87-8e9f-f09683d810eb",
     "showTitle": false,
     "title": ""
    },
    "colab": {},
    "colab_type": "code",
    "id": "GeAUAEMBXvDh",
    "outputId": "a5bc7840-a464-47ae-f014-9e3108c2b306"
   },
   "outputs": [
    {
     "output_type": "stream",
     "name": "stdout",
     "output_type": "stream",
     "text": [
      "+---------------------------------------+-----+\n|endpoint                               |count|\n+---------------------------------------+-----+\n|/images/NASA-logosmall.gif             |40082|\n|/images/KSC-logosmall.gif              |23763|\n|/images/MOSAIC-logosmall.gif           |15245|\n|/images/USA-logosmall.gif              |15142|\n|/images/WORLD-logosmall.gif            |14773|\n|/images/ksclogo-medium.gif             |13559|\n|/images/launch-logo.gif                |8806 |\n|/history/apollo/images/apollo-logo1.gif|7489 |\n|/                                      |6296 |\n|/images/ksclogosmall.gif               |5669 |\n+---------------------------------------+-----+\n\n"
     ]
    }
   ],
   "source": [
    "error_endpoints_freq_df.show(truncate=False)"
   ]
  },
  {
   "cell_type": "markdown",
   "metadata": {
    "application/vnd.databricks.v1+cell": {
     "cellMetadata": {
      "byteLimit": 2048000,
      "rowLimit": 10000
     },
     "inputWidgets": {},
     "nuid": "07a2ac4a-84ae-4ee2-acc5-4ed764dc08b2",
     "showTitle": false,
     "title": ""
    },
    "colab_type": "text",
    "id": "ij1wJnMwXvDm"
   },
   "source": [
    "## Example: Number of Unique Daily Hosts\n",
    "\n",
    "For an advanced example, let's look at a way to determine the number of unique hosts in the entire log on a day-by-day basis. This computation will give us counts of the number of unique daily hosts. \n",
    "\n",
    "We'd like a DataFrame sorted by increasing day of the month which includes the day of the month and the associated number of unique hosts for that day. \n",
    "\n",
    "Think about the steps that you need to perform to count the number of different hosts that make requests *each* day.\n",
    "*Since the log only covers a single month, you can ignore the month.*  You may want to use the [`dayofmonth` function](https://spark.apache.org/docs/latest/api/python/pyspark.sql.html#pyspark.sql.functions.dayofmonth) in the `pyspark.sql.functions` module (which we have already imported as __`F`__.\n",
    "\n",
    "\n",
    "**`host_day_df`**\n",
    "\n",
    "A DataFrame with two columns\n",
    "\n",
    "| column | explanation          |\n",
    "| ------ | -------------------- |\n",
    "| `host` | the host name        |\n",
    "| `day`  | the day of the month |\n",
    "\n",
    "There will be one row in this DataFrame for each row in `logs_df`. Essentially, we are just transforming each row of `logs_df`. For example, for this row in `logs_df`:\n",
    "\n",
    "```\n",
    "unicomp6.unicomp.net - - [01/Aug/1995:00:35:41 -0400] \"GET /shuttle/missions/sts-73/news HTTP/1.0\" 302 -\n",
    "```\n",
    "\n",
    "your `host_day_df` should have:\n",
    "\n",
    "```\n",
    "unicomp6.unicomp.net 1\n",
    "```"
   ]
  },
  {
   "cell_type": "code",
   "execution_count": 0,
   "metadata": {
    "application/vnd.databricks.v1+cell": {
     "cellMetadata": {
      "byteLimit": 2048000,
      "rowLimit": 10000
     },
     "inputWidgets": {},
     "nuid": "24e7e10e-4ada-4cf1-95ab-9595a4ce8872",
     "showTitle": false,
     "title": ""
    },
    "colab": {},
    "colab_type": "code",
    "id": "c0i7-gm9XvDm",
    "outputId": "ef93f5a2-e15d-4631-cbb7-e390dd0c28f0"
   },
   "outputs": [
    {
     "output_type": "stream",
     "name": "stdout",
     "output_type": "stream",
     "text": [
      "+-----------------+---+\n|host             |day|\n+-----------------+---+\n|in24.inetnebr.com|1  |\n|uplherc.upl.com  |1  |\n|uplherc.upl.com  |1  |\n|uplherc.upl.com  |1  |\n|uplherc.upl.com  |1  |\n+-----------------+---+\nonly showing top 5 rows\n\n"
     ]
    }
   ],
   "source": [
    "host_day_df = logs_df.select(logs_df.host, \n",
    "                             F.dayofmonth('time').alias('day'))\n",
    "host_day_df.show(5, truncate=False)"
   ]
  },
  {
   "cell_type": "markdown",
   "metadata": {
    "application/vnd.databricks.v1+cell": {
     "cellMetadata": {
      "byteLimit": 2048000,
      "rowLimit": 10000
     },
     "inputWidgets": {},
     "nuid": "8814b62e-dc9d-4bf6-bcde-a3d40ed44b54",
     "showTitle": false,
     "title": ""
    },
    "colab_type": "text",
    "id": "HRu_5V4bXvDs"
   },
   "source": [
    "**`host_day_distinct_df`**\n",
    "\n",
    "This DataFrame has the same columns as `host_day_distinct_df`, but with duplicate (`day`, `host`) rows removed."
   ]
  },
  {
   "cell_type": "code",
   "execution_count": 0,
   "metadata": {
    "application/vnd.databricks.v1+cell": {
     "cellMetadata": {
      "byteLimit": 2048000,
      "rowLimit": 10000
     },
     "inputWidgets": {},
     "nuid": "9e565633-4848-4309-b6df-2a297bbe73a7",
     "showTitle": false,
     "title": ""
    },
    "colab": {},
    "colab_type": "code",
    "id": "be9KD86vXvDt",
    "outputId": "013470c7-93ab-4c4a-945a-af4c212c85d7"
   },
   "outputs": [
    {
     "output_type": "stream",
     "name": "stdout",
     "output_type": "stream",
     "text": [
      "+---------------------------+---+\n|host                       |day|\n+---------------------------+---+\n|in24.inetnebr.com          |1  |\n|slppp6.intermind.net       |1  |\n|piweba4y.prodigy.com       |1  |\n|uplherc.upl.com            |1  |\n|ix-esc-ca2-07.ix.netcom.com|1  |\n+---------------------------+---+\nonly showing top 5 rows\n\n"
     ]
    }
   ],
   "source": [
    "host_day_distinct_df = (host_day_df\n",
    "                          .dropDuplicates())\n",
    "host_day_distinct_df.show(5, truncate=False)"
   ]
  },
  {
   "cell_type": "markdown",
   "metadata": {
    "application/vnd.databricks.v1+cell": {
     "cellMetadata": {
      "byteLimit": 2048000,
      "rowLimit": 10000
     },
     "inputWidgets": {},
     "nuid": "eb6363d8-03a0-44e9-9ec4-497b0a05c9b3",
     "showTitle": false,
     "title": ""
    },
    "colab_type": "text",
    "id": "OlCEA952XvDv"
   },
   "source": [
    "**`daily_unique_hosts_df`**\n",
    "\n",
    "A DataFrame with two columns:\n",
    "\n",
    "| column  | explanation                                        |\n",
    "| ------- | -------------------------------------------------- |\n",
    "| `day`   | the day of the month                               |\n",
    "| `count` | the number of unique requesting hosts for that day |"
   ]
  },
  {
   "cell_type": "code",
   "execution_count": 0,
   "metadata": {
    "application/vnd.databricks.v1+cell": {
     "cellMetadata": {
      "byteLimit": 2048000,
      "rowLimit": 10000
     },
     "inputWidgets": {},
     "nuid": "881346ac-9f07-4064-a6da-be82ad40131c",
     "showTitle": false,
     "title": ""
    },
    "colab": {},
    "colab_type": "code",
    "id": "TrVQJOKPXvDv",
    "outputId": "875f282f-13f6-4f9c-b4ee-a8f867f2955f"
   },
   "outputs": [
    {
     "output_type": "display_data",
     "data": {
      "text/html": [
       "<div>\n",
       "<style scoped>\n",
       "    .dataframe tbody tr th:only-of-type {\n",
       "        vertical-align: middle;\n",
       "    }\n",
       "\n",
       "    .dataframe tbody tr th {\n",
       "        vertical-align: top;\n",
       "    }\n",
       "\n",
       "    .dataframe thead th {\n",
       "        text-align: right;\n",
       "    }\n",
       "</style>\n",
       "<table border=\"1\" class=\"dataframe\">\n",
       "  <thead>\n",
       "    <tr style=\"text-align: right;\">\n",
       "      <th></th>\n",
       "      <th>0</th>\n",
       "      <th>1</th>\n",
       "      <th>2</th>\n",
       "      <th>3</th>\n",
       "      <th>4</th>\n",
       "      <th>5</th>\n",
       "      <th>6</th>\n",
       "      <th>7</th>\n",
       "      <th>8</th>\n",
       "      <th>9</th>\n",
       "      <th>...</th>\n",
       "      <th>21</th>\n",
       "      <th>22</th>\n",
       "      <th>23</th>\n",
       "      <th>24</th>\n",
       "      <th>25</th>\n",
       "      <th>26</th>\n",
       "      <th>27</th>\n",
       "      <th>28</th>\n",
       "      <th>29</th>\n",
       "      <th>30</th>\n",
       "    </tr>\n",
       "  </thead>\n",
       "  <tbody>\n",
       "    <tr>\n",
       "      <th>day</th>\n",
       "      <td>1</td>\n",
       "      <td>2</td>\n",
       "      <td>3</td>\n",
       "      <td>4</td>\n",
       "      <td>5</td>\n",
       "      <td>6</td>\n",
       "      <td>7</td>\n",
       "      <td>8</td>\n",
       "      <td>9</td>\n",
       "      <td>10</td>\n",
       "      <td>...</td>\n",
       "      <td>22</td>\n",
       "      <td>23</td>\n",
       "      <td>24</td>\n",
       "      <td>25</td>\n",
       "      <td>26</td>\n",
       "      <td>27</td>\n",
       "      <td>28</td>\n",
       "      <td>29</td>\n",
       "      <td>30</td>\n",
       "      <td>31</td>\n",
       "    </tr>\n",
       "    <tr>\n",
       "      <th>count</th>\n",
       "      <td>7609</td>\n",
       "      <td>4858</td>\n",
       "      <td>10238</td>\n",
       "      <td>9411</td>\n",
       "      <td>9640</td>\n",
       "      <td>10133</td>\n",
       "      <td>10048</td>\n",
       "      <td>7112</td>\n",
       "      <td>6699</td>\n",
       "      <td>8532</td>\n",
       "      <td>...</td>\n",
       "      <td>6828</td>\n",
       "      <td>6797</td>\n",
       "      <td>7946</td>\n",
       "      <td>8333</td>\n",
       "      <td>6741</td>\n",
       "      <td>6846</td>\n",
       "      <td>6090</td>\n",
       "      <td>4825</td>\n",
       "      <td>5265</td>\n",
       "      <td>5913</td>\n",
       "    </tr>\n",
       "  </tbody>\n",
       "</table>\n",
       "<p>2 rows × 31 columns</p>\n",
       "</div>"
      ]
     },
     "metadata": {
      "application/vnd.databricks.v1+output": {
       "addedWidgets": {},
       "arguments": {},
       "data": "<div>\n<style scoped>\n    .dataframe tbody tr th:only-of-type {\n        vertical-align: middle;\n    }\n\n    .dataframe tbody tr th {\n        vertical-align: top;\n    }\n\n    .dataframe thead th {\n        text-align: right;\n    }\n</style>\n<table border=\"1\" class=\"dataframe\">\n  <thead>\n    <tr style=\"text-align: right;\">\n      <th></th>\n      <th>0</th>\n      <th>1</th>\n      <th>2</th>\n      <th>3</th>\n      <th>4</th>\n      <th>5</th>\n      <th>6</th>\n      <th>7</th>\n      <th>8</th>\n      <th>9</th>\n      <th>...</th>\n      <th>21</th>\n      <th>22</th>\n      <th>23</th>\n      <th>24</th>\n      <th>25</th>\n      <th>26</th>\n      <th>27</th>\n      <th>28</th>\n      <th>29</th>\n      <th>30</th>\n    </tr>\n  </thead>\n  <tbody>\n    <tr>\n      <th>day</th>\n      <td>1</td>\n      <td>2</td>\n      <td>3</td>\n      <td>4</td>\n      <td>5</td>\n      <td>6</td>\n      <td>7</td>\n      <td>8</td>\n      <td>9</td>\n      <td>10</td>\n      <td>...</td>\n      <td>22</td>\n      <td>23</td>\n      <td>24</td>\n      <td>25</td>\n      <td>26</td>\n      <td>27</td>\n      <td>28</td>\n      <td>29</td>\n      <td>30</td>\n      <td>31</td>\n    </tr>\n    <tr>\n      <th>count</th>\n      <td>7609</td>\n      <td>4858</td>\n      <td>10238</td>\n      <td>9411</td>\n      <td>9640</td>\n      <td>10133</td>\n      <td>10048</td>\n      <td>7112</td>\n      <td>6699</td>\n      <td>8532</td>\n      <td>...</td>\n      <td>6828</td>\n      <td>6797</td>\n      <td>7946</td>\n      <td>8333</td>\n      <td>6741</td>\n      <td>6846</td>\n      <td>6090</td>\n      <td>4825</td>\n      <td>5265</td>\n      <td>5913</td>\n    </tr>\n  </tbody>\n</table>\n<p>2 rows × 31 columns</p>\n</div>",
       "datasetInfos": [],
       "metadata": {},
       "removedWidgets": [],
       "textData": null,
       "type": "htmlSandbox"
      }
     },
     "output_type": "display_data"
    }
   ],
   "source": [
    "daily_hosts_df = (host_day_distinct_df\n",
    "                     .groupBy('day')\n",
    "                     .count()\n",
    "                     .sort(\"day\"))\n",
    "daily_hosts_df = daily_hosts_df.toPandas()\n",
    "daily_hosts_df.T"
   ]
  },
  {
   "cell_type": "code",
   "execution_count": 0,
   "metadata": {
    "application/vnd.databricks.v1+cell": {
     "cellMetadata": {
      "byteLimit": 2048000,
      "rowLimit": 10000
     },
     "inputWidgets": {},
     "nuid": "e16baeae-3011-4bec-801b-17602cc7dee4",
     "showTitle": false,
     "title": ""
    },
    "colab": {},
    "colab_type": "code",
    "id": "PUdqNQHiXvDz"
   },
   "outputs": [
    {
     "output_type": "stream",
     "name": "stdout",
     "output_type": "stream",
     "text": [
      "Out[57]: <AxesSubplot:xlabel='day'>"
     ]
    },
    {
     "output_type": "display_data",
     "data": {
      "image/png": "[encoded data removed]"
     },
     "metadata": {
      "application/vnd.databricks.v1+output": {
       "addedWidgets": {},
       "arguments": {},
       "data": "data:image/png;base64,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\n",
       "datasetInfos": [],
       "metadata": {},
       "removedWidgets": [],
       "type": "image"
      }
     },
     "output_type": "display_data"
    }
   ],
   "source": [
    "daily_hosts_df.plot(x='day', y='count', kind='line')"
   ]
  },
  {
   "cell_type": "markdown",
   "metadata": {
    "application/vnd.databricks.v1+cell": {
     "cellMetadata": {
      "byteLimit": 2048000,
      "rowLimit": 10000
     },
     "inputWidgets": {},
     "nuid": "038f9751-2b57-4347-879f-de6993ae12cb",
     "showTitle": false,
     "title": ""
    },
    "colab_type": "text",
    "id": "O5M-HoWHXvD1"
   },
   "source": [
    "## Your Turn: Q9: Counting 404 Response Codes\n",
    "\n",
    "Create a DataFrame containing only log records with a 404 status code (Not Found). \n",
    "\n",
    "Make sure you `cache()` the `not_found_df` dataframe as we will use it in the rest of the exercises here.\n",
    "\n",
    "__How many 404 records are in the log?__"
   ]
  },
  {
   "cell_type": "code",
   "execution_count": 0,
   "metadata": {
    "application/vnd.databricks.v1+cell": {
     "cellMetadata": {
      "byteLimit": 2048000,
      "rowLimit": 10000
     },
     "inputWidgets": {},
     "nuid": "bcc3d1b6-0704-4a18-bbd0-ed650a80ebe5",
     "showTitle": false,
     "title": ""
    },
    "colab": {},
    "colab_type": "code",
    "id": "XovkxrduXvD2",
    "outputId": "662c54ce-9fd3-4d97-dbf5-30a1a77b90f9"
   },
   "outputs": [
    {
     "output_type": "stream",
     "name": "stdout",
     "output_type": "stream",
     "text": [
      "Total 404 responses: 20899\n"
     ]
    }
   ],
   "source": [
    "# TODO: Replace <FILL IN> with appropriate code\n",
    "\n",
    "not_found_df = logs_df.filter(col(\"status_code\") == 404)\n",
    "not_found_df.cache()\n",
    "not_found_count = not_found_df.count()\n",
    "\n",
    "print(('Total 404 responses: {}').format(not_found_count))"
   ]
  },
  {
   "cell_type": "markdown",
   "metadata": {
    "application/vnd.databricks.v1+cell": {
     "cellMetadata": {
      "byteLimit": 2048000,
      "rowLimit": 10000
     },
     "inputWidgets": {},
     "nuid": "8d07b61c-bee5-4bfd-aa68-4490439a145a",
     "showTitle": false,
     "title": ""
    },
    "colab_type": "text",
    "id": "wdwYDLCnXvD5"
   },
   "source": [
    "## Your Turn: Q10: Listing the Top Twenty 404 Response Code Endpoints\n",
    "\n",
    "Using the DataFrame containing only log records with a 404 response code that you cached in Q9, print out a list of the top twenty endpoints that generate the most 404 errors.\n",
    "\n",
    "*Remember, top endpoints should be in sorted order*"
   ]
  },
  {
   "cell_type": "code",
   "execution_count": 0,
   "metadata": {
    "application/vnd.databricks.v1+cell": {
     "cellMetadata": {
      "byteLimit": 2048000,
      "rowLimit": 10000
     },
     "inputWidgets": {},
     "nuid": "e69ce6cf-1a43-435e-8809-d66798da15df",
     "showTitle": false,
     "title": ""
    },
    "colab": {},
    "colab_type": "code",
    "id": "Gv3egQAEXvD5",
    "outputId": "6725f87c-1cd4-4387-f61f-9c7cd58f1f93"
   },
   "outputs": [
    {
     "output_type": "stream",
     "name": "stdout",
     "output_type": "stream",
     "text": [
      "+-----------------------------------------------------------------+-----+\n|endpoint                                                         |count|\n+-----------------------------------------------------------------+-----+\n|/pub/winvn/readme.txt                                            |2004 |\n|/pub/winvn/release.txt                                           |1732 |\n|/shuttle/missions/STS-69/mission-STS-69.html                     |683  |\n|/shuttle/missions/sts-68/ksc-upclose.gif                         |428  |\n|/history/apollo/a-001/a-001-patch-small.gif                      |384  |\n|/history/apollo/sa-1/sa-1-patch-small.gif                        |383  |\n|/://spacelink.msfc.nasa.gov                                      |381  |\n|/images/crawlerway-logo.gif                                      |374  |\n|/elv/DELTA/uncons.htm                                            |372  |\n|/history/apollo/pad-abort-test-1/pad-abort-test-1-patch-small.gif|359  |\n|/images/nasa-logo.gif                                            |319  |\n|/shuttle/resources/orbiters/atlantis.gif                         |314  |\n|/history/apollo/apollo-13.html                                   |304  |\n|/shuttle/resources/orbiters/discovery.gif                        |263  |\n|/shuttle/missions/sts-71/images/KSC-95EC-0916.txt                |190  |\n|/shuttle/resources/orbiters/challenger.gif                       |170  |\n|/shuttle/missions/technology/sts-newsref/stsref-toc.html         |158  |\n|/history/apollo/images/little-joe.jpg                            |150  |\n|/images/lf-logo.gif                                              |143  |\n|/history/apollo/publications/sp-350/sp-350.txt~                  |140  |\n+-----------------------------------------------------------------+-----+\n\n"
     ]
    }
   ],
   "source": [
    "# TODO: Replace <FILL IN> with appropriate code\n",
    "\n",
    "hosts_404_count_df = not_found_df.groupBy(\"endpoint\").count()\n",
    "hosts_404_count_df = hosts_404_count_df.orderBy(col(\"count\").desc()).limit(20)\n",
    "hosts_404_count_df.show(truncate=False)"
   ]
  },
  {
   "cell_type": "markdown",
   "metadata": {
    "application/vnd.databricks.v1+cell": {
     "cellMetadata": {
      "byteLimit": 2048000,
      "rowLimit": 10000
     },
     "inputWidgets": {},
     "nuid": "2d25c238-7167-4d72-a27c-d301c9797947",
     "showTitle": false,
     "title": ""
    },
    "colab_type": "text",
    "id": "UpQl8xaPXvD8"
   },
   "source": [
    "## Your Turn: Q11: Visualizing 404 Errors per Day\n",
    "\n",
    "Let's explore the 404 records temporally now. Similar to the example showing the number of unique daily hosts, break down the 404 requests by day and get the daily counts sorted by day in `errors_by_date_sorted_df`.\n",
    "\n",
    "- Display the results as a pandas dataframe \n",
    "- Also visualize the same dataframe then as a line chart"
   ]
  },
  {
   "cell_type": "code",
   "execution_count": 0,
   "metadata": {
    "application/vnd.databricks.v1+cell": {
     "cellMetadata": {
      "byteLimit": 2048000,
      "rowLimit": 10000
     },
     "inputWidgets": {},
     "nuid": "c1b0b4d1-3fd3-4ee5-aa08-7fd3585e7ac7",
     "showTitle": false,
     "title": ""
    },
    "colab": {},
    "colab_type": "code",
    "id": "69N8tHpzXvD9",
    "outputId": "1746aabb-b068-43c0-bbe6-580c3fce7639"
   },
   "outputs": [
    {
     "output_type": "stream",
     "name": "stdout",
     "output_type": "stream",
     "text": [
      "          date  count\n0   1995-07-01    316\n1   1995-07-02    291\n2   1995-07-03    474\n3   1995-07-04    359\n4   1995-07-05    497\n5   1995-07-06    640\n6   1995-07-07    570\n7   1995-07-08    300\n8   1995-07-09    348\n9   1995-07-10    398\n10  1995-07-11    471\n11  1995-07-12    471\n12  1995-07-13    532\n13  1995-07-14    413\n14  1995-07-15    254\n15  1995-07-16    257\n16  1995-07-17    406\n17  1995-07-18    465\n18  1995-07-19    639\n19  1995-07-20    428\n20  1995-07-21    334\n21  1995-07-22    192\n22  1995-07-23    233\n23  1995-07-24    328\n24  1995-07-25    461\n25  1995-07-26    336\n26  1995-07-27    336\n27  1995-07-28     94\n28  1995-08-01    243\n29  1995-08-03    304\n30  1995-08-04    346\n31  1995-08-05    236\n32  1995-08-06    373\n33  1995-08-07    537\n34  1995-08-08    391\n35  1995-08-09    279\n36  1995-08-10    315\n37  1995-08-11    263\n38  1995-08-12    196\n39  1995-08-13    216\n40  1995-08-14    287\n41  1995-08-15    327\n42  1995-08-16    259\n43  1995-08-17    271\n44  1995-08-18    256\n45  1995-08-19    209\n46  1995-08-20    312\n47  1995-08-21    305\n48  1995-08-22    288\n49  1995-08-23    345\n50  1995-08-24    420\n51  1995-08-25    415\n52  1995-08-26    366\n53  1995-08-27    370\n54  1995-08-28    410\n55  1995-08-29    420\n56  1995-08-30    571\n57  1995-08-31    526\n"
     ]
    },
    {
     "output_type": "display_data",
     "data": {
      "image/png": "[encoded data removed]"
     },
     "metadata": {
      "application/vnd.databricks.v1+output": {
       "addedWidgets": {},
       "arguments": {},
       "data": "data:image/png;base64,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\n",
       "datasetInfos": [],
       "metadata": {},
       "removedWidgets": [],
       "type": "image"
      }
     },
     "output_type": "display_data"
    }
   ],
   "source": [
    "# TODO: Replace <FILL IN> with appropriate code\n",
    "\n",
    "not_found_df = not_found_df.withColumn(\"date\", to_date(col(\"time\")))\n",
    "errors_by_date_df = not_found_df.groupBy(\"date\").count()\n",
    "errors_by_date_sorted_df = errors_by_date_df.orderBy(col(\"date\"))\n",
    "errors_by_date_pd_df = errors_by_date_sorted_df.toPandas()\n",
    "print(errors_by_date_pd_df)\n",
    "\n",
    "plt.figure(figsize=(10, 6))\n",
    "plt.plot(errors_by_date_pd_df[\"date\"], errors_by_date_pd_df[\"count\"], marker='o')\n",
    "plt.xlabel(\"Date\")\n",
    "plt.ylabel(\"Count\")\n",
    "plt.title(\"404 Errors per Day\")\n",
    "plt.xticks(rotation=45)\n",
    "plt.grid(True)\n",
    "plt.tight_layout()\n",
    "plt.show()\n"
   ]
  },
  {
   "cell_type": "code",
   "execution_count": 0,
   "metadata": {
    "application/vnd.databricks.v1+cell": {
     "cellMetadata": {
      "byteLimit": 2048000,
      "rowLimit": 10000
     },
     "inputWidgets": {},
     "nuid": "00f53faa-ad49-4d0d-af48-6e8209439971",
     "showTitle": false,
     "title": ""
    },
    "colab": {},
    "colab_type": "code",
    "id": "y-pFX8dJXvD_"
   },
   "outputs": [
    {
     "output_type": "stream",
     "name": "stdout",
     "output_type": "stream",
     "text": [
      "+----------+-----+\n|      date|count|\n+----------+-----+\n|1995-07-01|  316|\n|1995-07-02|  291|\n|1995-07-03|  474|\n|1995-07-04|  359|\n|1995-07-05|  497|\n|1995-07-06|  640|\n|1995-07-07|  570|\n|1995-07-08|  300|\n|1995-07-09|  348|\n|1995-07-10|  398|\n|1995-07-11|  471|\n|1995-07-12|  471|\n|1995-07-13|  532|\n|1995-07-14|  413|\n|1995-07-15|  254|\n|1995-07-16|  257|\n|1995-07-17|  406|\n|1995-07-18|  465|\n|1995-07-19|  639|\n|1995-07-20|  428|\n+----------+-----+\nonly showing top 20 rows\n\n"
     ]
    }
   ],
   "source": [
    "errors_by_date_sorted_df.show()"
   ]
  },
  {
   "cell_type": "markdown",
   "metadata": {
    "application/vnd.databricks.v1+cell": {
     "cellMetadata": {
      "byteLimit": 2048000,
      "rowLimit": 10000
     },
     "inputWidgets": {},
     "nuid": "e5d98c1b-d2f6-436f-81ad-2fcc7abb73a6",
     "showTitle": false,
     "title": ""
    },
    "colab_type": "text",
    "id": "lRY2RYHeXvED"
   },
   "source": [
    "## Your Turn: Q12: Visualizing Hourly 404 Errors\n",
    "\n",
    "Using the DataFrame `not_found_df` you cached in the Q10, group and sort by hour of the day in increasing order, to create a DataFrame containing the total number of 404 responses for HTTP requests for each hour of the day (midnight starts at 0). \n",
    "\n",
    "- Remember to check out the [__hour__](https://spark.apache.org/docs/latest/api/python/pyspark.sql.html#pyspark.sql.functions.hour) function and use it (we have already imported __`pyspark.sql.functions`__ as __`F`__ earlier\n",
    "- Output should be a bar graph displaying the total number of 404 errors per hour"
   ]
  },
  {
   "cell_type": "code",
   "execution_count": 0,
   "metadata": {
    "application/vnd.databricks.v1+cell": {
     "cellMetadata": {
      "byteLimit": 2048000,
      "rowLimit": 10000
     },
     "inputWidgets": {},
     "nuid": "30069eeb-4647-4fbe-895a-b3a5e1f8aa4f",
     "showTitle": false,
     "title": ""
    },
    "colab": {},
    "colab_type": "code",
    "id": "T7Y0Dbz3XvEF",
    "outputId": "873d829e-6b6d-4dc1-b894-0796ef91aec1"
   },
   "outputs": [
    {
     "output_type": "display_data",
     "data": {
      "image/png": "[encoded data removed]"
     },
     "metadata": {
      "application/vnd.databricks.v1+output": {
       "addedWidgets": {},
       "arguments": {},
       "data": "data:image/png;base64,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\n",
       "datasetInfos": [],
       "metadata": {},
       "removedWidgets": [],
       "type": "image"
      }
     },
     "output_type": "display_data"
    }
   ],
   "source": [
    "# TODO: Replace <FILL IN> with appropriate code\n",
    "from pyspark.sql.functions import col, hour\n",
    "\n",
    "hourly_avg_errors_df = not_found_df.withColumn(\"hour\", hour(\"time\"))\n",
    "hourly_avg_errors_grouped_df = hourly_avg_errors_df.groupBy(\"hour\").count()\n",
    "hourly_avg_errors_sorted_df = hourly_avg_errors_grouped_df.orderBy(\"hour\")\n",
    "hourly_avg_errors_pd_df = hourly_avg_errors_sorted_df.toPandas()\n",
    "\n",
    "\n",
    "plt.figure(figsize=(10, 6))\n",
    "plt.bar(hourly_avg_errors_pd_df[\"hour\"], hourly_avg_errors_pd_df[\"count\"])\n",
    "plt.xlabel(\"Hour\")\n",
    "plt.ylabel(\"Count\")\n",
    "plt.title(\"Hourly 404 Errors\")\n",
    "plt.xticks(hourly_avg_errors_pd_df[\"hour\"])\n",
    "plt.grid(True)\n",
    "plt.tight_layout()\n",
    "plt.show()\n"
   ]
  },
  {
   "cell_type": "code",
   "execution_count": 0,
   "metadata": {
    "application/vnd.databricks.v1+cell": {
     "cellMetadata": {
      "byteLimit": 2048000,
      "rowLimit": 10000
     },
     "inputWidgets": {},
     "nuid": "fb71907d-4db5-4508-9ece-d1ef5d8dde60",
     "showTitle": false,
     "title": ""
    },
    "colab": {},
    "colab_type": "code",
    "id": "R1vsAPs1XvEJ"
   },
   "outputs": [
    {
     "output_type": "display_data",
     "data": {
      "text/plain": [
       ""
      ]
     },
     "metadata": {
      "application/vnd.databricks.v1+output": {
       "arguments": {},
       "data": "",
       "errorSummary": "Command skipped",
       "errorTraceType": "ansi",
       "metadata": {},
       "type": "ipynbError"
      }
     },
     "output_type": "display_data"
    }
   ],
   "source": [
    "hourly_avg_errors_sorted_df.show()"
   ]
  },
  {
   "cell_type": "markdown",
   "metadata": {
    "application/vnd.databricks.v1+cell": {
     "cellMetadata": {
      "byteLimit": 2048000,
      "rowLimit": 10000
     },
     "inputWidgets": {},
     "nuid": "ffcedf36-a777-4c76-982a-38f46fbb8bc5",
     "showTitle": false,
     "title": ""
    },
    "colab_type": "text",
    "id": "GYWAsa8mY425"
   },
   "source": [
    "# Load Data"
   ]
  },
  {
   "cell_type": "markdown",
   "metadata": {
    "application/vnd.databricks.v1+cell": {
     "cellMetadata": {
      "byteLimit": 2048000,
      "rowLimit": 10000
     },
     "inputWidgets": {},
     "nuid": "1df27ce9-848f-4f52-8a7d-bfb3a3129744",
     "showTitle": false,
     "title": ""
    },
    "colab_type": "text",
    "id": "woEUWlYCY9h0"
   },
   "source": [
    "Up till now, you have completed data extraction, data transformation, and some exploratory data analysis. In the end of this project, we will complete the last step of ETL process: data loading, so the data after  your processing, wrangling, cleaning, can be used by either yourself or other colleagues later. Since we have gone through a few iteration of data processing and data wrangling, it is a good idea to make sure which one is the current dataframe you want to store and load."
   ]
  },
  {
   "cell_type": "markdown",
   "metadata": {
    "application/vnd.databricks.v1+cell": {
     "cellMetadata": {
      "byteLimit": 2048000,
      "rowLimit": 10000
     },
     "inputWidgets": {},
     "nuid": "778c7945-653d-46e8-b121-558fea588e8f",
     "showTitle": false,
     "title": ""
    },
    "colab_type": "text",
    "id": "gde50KFwZCyR"
   },
   "source": [
    "## Your Turn: Q13: Check data integrity before loading"
   ]
  },
  {
   "cell_type": "code",
   "execution_count": 0,
   "metadata": {
    "application/vnd.databricks.v1+cell": {
     "cellMetadata": {
      "byteLimit": 2048000,
      "rowLimit": 10000
     },
     "inputWidgets": {},
     "nuid": "a51552a5-fcc8-425f-b7c9-8ef9afc12212",
     "showTitle": false,
     "title": ""
    },
    "colab": {},
    "colab_type": "code",
    "id": "Jp9HtJDZZDgm",
    "outputId": "d94fda2f-0e91-401a-eb33-dfa58e5b8f0d"
   },
   "outputs": [
    {
     "output_type": "stream",
     "name": "stdout",
     "output_type": "stream",
     "text": [
      "24\n['hour', 'count']\n"
     ]
    }
   ],
   "source": [
    "# TODO: Review the data frame you will like to store and load. Replace <FILL IN> with appropriate code\n",
    "\n",
    "print(hourly_avg_errors_sorted_df.count())\n",
    "print(hourly_avg_errors_sorted_df.columns)"
   ]
  },
  {
   "cell_type": "markdown",
   "metadata": {
    "application/vnd.databricks.v1+cell": {
     "cellMetadata": {
      "byteLimit": 2048000,
      "rowLimit": 10000
     },
     "inputWidgets": {},
     "nuid": "2e5e4114-a47c-4cfd-a760-cd339120ed67",
     "showTitle": false,
     "title": ""
    },
    "colab_type": "text",
    "id": "6KT_ajIJZFsi"
   },
   "source": [
    "To save your dataframe in CSV file format, you call simply replace the name of the dataframe and assign file name in the following:"
   ]
  },
  {
   "cell_type": "markdown",
   "metadata": {
    "application/vnd.databricks.v1+cell": {
     "cellMetadata": {
      "byteLimit": 2048000,
      "rowLimit": 10000
     },
     "inputWidgets": {},
     "nuid": "bfcb36d4-57ee-4055-a58f-115a0d6e3b8d",
     "showTitle": false,
     "title": ""
    },
    "colab_type": "text",
    "id": "GuiBAZEqZJT1"
   },
   "source": [
    "## Your Turn: Q14: Save your data as a CSV file"
   ]
  },
  {
   "cell_type": "code",
   "execution_count": 0,
   "metadata": {
    "application/vnd.databricks.v1+cell": {
     "cellMetadata": {
      "byteLimit": 2048000,
      "rowLimit": 10000
     },
     "inputWidgets": {},
     "nuid": "ffed0bf2-6fbc-423f-b3ad-6a77c2fd2db7",
     "showTitle": false,
     "title": ""
    },
    "colab": {},
    "colab_type": "code",
    "id": "DHLpKGA7ZP8P"
   },
   "outputs": [],
   "source": [
    "# TODO: Review the data frame you will like to store and load. Replace <FILL IN> with appropriate code\n",
    "\n",
    "hourly_avg_errors_sorted_df.write.save(\"hourly_avg_errors_sorted_df\", format = 'csv')"
   ]
  },
  {
   "cell_type": "code",
   "execution_count": 0,
   "metadata": {
    "application/vnd.databricks.v1+cell": {
     "cellMetadata": {
      "byteLimit": 2048000,
      "rowLimit": 10000
     },
     "inputWidgets": {},
     "nuid": "159fedc1-e52c-4d0e-863c-38eab851480d",
     "showTitle": false,
     "title": ""
    },
    "colab": {},
    "colab_type": "code",
    "id": "EJN6Xy76ZTkW"
   },
   "outputs": [
    {
     "output_type": "display_data",
     "data": {
      "text/plain": [
       ""
      ]
     },
     "metadata": {
      "application/vnd.databricks.v1+output": {
       "arguments": {},
       "data": "",
       "errorSummary": "Command skipped",
       "errorTraceType": "ansi",
       "metadata": {},
       "type": "ipynbError"
      }
     },
     "output_type": "display_data"
    }
   ],
   "source": [
    "# TODO: Check to see if you have stored and loaded the CSV file successfully by checking the first 5 rows. Replace <FILL IN> with appropriate code\n",
    "\n",
    "spark_session\\\n",
    "\t.sparkContext\\\n",
    "\t.textFile(<\"hourly_avg_errors_sorted_df\">)\\\n",
    "\t.take(5)"
   ]
  },
  {
   "cell_type": "markdown",
   "metadata": {
    "application/vnd.databricks.v1+cell": {
     "cellMetadata": {
      "byteLimit": 2048000,
      "rowLimit": 10000
     },
     "inputWidgets": {},
     "nuid": "241cc648-8c74-4577-9b1f-fd0f3bc4f9e6",
     "showTitle": false,
     "title": ""
    },
    "colab_type": "text",
    "id": "nkz9rKU3ZV7S"
   },
   "source": [
    "Similarly, you can also store and load your dataframe as a JSON file by completing the following:"
   ]
  },
  {
   "cell_type": "markdown",
   "metadata": {
    "application/vnd.databricks.v1+cell": {
     "cellMetadata": {
      "byteLimit": 2048000,
      "rowLimit": 10000
     },
     "inputWidgets": {},
     "nuid": "84188c43-e7ce-4146-bd60-39e35004bc2f",
     "showTitle": false,
     "title": ""
    },
    "colab_type": "text",
    "id": "l6N5oSjgZaiX"
   },
   "source": [
    "## Your Turn: Q15: Save your data as a JSON file"
   ]
  },
  {
   "cell_type": "code",
   "execution_count": 0,
   "metadata": {
    "application/vnd.databricks.v1+cell": {
     "cellMetadata": {
      "byteLimit": 2048000,
      "rowLimit": 10000
     },
     "inputWidgets": {},
     "nuid": "105ffa1c-c256-4161-b0d4-595a81c77ba6",
     "showTitle": false,
     "title": ""
    },
    "colab": {},
    "colab_type": "code",
    "id": "nPp5cHZeZZCQ"
   },
   "outputs": [
    {
     "output_type": "display_data",
     "data": {
      "text/plain": [
       ""
      ]
     },
     "metadata": {
      "application/vnd.databricks.v1+output": {
       "arguments": {},
       "data": "",
       "errorSummary": "Command skipped",
       "errorTraceType": "ansi",
       "metadata": {},
       "type": "ipynbError"
      }
     },
     "output_type": "display_data"
    }
   ],
   "source": [
    "# TODO: Review the data frame you will like to store and load. Replace <FILL IN> with appropriate code\n",
    "\n",
    "<FILL IN>.write.save(\"hourly_avg_errors_sorted_df\", format = 'json')"
   ]
  },
  {
   "cell_type": "code",
   "execution_count": 0,
   "metadata": {
    "application/vnd.databricks.v1+cell": {
     "cellMetadata": {
      "byteLimit": 2048000,
      "rowLimit": 10000
     },
     "inputWidgets": {},
     "nuid": "5a0194f0-96b2-4d36-aa8f-55b5d7376a78",
     "showTitle": false,
     "title": ""
    },
    "colab": {},
    "colab_type": "code",
    "id": "56w3oyaOZgiE"
   },
   "outputs": [
    {
     "output_type": "display_data",
     "data": {
      "text/plain": [
       ""
      ]
     },
     "metadata": {
      "application/vnd.databricks.v1+output": {
       "arguments": {},
       "data": "",
       "errorSummary": "Command skipped",
       "errorTraceType": "ansi",
       "metadata": {},
       "type": "ipynbError"
      }
     },
     "output_type": "display_data"
    }
   ],
   "source": [
    "# TODO: Similarly, check the first 5 rows in the JSON file. Replace <FILL IN> with appropriate code\n",
    "\n",
    "spark_session\\\n",
    "\t.sparkContext\\\n",
    "\t.textFile(<\"hourly_avg_errors_sorted_df\">)\\\n",
    "\t.take(5)"
   ]
  },
  {
   "cell_type": "markdown",
   "metadata": {
    "application/vnd.databricks.v1+cell": {
     "cellMetadata": {
      "byteLimit": 2048000,
      "rowLimit": 10000
     },
     "inputWidgets": {},
     "nuid": "ae6a03ac-34f0-4ad8-94c9-353ba849ad0c",
     "showTitle": false,
     "title": ""
    },
    "colab_type": "text",
    "id": "P9zYYUIcZjUU"
   },
   "source": [
    "There is a lot more you can do about data storing and loading in terms of data formats and settings. Check out more about these options [__here__](https://spark.apache.org/docs/latest/sql-data-sources-load-save-functions.html)."
   ]
  },
  {
   "cell_type": "markdown",
   "metadata": {
    "application/vnd.databricks.v1+cell": {
     "cellMetadata": {
      "byteLimit": 2048000,
      "rowLimit": 10000
     },
     "inputWidgets": {},
     "nuid": "da7cfe65-762f-4ddc-b8b0-ef10f7092b43",
     "showTitle": false,
     "title": ""
    },
    "colab_type": "text",
    "id": "lLXpioWzZlug"
   },
   "source": [
    "### Congratulations! You have finished the mini-project for this unit!"
   ]
  }
 ],
 "metadata": {
  "application/vnd.databricks.v1+notebook": {
   "dashboards": [],
   "language": "python",
   "notebookMetadata": {
    "pythonIndentUnit": 4
   },
   "notebookName": "Mini_Project_Data_Wrangling_at_Scale_with_Spark",
   "widgets": {}
  },
  "colab": {
   "name": "Mini_Project_Data_Wrangling_at_Scale_with_Spark_checkpoint.ipynb",
   "provenance": []
  },
  "kernelspec": {
   "display_name": "Python 3",
   "language": "python",
   "name": "python3"
  },
  "language_info": {
   "codemirror_mode": {
    "name": "ipython",
    "version": 3
   },
   "file_extension": ".py",
   "mimetype": "text/x-python",
   "name": "python",
   "nbconvert_exporter": "python",
   "pygments_lexer": "ipython3",
   "version": "3.7.6"
  },
  "name": "Mini_Project_Data_Wrangling_at_Scale_with_Spark_Solutions_checkpoint",
  "notebookId": 3935650049725854
 },
 "nbformat": 4,
 "nbformat_minor": 0
}
